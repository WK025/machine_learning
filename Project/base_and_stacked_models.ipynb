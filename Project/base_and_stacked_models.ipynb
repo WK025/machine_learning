{
 "cells": [
  {
   "cell_type": "code",
   "execution_count": 1,
   "metadata": {},
   "outputs": [],
   "source": [
    "import pandas as pd\n",
    "import numpy as np\n",
    "import plotly.express as px\n",
    "import matplotlib.pyplot as plt\n",
    "import seaborn as sns\n",
    "from sklearn.metrics import confusion_matrix\n",
    "from sklearn.model_selection import train_test_split\n",
    "from sklearn.preprocessing import LabelEncoder\n",
    "from sklearn.model_selection import cross_val_score, RepeatedKFold\n",
    "from sklearn.dummy import DummyClassifier\n",
    "from sklearn.linear_model import LogisticRegression\n",
    "from sklearn.naive_bayes import GaussianNB\n",
    "from sklearn.neighbors import KNeighborsClassifier\n",
    "from sklearn.tree import DecisionTreeClassifier\n",
    "from sklearn.ensemble import RandomForestClassifier, GradientBoostingClassifier, BaggingClassifier, StackingClassifier, AdaBoostClassifier\n",
    "from sklearn.svm import SVC\n",
    "from xgboost import XGBClassifier\n",
    "from sklearn.discriminant_analysis import QuadraticDiscriminantAnalysis\n",
    "from sklearn.neural_network import MLPClassifier\n",
    "from sklearn.inspection import permutation_importance\n",
    "from sklearn.metrics import accuracy_score, classification_report\n",
    "from sklearn.exceptions import ConvergenceWarning\n",
    "import warnings\n",
    "warnings.filterwarnings(\"ignore\", category=ConvergenceWarning)\n",
    "warnings.filterwarnings(\"ignore\")\n",
    "import random\n",
    "random.seed(100)"
   ]
  },
  {
   "cell_type": "code",
   "execution_count": 2,
   "metadata": {},
   "outputs": [
    {
     "data": {
      "text/html": [
       "<div>\n",
       "<style scoped>\n",
       "    .dataframe tbody tr th:only-of-type {\n",
       "        vertical-align: middle;\n",
       "    }\n",
       "\n",
       "    .dataframe tbody tr th {\n",
       "        vertical-align: top;\n",
       "    }\n",
       "\n",
       "    .dataframe thead th {\n",
       "        text-align: right;\n",
       "    }\n",
       "</style>\n",
       "<table border=\"1\" class=\"dataframe\">\n",
       "  <thead>\n",
       "    <tr style=\"text-align: right;\">\n",
       "      <th></th>\n",
       "      <th>sex</th>\n",
       "      <th>age</th>\n",
       "      <th>height</th>\n",
       "      <th>weight</th>\n",
       "      <th>waistline</th>\n",
       "      <th>sight_left</th>\n",
       "      <th>sight_right</th>\n",
       "      <th>hear_left</th>\n",
       "      <th>hear_right</th>\n",
       "      <th>SBP</th>\n",
       "      <th>...</th>\n",
       "      <th>LDL_chole</th>\n",
       "      <th>triglyceride</th>\n",
       "      <th>hemoglobin</th>\n",
       "      <th>urine_protein</th>\n",
       "      <th>serum_creatinine</th>\n",
       "      <th>SGOT_AST</th>\n",
       "      <th>SGOT_ALT</th>\n",
       "      <th>gamma_GTP</th>\n",
       "      <th>SMK_stat_type_cd</th>\n",
       "      <th>DRK_YN</th>\n",
       "    </tr>\n",
       "  </thead>\n",
       "  <tbody>\n",
       "    <tr>\n",
       "      <th>0</th>\n",
       "      <td>0</td>\n",
       "      <td>50</td>\n",
       "      <td>150</td>\n",
       "      <td>50</td>\n",
       "      <td>72.0</td>\n",
       "      <td>2.0</td>\n",
       "      <td>1.5</td>\n",
       "      <td>1.0</td>\n",
       "      <td>1.0</td>\n",
       "      <td>120.0</td>\n",
       "      <td>...</td>\n",
       "      <td>138.0</td>\n",
       "      <td>57.0</td>\n",
       "      <td>13.3</td>\n",
       "      <td>1.0</td>\n",
       "      <td>0.6</td>\n",
       "      <td>17.0</td>\n",
       "      <td>8.0</td>\n",
       "      <td>26.0</td>\n",
       "      <td>0</td>\n",
       "      <td>1</td>\n",
       "    </tr>\n",
       "    <tr>\n",
       "      <th>1</th>\n",
       "      <td>0</td>\n",
       "      <td>35</td>\n",
       "      <td>160</td>\n",
       "      <td>60</td>\n",
       "      <td>81.0</td>\n",
       "      <td>0.5</td>\n",
       "      <td>0.6</td>\n",
       "      <td>1.0</td>\n",
       "      <td>1.0</td>\n",
       "      <td>93.0</td>\n",
       "      <td>...</td>\n",
       "      <td>117.0</td>\n",
       "      <td>30.0</td>\n",
       "      <td>11.3</td>\n",
       "      <td>1.0</td>\n",
       "      <td>0.8</td>\n",
       "      <td>20.0</td>\n",
       "      <td>7.0</td>\n",
       "      <td>10.0</td>\n",
       "      <td>0</td>\n",
       "      <td>1</td>\n",
       "    </tr>\n",
       "    <tr>\n",
       "      <th>2</th>\n",
       "      <td>0</td>\n",
       "      <td>30</td>\n",
       "      <td>160</td>\n",
       "      <td>60</td>\n",
       "      <td>80.0</td>\n",
       "      <td>1.0</td>\n",
       "      <td>1.2</td>\n",
       "      <td>1.0</td>\n",
       "      <td>1.0</td>\n",
       "      <td>103.0</td>\n",
       "      <td>...</td>\n",
       "      <td>92.0</td>\n",
       "      <td>103.0</td>\n",
       "      <td>14.0</td>\n",
       "      <td>1.0</td>\n",
       "      <td>0.6</td>\n",
       "      <td>20.0</td>\n",
       "      <td>34.0</td>\n",
       "      <td>17.0</td>\n",
       "      <td>0</td>\n",
       "      <td>1</td>\n",
       "    </tr>\n",
       "    <tr>\n",
       "      <th>3</th>\n",
       "      <td>0</td>\n",
       "      <td>55</td>\n",
       "      <td>155</td>\n",
       "      <td>55</td>\n",
       "      <td>76.0</td>\n",
       "      <td>0.8</td>\n",
       "      <td>0.8</td>\n",
       "      <td>1.0</td>\n",
       "      <td>1.0</td>\n",
       "      <td>120.0</td>\n",
       "      <td>...</td>\n",
       "      <td>95.0</td>\n",
       "      <td>221.0</td>\n",
       "      <td>13.7</td>\n",
       "      <td>1.0</td>\n",
       "      <td>0.6</td>\n",
       "      <td>20.0</td>\n",
       "      <td>14.0</td>\n",
       "      <td>27.0</td>\n",
       "      <td>0</td>\n",
       "      <td>1</td>\n",
       "    </tr>\n",
       "    <tr>\n",
       "      <th>4</th>\n",
       "      <td>0</td>\n",
       "      <td>45</td>\n",
       "      <td>160</td>\n",
       "      <td>60</td>\n",
       "      <td>84.0</td>\n",
       "      <td>1.2</td>\n",
       "      <td>1.2</td>\n",
       "      <td>1.0</td>\n",
       "      <td>1.0</td>\n",
       "      <td>121.0</td>\n",
       "      <td>...</td>\n",
       "      <td>133.0</td>\n",
       "      <td>274.0</td>\n",
       "      <td>13.4</td>\n",
       "      <td>1.0</td>\n",
       "      <td>0.7</td>\n",
       "      <td>14.0</td>\n",
       "      <td>11.0</td>\n",
       "      <td>16.0</td>\n",
       "      <td>0</td>\n",
       "      <td>1</td>\n",
       "    </tr>\n",
       "  </tbody>\n",
       "</table>\n",
       "<p>5 rows × 24 columns</p>\n",
       "</div>"
      ],
      "text/plain": [
       "   sex  age  height  weight  waistline  sight_left  sight_right  hear_left  \\\n",
       "0    0   50     150      50       72.0         2.0          1.5        1.0   \n",
       "1    0   35     160      60       81.0         0.5          0.6        1.0   \n",
       "2    0   30     160      60       80.0         1.0          1.2        1.0   \n",
       "3    0   55     155      55       76.0         0.8          0.8        1.0   \n",
       "4    0   45     160      60       84.0         1.2          1.2        1.0   \n",
       "\n",
       "   hear_right    SBP  ...  LDL_chole  triglyceride  hemoglobin  urine_protein  \\\n",
       "0         1.0  120.0  ...      138.0          57.0        13.3            1.0   \n",
       "1         1.0   93.0  ...      117.0          30.0        11.3            1.0   \n",
       "2         1.0  103.0  ...       92.0         103.0        14.0            1.0   \n",
       "3         1.0  120.0  ...       95.0         221.0        13.7            1.0   \n",
       "4         1.0  121.0  ...      133.0         274.0        13.4            1.0   \n",
       "\n",
       "   serum_creatinine  SGOT_AST  SGOT_ALT  gamma_GTP  SMK_stat_type_cd  DRK_YN  \n",
       "0               0.6      17.0       8.0       26.0                 0       1  \n",
       "1               0.8      20.0       7.0       10.0                 0       1  \n",
       "2               0.6      20.0      34.0       17.0                 0       1  \n",
       "3               0.6      20.0      14.0       27.0                 0       1  \n",
       "4               0.7      14.0      11.0       16.0                 0       1  \n",
       "\n",
       "[5 rows x 24 columns]"
      ]
     },
     "execution_count": 2,
     "metadata": {},
     "output_type": "execute_result"
    }
   ],
   "source": [
    "df = pd.read_csv(\"datasets/downsampled_smoking_driking_dataset.csv\")\n",
    "\n",
    "label_encoder = LabelEncoder()\n",
    "df['SMK_stat_type_cd'] = label_encoder.fit_transform(df['SMK_stat_type_cd'])\n",
    "df.head()"
   ]
  },
  {
   "cell_type": "markdown",
   "metadata": {},
   "source": [
    "# Feature Selection"
   ]
  },
  {
   "cell_type": "code",
   "execution_count": 4,
   "metadata": {},
   "outputs": [
    {
     "name": "stdout",
     "output_type": "stream",
     "text": [
      "Drop column 'tot_chole'\n"
     ]
    },
    {
     "data": {
      "text/html": [
       "<div>\n",
       "<style scoped>\n",
       "    .dataframe tbody tr th:only-of-type {\n",
       "        vertical-align: middle;\n",
       "    }\n",
       "\n",
       "    .dataframe tbody tr th {\n",
       "        vertical-align: top;\n",
       "    }\n",
       "\n",
       "    .dataframe thead th {\n",
       "        text-align: right;\n",
       "    }\n",
       "</style>\n",
       "<table border=\"1\" class=\"dataframe\">\n",
       "  <thead>\n",
       "    <tr style=\"text-align: right;\">\n",
       "      <th></th>\n",
       "      <th>sex</th>\n",
       "      <th>age</th>\n",
       "      <th>waistline</th>\n",
       "      <th>sight_left</th>\n",
       "      <th>sight_right</th>\n",
       "      <th>hear_left</th>\n",
       "      <th>hear_right</th>\n",
       "      <th>SBP</th>\n",
       "      <th>DBP</th>\n",
       "      <th>BLDS</th>\n",
       "      <th>...</th>\n",
       "      <th>triglyceride</th>\n",
       "      <th>hemoglobin</th>\n",
       "      <th>urine_protein</th>\n",
       "      <th>serum_creatinine</th>\n",
       "      <th>SGOT_AST</th>\n",
       "      <th>SGOT_ALT</th>\n",
       "      <th>gamma_GTP</th>\n",
       "      <th>SMK_stat_type_cd</th>\n",
       "      <th>DRK_YN</th>\n",
       "      <th>bmi</th>\n",
       "    </tr>\n",
       "  </thead>\n",
       "  <tbody>\n",
       "    <tr>\n",
       "      <th>0</th>\n",
       "      <td>0</td>\n",
       "      <td>50</td>\n",
       "      <td>72.0</td>\n",
       "      <td>2.0</td>\n",
       "      <td>1.5</td>\n",
       "      <td>1.0</td>\n",
       "      <td>1.0</td>\n",
       "      <td>120.0</td>\n",
       "      <td>86.0</td>\n",
       "      <td>82.0</td>\n",
       "      <td>...</td>\n",
       "      <td>57.0</td>\n",
       "      <td>13.3</td>\n",
       "      <td>1.0</td>\n",
       "      <td>0.6</td>\n",
       "      <td>17.0</td>\n",
       "      <td>8.0</td>\n",
       "      <td>26.0</td>\n",
       "      <td>0</td>\n",
       "      <td>1</td>\n",
       "      <td>22.2</td>\n",
       "    </tr>\n",
       "    <tr>\n",
       "      <th>1</th>\n",
       "      <td>0</td>\n",
       "      <td>35</td>\n",
       "      <td>81.0</td>\n",
       "      <td>0.5</td>\n",
       "      <td>0.6</td>\n",
       "      <td>1.0</td>\n",
       "      <td>1.0</td>\n",
       "      <td>93.0</td>\n",
       "      <td>53.0</td>\n",
       "      <td>85.0</td>\n",
       "      <td>...</td>\n",
       "      <td>30.0</td>\n",
       "      <td>11.3</td>\n",
       "      <td>1.0</td>\n",
       "      <td>0.8</td>\n",
       "      <td>20.0</td>\n",
       "      <td>7.0</td>\n",
       "      <td>10.0</td>\n",
       "      <td>0</td>\n",
       "      <td>1</td>\n",
       "      <td>23.4</td>\n",
       "    </tr>\n",
       "    <tr>\n",
       "      <th>2</th>\n",
       "      <td>0</td>\n",
       "      <td>30</td>\n",
       "      <td>80.0</td>\n",
       "      <td>1.0</td>\n",
       "      <td>1.2</td>\n",
       "      <td>1.0</td>\n",
       "      <td>1.0</td>\n",
       "      <td>103.0</td>\n",
       "      <td>62.0</td>\n",
       "      <td>81.0</td>\n",
       "      <td>...</td>\n",
       "      <td>103.0</td>\n",
       "      <td>14.0</td>\n",
       "      <td>1.0</td>\n",
       "      <td>0.6</td>\n",
       "      <td>20.0</td>\n",
       "      <td>34.0</td>\n",
       "      <td>17.0</td>\n",
       "      <td>0</td>\n",
       "      <td>1</td>\n",
       "      <td>23.4</td>\n",
       "    </tr>\n",
       "    <tr>\n",
       "      <th>3</th>\n",
       "      <td>0</td>\n",
       "      <td>55</td>\n",
       "      <td>76.0</td>\n",
       "      <td>0.8</td>\n",
       "      <td>0.8</td>\n",
       "      <td>1.0</td>\n",
       "      <td>1.0</td>\n",
       "      <td>120.0</td>\n",
       "      <td>80.0</td>\n",
       "      <td>114.0</td>\n",
       "      <td>...</td>\n",
       "      <td>221.0</td>\n",
       "      <td>13.7</td>\n",
       "      <td>1.0</td>\n",
       "      <td>0.6</td>\n",
       "      <td>20.0</td>\n",
       "      <td>14.0</td>\n",
       "      <td>27.0</td>\n",
       "      <td>0</td>\n",
       "      <td>1</td>\n",
       "      <td>22.9</td>\n",
       "    </tr>\n",
       "    <tr>\n",
       "      <th>4</th>\n",
       "      <td>0</td>\n",
       "      <td>45</td>\n",
       "      <td>84.0</td>\n",
       "      <td>1.2</td>\n",
       "      <td>1.2</td>\n",
       "      <td>1.0</td>\n",
       "      <td>1.0</td>\n",
       "      <td>121.0</td>\n",
       "      <td>80.0</td>\n",
       "      <td>102.0</td>\n",
       "      <td>...</td>\n",
       "      <td>274.0</td>\n",
       "      <td>13.4</td>\n",
       "      <td>1.0</td>\n",
       "      <td>0.7</td>\n",
       "      <td>14.0</td>\n",
       "      <td>11.0</td>\n",
       "      <td>16.0</td>\n",
       "      <td>0</td>\n",
       "      <td>1</td>\n",
       "      <td>23.4</td>\n",
       "    </tr>\n",
       "  </tbody>\n",
       "</table>\n",
       "<p>5 rows × 22 columns</p>\n",
       "</div>"
      ],
      "text/plain": [
       "   sex  age  waistline  sight_left  sight_right  hear_left  hear_right    SBP  \\\n",
       "0    0   50       72.0         2.0          1.5        1.0         1.0  120.0   \n",
       "1    0   35       81.0         0.5          0.6        1.0         1.0   93.0   \n",
       "2    0   30       80.0         1.0          1.2        1.0         1.0  103.0   \n",
       "3    0   55       76.0         0.8          0.8        1.0         1.0  120.0   \n",
       "4    0   45       84.0         1.2          1.2        1.0         1.0  121.0   \n",
       "\n",
       "    DBP   BLDS  ...  triglyceride  hemoglobin  urine_protein  \\\n",
       "0  86.0   82.0  ...          57.0        13.3            1.0   \n",
       "1  53.0   85.0  ...          30.0        11.3            1.0   \n",
       "2  62.0   81.0  ...         103.0        14.0            1.0   \n",
       "3  80.0  114.0  ...         221.0        13.7            1.0   \n",
       "4  80.0  102.0  ...         274.0        13.4            1.0   \n",
       "\n",
       "   serum_creatinine  SGOT_AST  SGOT_ALT  gamma_GTP  SMK_stat_type_cd  DRK_YN  \\\n",
       "0               0.6      17.0       8.0       26.0                 0       1   \n",
       "1               0.8      20.0       7.0       10.0                 0       1   \n",
       "2               0.6      20.0      34.0       17.0                 0       1   \n",
       "3               0.6      20.0      14.0       27.0                 0       1   \n",
       "4               0.7      14.0      11.0       16.0                 0       1   \n",
       "\n",
       "    bmi  \n",
       "0  22.2  \n",
       "1  23.4  \n",
       "2  23.4  \n",
       "3  22.9  \n",
       "4  23.4  \n",
       "\n",
       "[5 rows x 22 columns]"
      ]
     },
     "execution_count": 4,
     "metadata": {},
     "output_type": "execute_result"
    }
   ],
   "source": [
    "df['bmi'] = (df['weight'] / ((df['height'] ** 2)) * 10000).round(1)\n",
    "df.drop(columns=[\"height\",\"weight\"], inplace=True)\n",
    "\n",
    "if df.var()[\"tot_chole\"]>df.var()[\"LDL_chole\"]:\n",
    "    df.drop(columns=[\"tot_chole\"], inplace=True)\n",
    "    print(\"Drop column 'tot_chole'\")\n",
    "df.head(5)"
   ]
  },
  {
   "cell_type": "code",
   "execution_count": 32,
   "metadata": {},
   "outputs": [],
   "source": [
    "df.to_csv(\"datasets/downsampled_dataset_after_feature_selection.csv\",index=False)"
   ]
  },
  {
   "cell_type": "markdown",
   "metadata": {},
   "source": [
    "# Training dataset and test dataset"
   ]
  },
  {
   "cell_type": "code",
   "execution_count": 5,
   "metadata": {},
   "outputs": [],
   "source": [
    "# sampled_df = df.sample(frac=0.01,replace=False,ignore_index=True)\n",
    "\n",
    "# X = sampled_df.drop(['SMK_stat_type_cd','DRK_YN'], axis=1)\n",
    "# y_smoke = sampled_df['SMK_stat_type_cd']\n",
    "# y_drink = sampled_df['DRK_YN']\n",
    "\n",
    "# # Split the dataset into a training set (80%) and a test set (20%)\n",
    "# x_smk_train, x_smk_test, y_smk_train, y_smk_test = train_test_split(X, y_smoke, test_size=0.2, random_state=100)\n",
    "# x_dk_train, x_dk_test, y_dk_train, y_dk_test = train_test_split(X, y_drink, test_size=0.2, random_state=100)"
   ]
  },
  {
   "cell_type": "code",
   "execution_count": 6,
   "metadata": {},
   "outputs": [],
   "source": [
    "X = df.drop(['SMK_stat_type_cd','DRK_YN'], axis=1)\n",
    "y_smoke = df['SMK_stat_type_cd']\n",
    "y_drink = df['DRK_YN']\n",
    "\n",
    "# Split the dataset into a training set (80%) and a test set (20%)\n",
    "x_smk_train, x_smk_test, y_smk_train, y_smk_test = train_test_split(X, y_smoke, test_size=0.2, random_state=42)\n",
    "x_dk_train, x_dk_test, y_dk_train, y_dk_test = train_test_split(X, y_drink, test_size=0.2, random_state=42)"
   ]
  },
  {
   "cell_type": "markdown",
   "metadata": {},
   "source": [
    "# Baseline Model -- DummyClassifier"
   ]
  },
  {
   "cell_type": "markdown",
   "metadata": {},
   "source": [
    "## Drinking"
   ]
  },
  {
   "cell_type": "code",
   "execution_count": 7,
   "metadata": {},
   "outputs": [
    {
     "name": "stdout",
     "output_type": "stream",
     "text": [
      "Baseline Classifier Accuracy: 0.495\n"
     ]
    }
   ],
   "source": [
    "dummy_clf = DummyClassifier(strategy=\"prior\")\n",
    "# Fit the baseline classifier on the training data\n",
    "dummy_clf.fit(x_dk_train, y_dk_train)\n",
    "# Make predictions on the test data\n",
    "y_dk_pred = dummy_clf.predict(x_dk_test)\n",
    "\n",
    "# Calculate accuracy and other metrics\n",
    "dk_accuracy = accuracy_score(y_dk_test, y_dk_pred)\n",
    "# dk_report = classification_report(y_dk_test, y_dk_pred)\n",
    "\n",
    "# Print the results\n",
    "print(\"Baseline Classifier Accuracy:\", dk_accuracy)\n",
    "# print(f\"Classification Report:\\n{dk_report}\")"
   ]
  },
  {
   "cell_type": "markdown",
   "metadata": {},
   "source": [
    "## Smoking"
   ]
  },
  {
   "cell_type": "code",
   "execution_count": 8,
   "metadata": {},
   "outputs": [
    {
     "name": "stdout",
     "output_type": "stream",
     "text": [
      "Baseline Classifier Accuracy: 0.325\n"
     ]
    }
   ],
   "source": [
    "dummy_clf = DummyClassifier(strategy=\"prior\")\n",
    "# Fit the baseline classifier on the training data\n",
    "dummy_clf.fit(x_smk_train, y_smk_train)\n",
    "# Make predictions on the test data\n",
    "y_smk_pred = dummy_clf.predict(x_smk_test)\n",
    "\n",
    "# Calculate accuracy and other metrics\n",
    "smk_accuracy = accuracy_score(y_smk_test, y_smk_pred)\n",
    "# smk_report = classification_report(y_smk_test, y_smk_pred)\n",
    "\n",
    "# Print the results\n",
    "print(\"Baseline Classifier Accuracy:\", smk_accuracy)\n",
    "# print(f\"Classification Report:\\n{smk_report}\")\n"
   ]
  },
  {
   "cell_type": "markdown",
   "metadata": {},
   "source": [
    "# Building Models"
   ]
  },
  {
   "cell_type": "markdown",
   "metadata": {},
   "source": [
    "## Defining Base Models"
   ]
  },
  {
   "cell_type": "code",
   "execution_count": 9,
   "metadata": {},
   "outputs": [],
   "source": [
    "def base_models():\n",
    "  models = dict()\n",
    "  models['Logistic'] = LogisticRegression(max_iter=10000)\n",
    "  models[\"NB\"] = GaussianNB()\n",
    "  models[\"KNN\"] = KNeighborsClassifier(n_neighbors=20)\n",
    "  models[\"Decision Tree\"] = DecisionTreeClassifier()\n",
    "  models[\"Random Forest\"] = RandomForestClassifier()\n",
    "  models[\"GB\"] = GradientBoostingClassifier()\n",
    "  models[\"XGB\"] = XGBClassifier()\n",
    "  models[\"Bagging\"] = BaggingClassifier(n_estimators=100)\n",
    "  models[\"SVM\"] = SVC()\n",
    "  models['QDA'] = QuadraticDiscriminantAnalysis()\n",
    "  models['AdaBoost'] = AdaBoostClassifier()\n",
    "  models['MLP'] = MLPClassifier()\n",
    "  return models\n",
    "\n",
    "models = base_models()"
   ]
  },
  {
   "cell_type": "markdown",
   "metadata": {},
   "source": [
    "## Base Models' Evaluation"
   ]
  },
  {
   "cell_type": "code",
   "execution_count": 10,
   "metadata": {},
   "outputs": [],
   "source": [
    "# Function to evaluate the list of models\n",
    "def eval_models(model):\n",
    "  cv = RepeatedKFold(n_splits=10, n_repeats=5, random_state=100)\n",
    "  scores = cross_val_score(model, x_dk_train, y_dk_train, scoring='accuracy', \n",
    "                           cv=cv, n_jobs=5, error_score='raise')\n",
    "  return scores"
   ]
  },
  {
   "cell_type": "markdown",
   "metadata": {},
   "source": [
    "### Drinking Status as the Target Variable"
   ]
  },
  {
   "cell_type": "code",
   "execution_count": 11,
   "metadata": {},
   "outputs": [
    {
     "name": "stdout",
     "output_type": "stream",
     "text": [
      ">Logistic 0.672 (0.016)\n",
      ">NB 0.575 (0.016)\n",
      ">KNN 0.633 (0.017)\n",
      ">Decision Tree 0.586 (0.020)\n",
      ">Random Forest 0.665 (0.017)\n",
      ">GB 0.671 (0.017)\n",
      ">XGB 0.655 (0.019)\n",
      ">Bagging 0.660 (0.017)\n",
      ">SVM 0.667 (0.014)\n",
      ">QDA 0.576 (0.022)\n",
      ">AdaBoost 0.664 (0.016)\n",
      ">MLP 0.648 (0.026)\n"
     ]
    }
   ],
   "source": [
    "# evaluate the models and store results\n",
    "dk_results, dk_names = list(), list()\n",
    "\n",
    "for name, model in models.items():\n",
    "  dk_scores = eval_models(model)\n",
    "  dk_results.append(dk_scores)\n",
    "  dk_names.append(name)\n",
    "  print('>%s %.3f (%.3f)' % (name, dk_scores.mean(), dk_scores.std()))\n",
    "\n",
    "\n",
    "dk_classmod = pd.DataFrame(np.transpose(dk_results), columns = [\"Logistic\",\"NB\",\"KNN\",\"Decision Tree\",\"Random Forest\",\"GB\",\"XGB\",\"Bagging\",\"SVM\",\"QDA\",\"AdaBoost\",\"MLP\"])\n",
    "dk_classmod = pd.melt(dk_classmod.reset_index(), id_vars='index',value_vars=[\"Logistic\",\"NB\",\"KNN\",\"Decision Tree\",\"Random Forest\",\"GB\",\"XGB\",\"Bagging\",\"SVM\",\"QDA\",\"AdaBoost\",\"MLP\"])\n"
   ]
  },
  {
   "cell_type": "code",
   "execution_count": 12,
   "metadata": {},
   "outputs": [
    {
     "data": {
      "application/vnd.plotly.v1+json": {
       "config": {
        "plotlyServerURL": "https://plotly.com"
       },
       "data": [
        {
         "alignmentgroup": "True",
         "boxpoints": "all",
         "hovertemplate": "Machine Learning Model=%{x}<br>Accuracy=%{y}<extra></extra>",
         "legendgroup": "Logistic",
         "marker": {
          "color": "#636efa"
         },
         "name": "Logistic",
         "notched": false,
         "offsetgroup": "Logistic",
         "orientation": "v",
         "showlegend": true,
         "type": "box",
         "x": [
          "Logistic",
          "Logistic",
          "Logistic",
          "Logistic",
          "Logistic",
          "Logistic",
          "Logistic",
          "Logistic",
          "Logistic",
          "Logistic",
          "Logistic",
          "Logistic",
          "Logistic",
          "Logistic",
          "Logistic",
          "Logistic",
          "Logistic",
          "Logistic",
          "Logistic",
          "Logistic",
          "Logistic",
          "Logistic",
          "Logistic",
          "Logistic",
          "Logistic",
          "Logistic",
          "Logistic",
          "Logistic",
          "Logistic",
          "Logistic",
          "Logistic",
          "Logistic",
          "Logistic",
          "Logistic",
          "Logistic",
          "Logistic",
          "Logistic",
          "Logistic",
          "Logistic",
          "Logistic",
          "Logistic",
          "Logistic",
          "Logistic",
          "Logistic",
          "Logistic",
          "Logistic",
          "Logistic",
          "Logistic",
          "Logistic",
          "Logistic"
         ],
         "x0": " ",
         "xaxis": "x",
         "y": [
          0.6944444444444444,
          0.6736111111111112,
          0.6777777777777778,
          0.6888888888888889,
          0.6541666666666667,
          0.6527777777777778,
          0.6694444444444444,
          0.6416666666666667,
          0.6736111111111112,
          0.6944444444444444,
          0.6444444444444445,
          0.6819444444444445,
          0.6847222222222222,
          0.6569444444444444,
          0.6583333333333333,
          0.6555555555555556,
          0.6458333333333334,
          0.7,
          0.7083333333333334,
          0.6708333333333333,
          0.6777777777777778,
          0.6541666666666667,
          0.7083333333333334,
          0.6513888888888889,
          0.6819444444444445,
          0.6958333333333333,
          0.6666666666666666,
          0.6666666666666666,
          0.6638888888888889,
          0.6527777777777778,
          0.6819444444444445,
          0.6819444444444445,
          0.6833333333333333,
          0.6722222222222223,
          0.6791666666666667,
          0.6722222222222223,
          0.6583333333333333,
          0.6527777777777778,
          0.6583333333333333,
          0.6888888888888889,
          0.6736111111111112,
          0.65,
          0.6694444444444444,
          0.6666666666666666,
          0.6652777777777777,
          0.6902777777777778,
          0.6736111111111112,
          0.6805555555555556,
          0.6819444444444445,
          0.6652777777777777
         ],
         "y0": " ",
         "yaxis": "y"
        },
        {
         "alignmentgroup": "True",
         "boxpoints": "all",
         "hovertemplate": "Machine Learning Model=%{x}<br>Accuracy=%{y}<extra></extra>",
         "legendgroup": "NB",
         "marker": {
          "color": "#EF553B"
         },
         "name": "NB",
         "notched": false,
         "offsetgroup": "NB",
         "orientation": "v",
         "showlegend": true,
         "type": "box",
         "x": [
          "NB",
          "NB",
          "NB",
          "NB",
          "NB",
          "NB",
          "NB",
          "NB",
          "NB",
          "NB",
          "NB",
          "NB",
          "NB",
          "NB",
          "NB",
          "NB",
          "NB",
          "NB",
          "NB",
          "NB",
          "NB",
          "NB",
          "NB",
          "NB",
          "NB",
          "NB",
          "NB",
          "NB",
          "NB",
          "NB",
          "NB",
          "NB",
          "NB",
          "NB",
          "NB",
          "NB",
          "NB",
          "NB",
          "NB",
          "NB",
          "NB",
          "NB",
          "NB",
          "NB",
          "NB",
          "NB",
          "NB",
          "NB",
          "NB",
          "NB"
         ],
         "x0": " ",
         "xaxis": "x",
         "y": [
          0.5638888888888889,
          0.5986111111111111,
          0.5833333333333334,
          0.625,
          0.5777777777777777,
          0.5680555555555555,
          0.5555555555555556,
          0.55,
          0.5652777777777778,
          0.5694444444444444,
          0.5805555555555556,
          0.5666666666666667,
          0.5736111111111111,
          0.5875,
          0.5652777777777778,
          0.5583333333333333,
          0.5736111111111111,
          0.5791666666666667,
          0.5555555555555556,
          0.575,
          0.5833333333333334,
          0.5861111111111111,
          0.6027777777777777,
          0.5541666666666667,
          0.5694444444444444,
          0.5875,
          0.5763888888888888,
          0.5680555555555555,
          0.5597222222222222,
          0.5847222222222223,
          0.55,
          0.5875,
          0.5819444444444445,
          0.5861111111111111,
          0.575,
          0.6013888888888889,
          0.5444444444444444,
          0.5763888888888888,
          0.5611111111111111,
          0.5861111111111111,
          0.5722222222222222,
          0.5805555555555556,
          0.5875,
          0.5805555555555556,
          0.55,
          0.5597222222222222,
          0.5861111111111111,
          0.5902777777777778,
          0.575,
          0.5513888888888889
         ],
         "y0": " ",
         "yaxis": "y"
        },
        {
         "alignmentgroup": "True",
         "boxpoints": "all",
         "hovertemplate": "Machine Learning Model=%{x}<br>Accuracy=%{y}<extra></extra>",
         "legendgroup": "KNN",
         "marker": {
          "color": "#00cc96"
         },
         "name": "KNN",
         "notched": false,
         "offsetgroup": "KNN",
         "orientation": "v",
         "showlegend": true,
         "type": "box",
         "x": [
          "KNN",
          "KNN",
          "KNN",
          "KNN",
          "KNN",
          "KNN",
          "KNN",
          "KNN",
          "KNN",
          "KNN",
          "KNN",
          "KNN",
          "KNN",
          "KNN",
          "KNN",
          "KNN",
          "KNN",
          "KNN",
          "KNN",
          "KNN",
          "KNN",
          "KNN",
          "KNN",
          "KNN",
          "KNN",
          "KNN",
          "KNN",
          "KNN",
          "KNN",
          "KNN",
          "KNN",
          "KNN",
          "KNN",
          "KNN",
          "KNN",
          "KNN",
          "KNN",
          "KNN",
          "KNN",
          "KNN",
          "KNN",
          "KNN",
          "KNN",
          "KNN",
          "KNN",
          "KNN",
          "KNN",
          "KNN",
          "KNN",
          "KNN"
         ],
         "x0": " ",
         "xaxis": "x",
         "y": [
          0.6375,
          0.6388888888888888,
          0.6347222222222222,
          0.6444444444444445,
          0.6291666666666667,
          0.6111111111111112,
          0.6208333333333333,
          0.6236111111111111,
          0.6597222222222222,
          0.6361111111111111,
          0.6222222222222222,
          0.625,
          0.6125,
          0.625,
          0.6236111111111111,
          0.6236111111111111,
          0.6263888888888889,
          0.6527777777777778,
          0.6680555555555555,
          0.6277777777777778,
          0.6458333333333334,
          0.6319444444444444,
          0.6513888888888889,
          0.6236111111111111,
          0.65,
          0.6388888888888888,
          0.6027777777777777,
          0.6680555555555555,
          0.6,
          0.6541666666666667,
          0.6208333333333333,
          0.6430555555555556,
          0.6194444444444445,
          0.6333333333333333,
          0.6652777777777777,
          0.6472222222222223,
          0.6180555555555556,
          0.6166666666666667,
          0.6041666666666666,
          0.6555555555555556,
          0.625,
          0.625,
          0.65,
          0.6291666666666667,
          0.6236111111111111,
          0.6138888888888889,
          0.6402777777777777,
          0.6222222222222222,
          0.6458333333333334,
          0.6611111111111111
         ],
         "y0": " ",
         "yaxis": "y"
        },
        {
         "alignmentgroup": "True",
         "boxpoints": "all",
         "hovertemplate": "Machine Learning Model=%{x}<br>Accuracy=%{y}<extra></extra>",
         "legendgroup": "Decision Tree",
         "marker": {
          "color": "#ab63fa"
         },
         "name": "Decision Tree",
         "notched": false,
         "offsetgroup": "Decision Tree",
         "orientation": "v",
         "showlegend": true,
         "type": "box",
         "x": [
          "Decision Tree",
          "Decision Tree",
          "Decision Tree",
          "Decision Tree",
          "Decision Tree",
          "Decision Tree",
          "Decision Tree",
          "Decision Tree",
          "Decision Tree",
          "Decision Tree",
          "Decision Tree",
          "Decision Tree",
          "Decision Tree",
          "Decision Tree",
          "Decision Tree",
          "Decision Tree",
          "Decision Tree",
          "Decision Tree",
          "Decision Tree",
          "Decision Tree",
          "Decision Tree",
          "Decision Tree",
          "Decision Tree",
          "Decision Tree",
          "Decision Tree",
          "Decision Tree",
          "Decision Tree",
          "Decision Tree",
          "Decision Tree",
          "Decision Tree",
          "Decision Tree",
          "Decision Tree",
          "Decision Tree",
          "Decision Tree",
          "Decision Tree",
          "Decision Tree",
          "Decision Tree",
          "Decision Tree",
          "Decision Tree",
          "Decision Tree",
          "Decision Tree",
          "Decision Tree",
          "Decision Tree",
          "Decision Tree",
          "Decision Tree",
          "Decision Tree",
          "Decision Tree",
          "Decision Tree",
          "Decision Tree",
          "Decision Tree"
         ],
         "x0": " ",
         "xaxis": "x",
         "y": [
          0.575,
          0.5888888888888889,
          0.5847222222222223,
          0.5888888888888889,
          0.5833333333333334,
          0.5708333333333333,
          0.5444444444444444,
          0.5847222222222223,
          0.6208333333333333,
          0.5722222222222222,
          0.55,
          0.5680555555555555,
          0.5777777777777777,
          0.6013888888888889,
          0.5861111111111111,
          0.5625,
          0.5861111111111111,
          0.5888888888888889,
          0.5736111111111111,
          0.5777777777777777,
          0.6430555555555556,
          0.5791666666666667,
          0.5791666666666667,
          0.5583333333333333,
          0.6027777777777777,
          0.6111111111111112,
          0.5930555555555556,
          0.5861111111111111,
          0.5930555555555556,
          0.6,
          0.5930555555555556,
          0.6055555555555555,
          0.5930555555555556,
          0.5513888888888889,
          0.6027777777777777,
          0.5888888888888889,
          0.5930555555555556,
          0.55,
          0.5777777777777777,
          0.6125,
          0.5847222222222223,
          0.6111111111111112,
          0.6375,
          0.6069444444444444,
          0.5736111111111111,
          0.5652777777777778,
          0.5847222222222223,
          0.5694444444444444,
          0.5805555555555556,
          0.5819444444444445
         ],
         "y0": " ",
         "yaxis": "y"
        },
        {
         "alignmentgroup": "True",
         "boxpoints": "all",
         "hovertemplate": "Machine Learning Model=%{x}<br>Accuracy=%{y}<extra></extra>",
         "legendgroup": "Random Forest",
         "marker": {
          "color": "#FFA15A"
         },
         "name": "Random Forest",
         "notched": false,
         "offsetgroup": "Random Forest",
         "orientation": "v",
         "showlegend": true,
         "type": "box",
         "x": [
          "Random Forest",
          "Random Forest",
          "Random Forest",
          "Random Forest",
          "Random Forest",
          "Random Forest",
          "Random Forest",
          "Random Forest",
          "Random Forest",
          "Random Forest",
          "Random Forest",
          "Random Forest",
          "Random Forest",
          "Random Forest",
          "Random Forest",
          "Random Forest",
          "Random Forest",
          "Random Forest",
          "Random Forest",
          "Random Forest",
          "Random Forest",
          "Random Forest",
          "Random Forest",
          "Random Forest",
          "Random Forest",
          "Random Forest",
          "Random Forest",
          "Random Forest",
          "Random Forest",
          "Random Forest",
          "Random Forest",
          "Random Forest",
          "Random Forest",
          "Random Forest",
          "Random Forest",
          "Random Forest",
          "Random Forest",
          "Random Forest",
          "Random Forest",
          "Random Forest",
          "Random Forest",
          "Random Forest",
          "Random Forest",
          "Random Forest",
          "Random Forest",
          "Random Forest",
          "Random Forest",
          "Random Forest",
          "Random Forest",
          "Random Forest"
         ],
         "x0": " ",
         "xaxis": "x",
         "y": [
          0.6847222222222222,
          0.6763888888888889,
          0.6791666666666667,
          0.6875,
          0.6458333333333334,
          0.6555555555555556,
          0.6638888888888889,
          0.6236111111111111,
          0.6708333333333333,
          0.6722222222222223,
          0.6444444444444445,
          0.6777777777777778,
          0.6763888888888889,
          0.6819444444444445,
          0.6527777777777778,
          0.6430555555555556,
          0.6472222222222223,
          0.6944444444444444,
          0.6805555555555556,
          0.6763888888888889,
          0.6861111111111111,
          0.65,
          0.6847222222222222,
          0.6305555555555555,
          0.6722222222222223,
          0.6666666666666666,
          0.6694444444444444,
          0.6708333333333333,
          0.6402777777777777,
          0.6597222222222222,
          0.6791666666666667,
          0.6847222222222222,
          0.6722222222222223,
          0.6513888888888889,
          0.6666666666666666,
          0.6888888888888889,
          0.6569444444444444,
          0.6444444444444445,
          0.6347222222222222,
          0.6916666666666667,
          0.6527777777777778,
          0.6722222222222223,
          0.6583333333333333,
          0.6555555555555556,
          0.6597222222222222,
          0.6680555555555555,
          0.6666666666666666,
          0.6611111111111111,
          0.6597222222222222,
          0.6763888888888889
         ],
         "y0": " ",
         "yaxis": "y"
        },
        {
         "alignmentgroup": "True",
         "boxpoints": "all",
         "hovertemplate": "Machine Learning Model=%{x}<br>Accuracy=%{y}<extra></extra>",
         "legendgroup": "GB",
         "marker": {
          "color": "#19d3f3"
         },
         "name": "GB",
         "notched": false,
         "offsetgroup": "GB",
         "orientation": "v",
         "showlegend": true,
         "type": "box",
         "x": [
          "GB",
          "GB",
          "GB",
          "GB",
          "GB",
          "GB",
          "GB",
          "GB",
          "GB",
          "GB",
          "GB",
          "GB",
          "GB",
          "GB",
          "GB",
          "GB",
          "GB",
          "GB",
          "GB",
          "GB",
          "GB",
          "GB",
          "GB",
          "GB",
          "GB",
          "GB",
          "GB",
          "GB",
          "GB",
          "GB",
          "GB",
          "GB",
          "GB",
          "GB",
          "GB",
          "GB",
          "GB",
          "GB",
          "GB",
          "GB",
          "GB",
          "GB",
          "GB",
          "GB",
          "GB",
          "GB",
          "GB",
          "GB",
          "GB",
          "GB"
         ],
         "x0": " ",
         "xaxis": "x",
         "y": [
          0.6916666666666667,
          0.6708333333333333,
          0.6861111111111111,
          0.7069444444444445,
          0.6513888888888889,
          0.6583333333333333,
          0.6625,
          0.6486111111111111,
          0.6638888888888889,
          0.6861111111111111,
          0.6583333333333333,
          0.675,
          0.6902777777777778,
          0.6777777777777778,
          0.6458333333333334,
          0.6402777777777777,
          0.6694444444444444,
          0.6902777777777778,
          0.7055555555555556,
          0.6625,
          0.6916666666666667,
          0.6680555555555555,
          0.6861111111111111,
          0.6291666666666667,
          0.6736111111111112,
          0.6763888888888889,
          0.6569444444444444,
          0.6652777777777777,
          0.6625,
          0.6833333333333333,
          0.6736111111111112,
          0.6805555555555556,
          0.6763888888888889,
          0.6569444444444444,
          0.6916666666666667,
          0.6944444444444444,
          0.6638888888888889,
          0.6430555555555556,
          0.65,
          0.7055555555555556,
          0.6569444444444444,
          0.6625,
          0.6763888888888889,
          0.6694444444444444,
          0.6583333333333333,
          0.6805555555555556,
          0.6708333333333333,
          0.6597222222222222,
          0.6861111111111111,
          0.6763888888888889
         ],
         "y0": " ",
         "yaxis": "y"
        },
        {
         "alignmentgroup": "True",
         "boxpoints": "all",
         "hovertemplate": "Machine Learning Model=%{x}<br>Accuracy=%{y}<extra></extra>",
         "legendgroup": "XGB",
         "marker": {
          "color": "#FF6692"
         },
         "name": "XGB",
         "notched": false,
         "offsetgroup": "XGB",
         "orientation": "v",
         "showlegend": true,
         "type": "box",
         "x": [
          "XGB",
          "XGB",
          "XGB",
          "XGB",
          "XGB",
          "XGB",
          "XGB",
          "XGB",
          "XGB",
          "XGB",
          "XGB",
          "XGB",
          "XGB",
          "XGB",
          "XGB",
          "XGB",
          "XGB",
          "XGB",
          "XGB",
          "XGB",
          "XGB",
          "XGB",
          "XGB",
          "XGB",
          "XGB",
          "XGB",
          "XGB",
          "XGB",
          "XGB",
          "XGB",
          "XGB",
          "XGB",
          "XGB",
          "XGB",
          "XGB",
          "XGB",
          "XGB",
          "XGB",
          "XGB",
          "XGB",
          "XGB",
          "XGB",
          "XGB",
          "XGB",
          "XGB",
          "XGB",
          "XGB",
          "XGB",
          "XGB",
          "XGB"
         ],
         "x0": " ",
         "xaxis": "x",
         "y": [
          0.6583333333333333,
          0.6416666666666667,
          0.6513888888888889,
          0.6625,
          0.6375,
          0.6347222222222222,
          0.6333333333333333,
          0.6027777777777777,
          0.6847222222222222,
          0.6708333333333333,
          0.6416666666666667,
          0.6583333333333333,
          0.6902777777777778,
          0.6666666666666666,
          0.6319444444444444,
          0.6527777777777778,
          0.6652777777777777,
          0.6694444444444444,
          0.6736111111111112,
          0.6694444444444444,
          0.6638888888888889,
          0.6638888888888889,
          0.675,
          0.6486111111111111,
          0.6680555555555555,
          0.6597222222222222,
          0.6486111111111111,
          0.6555555555555556,
          0.6333333333333333,
          0.6597222222222222,
          0.6263888888888889,
          0.6652777777777777,
          0.675,
          0.6361111111111111,
          0.6638888888888889,
          0.6805555555555556,
          0.6333333333333333,
          0.625,
          0.625,
          0.675,
          0.6347222222222222,
          0.6513888888888889,
          0.6791666666666667,
          0.6458333333333334,
          0.6458333333333334,
          0.6819444444444445,
          0.6777777777777778,
          0.6416666666666667,
          0.6541666666666667,
          0.65
         ],
         "y0": " ",
         "yaxis": "y"
        },
        {
         "alignmentgroup": "True",
         "boxpoints": "all",
         "hovertemplate": "Machine Learning Model=%{x}<br>Accuracy=%{y}<extra></extra>",
         "legendgroup": "Bagging",
         "marker": {
          "color": "#B6E880"
         },
         "name": "Bagging",
         "notched": false,
         "offsetgroup": "Bagging",
         "orientation": "v",
         "showlegend": true,
         "type": "box",
         "x": [
          "Bagging",
          "Bagging",
          "Bagging",
          "Bagging",
          "Bagging",
          "Bagging",
          "Bagging",
          "Bagging",
          "Bagging",
          "Bagging",
          "Bagging",
          "Bagging",
          "Bagging",
          "Bagging",
          "Bagging",
          "Bagging",
          "Bagging",
          "Bagging",
          "Bagging",
          "Bagging",
          "Bagging",
          "Bagging",
          "Bagging",
          "Bagging",
          "Bagging",
          "Bagging",
          "Bagging",
          "Bagging",
          "Bagging",
          "Bagging",
          "Bagging",
          "Bagging",
          "Bagging",
          "Bagging",
          "Bagging",
          "Bagging",
          "Bagging",
          "Bagging",
          "Bagging",
          "Bagging",
          "Bagging",
          "Bagging",
          "Bagging",
          "Bagging",
          "Bagging",
          "Bagging",
          "Bagging",
          "Bagging",
          "Bagging",
          "Bagging"
         ],
         "x0": " ",
         "xaxis": "x",
         "y": [
          0.6694444444444444,
          0.6486111111111111,
          0.6736111111111112,
          0.6777777777777778,
          0.6319444444444444,
          0.6416666666666667,
          0.6569444444444444,
          0.6208333333333333,
          0.6652777777777777,
          0.6680555555555555,
          0.6430555555555556,
          0.6805555555555556,
          0.6625,
          0.6597222222222222,
          0.6569444444444444,
          0.6430555555555556,
          0.6541666666666667,
          0.6847222222222222,
          0.6805555555555556,
          0.6680555555555555,
          0.6986111111111111,
          0.6472222222222223,
          0.675,
          0.6375,
          0.6527777777777778,
          0.6722222222222223,
          0.6680555555555555,
          0.6694444444444444,
          0.6597222222222222,
          0.6694444444444444,
          0.6861111111111111,
          0.6708333333333333,
          0.6611111111111111,
          0.6638888888888889,
          0.6736111111111112,
          0.6805555555555556,
          0.6458333333333334,
          0.6333333333333333,
          0.6333333333333333,
          0.6791666666666667,
          0.6388888888888888,
          0.6513888888888889,
          0.6583333333333333,
          0.6263888888888889,
          0.6569444444444444,
          0.6680555555555555,
          0.6694444444444444,
          0.6430555555555556,
          0.6819444444444445,
          0.6527777777777778
         ],
         "y0": " ",
         "yaxis": "y"
        },
        {
         "alignmentgroup": "True",
         "boxpoints": "all",
         "hovertemplate": "Machine Learning Model=%{x}<br>Accuracy=%{y}<extra></extra>",
         "legendgroup": "SVM",
         "marker": {
          "color": "#FF97FF"
         },
         "name": "SVM",
         "notched": false,
         "offsetgroup": "SVM",
         "orientation": "v",
         "showlegend": true,
         "type": "box",
         "x": [
          "SVM",
          "SVM",
          "SVM",
          "SVM",
          "SVM",
          "SVM",
          "SVM",
          "SVM",
          "SVM",
          "SVM",
          "SVM",
          "SVM",
          "SVM",
          "SVM",
          "SVM",
          "SVM",
          "SVM",
          "SVM",
          "SVM",
          "SVM",
          "SVM",
          "SVM",
          "SVM",
          "SVM",
          "SVM",
          "SVM",
          "SVM",
          "SVM",
          "SVM",
          "SVM",
          "SVM",
          "SVM",
          "SVM",
          "SVM",
          "SVM",
          "SVM",
          "SVM",
          "SVM",
          "SVM",
          "SVM",
          "SVM",
          "SVM",
          "SVM",
          "SVM",
          "SVM",
          "SVM",
          "SVM",
          "SVM",
          "SVM",
          "SVM"
         ],
         "x0": " ",
         "xaxis": "x",
         "y": [
          0.6763888888888889,
          0.6847222222222222,
          0.6805555555555556,
          0.6736111111111112,
          0.6513888888888889,
          0.6458333333333334,
          0.6777777777777778,
          0.65,
          0.6638888888888889,
          0.6861111111111111,
          0.6527777777777778,
          0.6652777777777777,
          0.6722222222222223,
          0.6694444444444444,
          0.6652777777777777,
          0.6597222222222222,
          0.6416666666666667,
          0.6847222222222222,
          0.6930555555555555,
          0.6555555555555556,
          0.6763888888888889,
          0.6708333333333333,
          0.6888888888888889,
          0.6291666666666667,
          0.6819444444444445,
          0.6916666666666667,
          0.6513888888888889,
          0.6638888888888889,
          0.6527777777777778,
          0.6708333333333333,
          0.6694444444444444,
          0.6819444444444445,
          0.6666666666666666,
          0.65,
          0.6763888888888889,
          0.6791666666666667,
          0.65,
          0.6402777777777777,
          0.6652777777777777,
          0.6819444444444445,
          0.6611111111111111,
          0.6611111111111111,
          0.6652777777777777,
          0.6555555555555556,
          0.6736111111111112,
          0.6805555555555556,
          0.6680555555555555,
          0.6472222222222223,
          0.6722222222222223,
          0.6777777777777778
         ],
         "y0": " ",
         "yaxis": "y"
        },
        {
         "alignmentgroup": "True",
         "boxpoints": "all",
         "hovertemplate": "Machine Learning Model=%{x}<br>Accuracy=%{y}<extra></extra>",
         "legendgroup": "QDA",
         "marker": {
          "color": "#FECB52"
         },
         "name": "QDA",
         "notched": false,
         "offsetgroup": "QDA",
         "orientation": "v",
         "showlegend": true,
         "type": "box",
         "x": [
          "QDA",
          "QDA",
          "QDA",
          "QDA",
          "QDA",
          "QDA",
          "QDA",
          "QDA",
          "QDA",
          "QDA",
          "QDA",
          "QDA",
          "QDA",
          "QDA",
          "QDA",
          "QDA",
          "QDA",
          "QDA",
          "QDA",
          "QDA",
          "QDA",
          "QDA",
          "QDA",
          "QDA",
          "QDA",
          "QDA",
          "QDA",
          "QDA",
          "QDA",
          "QDA",
          "QDA",
          "QDA",
          "QDA",
          "QDA",
          "QDA",
          "QDA",
          "QDA",
          "QDA",
          "QDA",
          "QDA",
          "QDA",
          "QDA",
          "QDA",
          "QDA",
          "QDA",
          "QDA",
          "QDA",
          "QDA",
          "QDA",
          "QDA"
         ],
         "x0": " ",
         "xaxis": "x",
         "y": [
          0.5597222222222222,
          0.6125,
          0.5597222222222222,
          0.6388888888888888,
          0.575,
          0.5944444444444444,
          0.5444444444444444,
          0.5486111111111112,
          0.5638888888888889,
          0.5791666666666667,
          0.5694444444444444,
          0.5513888888888889,
          0.5694444444444444,
          0.5972222222222222,
          0.5763888888888888,
          0.5805555555555556,
          0.5805555555555556,
          0.5805555555555556,
          0.5708333333333333,
          0.5902777777777778,
          0.6,
          0.5819444444444445,
          0.6,
          0.5541666666666667,
          0.5680555555555555,
          0.575,
          0.5708333333333333,
          0.5736111111111111,
          0.5708333333333333,
          0.5583333333333333,
          0.5319444444444444,
          0.5930555555555556,
          0.5875,
          0.5958333333333333,
          0.5777777777777777,
          0.6069444444444444,
          0.5527777777777778,
          0.5819444444444445,
          0.5402777777777777,
          0.5916666666666667,
          0.5875,
          0.5847222222222223,
          0.6111111111111112,
          0.5861111111111111,
          0.5486111111111112,
          0.5555555555555556,
          0.6208333333333333,
          0.5583333333333333,
          0.5569444444444445,
          0.5472222222222223
         ],
         "y0": " ",
         "yaxis": "y"
        },
        {
         "alignmentgroup": "True",
         "boxpoints": "all",
         "hovertemplate": "Machine Learning Model=%{x}<br>Accuracy=%{y}<extra></extra>",
         "legendgroup": "AdaBoost",
         "marker": {
          "color": "#636efa"
         },
         "name": "AdaBoost",
         "notched": false,
         "offsetgroup": "AdaBoost",
         "orientation": "v",
         "showlegend": true,
         "type": "box",
         "x": [
          "AdaBoost",
          "AdaBoost",
          "AdaBoost",
          "AdaBoost",
          "AdaBoost",
          "AdaBoost",
          "AdaBoost",
          "AdaBoost",
          "AdaBoost",
          "AdaBoost",
          "AdaBoost",
          "AdaBoost",
          "AdaBoost",
          "AdaBoost",
          "AdaBoost",
          "AdaBoost",
          "AdaBoost",
          "AdaBoost",
          "AdaBoost",
          "AdaBoost",
          "AdaBoost",
          "AdaBoost",
          "AdaBoost",
          "AdaBoost",
          "AdaBoost",
          "AdaBoost",
          "AdaBoost",
          "AdaBoost",
          "AdaBoost",
          "AdaBoost",
          "AdaBoost",
          "AdaBoost",
          "AdaBoost",
          "AdaBoost",
          "AdaBoost",
          "AdaBoost",
          "AdaBoost",
          "AdaBoost",
          "AdaBoost",
          "AdaBoost",
          "AdaBoost",
          "AdaBoost",
          "AdaBoost",
          "AdaBoost",
          "AdaBoost",
          "AdaBoost",
          "AdaBoost",
          "AdaBoost",
          "AdaBoost",
          "AdaBoost"
         ],
         "x0": " ",
         "xaxis": "x",
         "y": [
          0.6763888888888889,
          0.6708333333333333,
          0.6722222222222223,
          0.6805555555555556,
          0.6513888888888889,
          0.6541666666666667,
          0.6583333333333333,
          0.6277777777777778,
          0.6722222222222223,
          0.6875,
          0.6388888888888888,
          0.6652777777777777,
          0.6680555555555555,
          0.6555555555555556,
          0.6458333333333334,
          0.6402777777777777,
          0.6583333333333333,
          0.6694444444444444,
          0.6847222222222222,
          0.6638888888888889,
          0.6708333333333333,
          0.6583333333333333,
          0.6972222222222222,
          0.6361111111111111,
          0.6805555555555556,
          0.6819444444444445,
          0.6680555555555555,
          0.6638888888888889,
          0.6597222222222222,
          0.6625,
          0.6569444444444444,
          0.6763888888888889,
          0.6722222222222223,
          0.6527777777777778,
          0.675,
          0.6819444444444445,
          0.6402777777777777,
          0.6333333333333333,
          0.6555555555555556,
          0.6958333333333333,
          0.6527777777777778,
          0.6694444444444444,
          0.6652777777777777,
          0.6583333333333333,
          0.6416666666666667,
          0.6763888888888889,
          0.6569444444444444,
          0.6763888888888889,
          0.6847222222222222,
          0.6611111111111111
         ],
         "y0": " ",
         "yaxis": "y"
        },
        {
         "alignmentgroup": "True",
         "boxpoints": "all",
         "hovertemplate": "Machine Learning Model=%{x}<br>Accuracy=%{y}<extra></extra>",
         "legendgroup": "MLP",
         "marker": {
          "color": "#EF553B"
         },
         "name": "MLP",
         "notched": false,
         "offsetgroup": "MLP",
         "orientation": "v",
         "showlegend": true,
         "type": "box",
         "x": [
          "MLP",
          "MLP",
          "MLP",
          "MLP",
          "MLP",
          "MLP",
          "MLP",
          "MLP",
          "MLP",
          "MLP",
          "MLP",
          "MLP",
          "MLP",
          "MLP",
          "MLP",
          "MLP",
          "MLP",
          "MLP",
          "MLP",
          "MLP",
          "MLP",
          "MLP",
          "MLP",
          "MLP",
          "MLP",
          "MLP",
          "MLP",
          "MLP",
          "MLP",
          "MLP",
          "MLP",
          "MLP",
          "MLP",
          "MLP",
          "MLP",
          "MLP",
          "MLP",
          "MLP",
          "MLP",
          "MLP",
          "MLP",
          "MLP",
          "MLP",
          "MLP",
          "MLP",
          "MLP",
          "MLP",
          "MLP",
          "MLP",
          "MLP"
         ],
         "x0": " ",
         "xaxis": "x",
         "y": [
          0.6777777777777778,
          0.6819444444444445,
          0.6361111111111111,
          0.6569444444444444,
          0.6375,
          0.6319444444444444,
          0.6861111111111111,
          0.6388888888888888,
          0.6736111111111112,
          0.6555555555555556,
          0.6375,
          0.6625,
          0.6486111111111111,
          0.6486111111111111,
          0.5694444444444444,
          0.6097222222222223,
          0.6236111111111111,
          0.6222222222222222,
          0.6180555555555556,
          0.6402777777777777,
          0.6486111111111111,
          0.6597222222222222,
          0.6652777777777777,
          0.5819444444444445,
          0.6652777777777777,
          0.6513888888888889,
          0.6333333333333333,
          0.6736111111111112,
          0.6277777777777778,
          0.6611111111111111,
          0.6569444444444444,
          0.6819444444444445,
          0.6583333333333333,
          0.6361111111111111,
          0.6736111111111112,
          0.675,
          0.6597222222222222,
          0.6458333333333334,
          0.6388888888888888,
          0.6916666666666667,
          0.6513888888888889,
          0.6805555555555556,
          0.6708333333333333,
          0.6263888888888889,
          0.6055555555555555,
          0.6638888888888889,
          0.6486111111111111,
          0.6402777777777777,
          0.5986111111111111,
          0.6722222222222223
         ],
         "y0": " ",
         "yaxis": "y"
        }
       ],
       "layout": {
        "boxmode": "overlay",
        "legend": {
         "title": {
          "text": "Machine Learning Model"
         },
         "tracegroupgap": 0
        },
        "template": {
         "data": {
          "bar": [
           {
            "error_x": {
             "color": "#2a3f5f"
            },
            "error_y": {
             "color": "#2a3f5f"
            },
            "marker": {
             "line": {
              "color": "#E5ECF6",
              "width": 0.5
             },
             "pattern": {
              "fillmode": "overlay",
              "size": 10,
              "solidity": 0.2
             }
            },
            "type": "bar"
           }
          ],
          "barpolar": [
           {
            "marker": {
             "line": {
              "color": "#E5ECF6",
              "width": 0.5
             },
             "pattern": {
              "fillmode": "overlay",
              "size": 10,
              "solidity": 0.2
             }
            },
            "type": "barpolar"
           }
          ],
          "carpet": [
           {
            "aaxis": {
             "endlinecolor": "#2a3f5f",
             "gridcolor": "white",
             "linecolor": "white",
             "minorgridcolor": "white",
             "startlinecolor": "#2a3f5f"
            },
            "baxis": {
             "endlinecolor": "#2a3f5f",
             "gridcolor": "white",
             "linecolor": "white",
             "minorgridcolor": "white",
             "startlinecolor": "#2a3f5f"
            },
            "type": "carpet"
           }
          ],
          "choropleth": [
           {
            "colorbar": {
             "outlinewidth": 0,
             "ticks": ""
            },
            "type": "choropleth"
           }
          ],
          "contour": [
           {
            "colorbar": {
             "outlinewidth": 0,
             "ticks": ""
            },
            "colorscale": [
             [
              0,
              "#0d0887"
             ],
             [
              0.1111111111111111,
              "#46039f"
             ],
             [
              0.2222222222222222,
              "#7201a8"
             ],
             [
              0.3333333333333333,
              "#9c179e"
             ],
             [
              0.4444444444444444,
              "#bd3786"
             ],
             [
              0.5555555555555556,
              "#d8576b"
             ],
             [
              0.6666666666666666,
              "#ed7953"
             ],
             [
              0.7777777777777778,
              "#fb9f3a"
             ],
             [
              0.8888888888888888,
              "#fdca26"
             ],
             [
              1,
              "#f0f921"
             ]
            ],
            "type": "contour"
           }
          ],
          "contourcarpet": [
           {
            "colorbar": {
             "outlinewidth": 0,
             "ticks": ""
            },
            "type": "contourcarpet"
           }
          ],
          "heatmap": [
           {
            "colorbar": {
             "outlinewidth": 0,
             "ticks": ""
            },
            "colorscale": [
             [
              0,
              "#0d0887"
             ],
             [
              0.1111111111111111,
              "#46039f"
             ],
             [
              0.2222222222222222,
              "#7201a8"
             ],
             [
              0.3333333333333333,
              "#9c179e"
             ],
             [
              0.4444444444444444,
              "#bd3786"
             ],
             [
              0.5555555555555556,
              "#d8576b"
             ],
             [
              0.6666666666666666,
              "#ed7953"
             ],
             [
              0.7777777777777778,
              "#fb9f3a"
             ],
             [
              0.8888888888888888,
              "#fdca26"
             ],
             [
              1,
              "#f0f921"
             ]
            ],
            "type": "heatmap"
           }
          ],
          "heatmapgl": [
           {
            "colorbar": {
             "outlinewidth": 0,
             "ticks": ""
            },
            "colorscale": [
             [
              0,
              "#0d0887"
             ],
             [
              0.1111111111111111,
              "#46039f"
             ],
             [
              0.2222222222222222,
              "#7201a8"
             ],
             [
              0.3333333333333333,
              "#9c179e"
             ],
             [
              0.4444444444444444,
              "#bd3786"
             ],
             [
              0.5555555555555556,
              "#d8576b"
             ],
             [
              0.6666666666666666,
              "#ed7953"
             ],
             [
              0.7777777777777778,
              "#fb9f3a"
             ],
             [
              0.8888888888888888,
              "#fdca26"
             ],
             [
              1,
              "#f0f921"
             ]
            ],
            "type": "heatmapgl"
           }
          ],
          "histogram": [
           {
            "marker": {
             "pattern": {
              "fillmode": "overlay",
              "size": 10,
              "solidity": 0.2
             }
            },
            "type": "histogram"
           }
          ],
          "histogram2d": [
           {
            "colorbar": {
             "outlinewidth": 0,
             "ticks": ""
            },
            "colorscale": [
             [
              0,
              "#0d0887"
             ],
             [
              0.1111111111111111,
              "#46039f"
             ],
             [
              0.2222222222222222,
              "#7201a8"
             ],
             [
              0.3333333333333333,
              "#9c179e"
             ],
             [
              0.4444444444444444,
              "#bd3786"
             ],
             [
              0.5555555555555556,
              "#d8576b"
             ],
             [
              0.6666666666666666,
              "#ed7953"
             ],
             [
              0.7777777777777778,
              "#fb9f3a"
             ],
             [
              0.8888888888888888,
              "#fdca26"
             ],
             [
              1,
              "#f0f921"
             ]
            ],
            "type": "histogram2d"
           }
          ],
          "histogram2dcontour": [
           {
            "colorbar": {
             "outlinewidth": 0,
             "ticks": ""
            },
            "colorscale": [
             [
              0,
              "#0d0887"
             ],
             [
              0.1111111111111111,
              "#46039f"
             ],
             [
              0.2222222222222222,
              "#7201a8"
             ],
             [
              0.3333333333333333,
              "#9c179e"
             ],
             [
              0.4444444444444444,
              "#bd3786"
             ],
             [
              0.5555555555555556,
              "#d8576b"
             ],
             [
              0.6666666666666666,
              "#ed7953"
             ],
             [
              0.7777777777777778,
              "#fb9f3a"
             ],
             [
              0.8888888888888888,
              "#fdca26"
             ],
             [
              1,
              "#f0f921"
             ]
            ],
            "type": "histogram2dcontour"
           }
          ],
          "mesh3d": [
           {
            "colorbar": {
             "outlinewidth": 0,
             "ticks": ""
            },
            "type": "mesh3d"
           }
          ],
          "parcoords": [
           {
            "line": {
             "colorbar": {
              "outlinewidth": 0,
              "ticks": ""
             }
            },
            "type": "parcoords"
           }
          ],
          "pie": [
           {
            "automargin": true,
            "type": "pie"
           }
          ],
          "scatter": [
           {
            "fillpattern": {
             "fillmode": "overlay",
             "size": 10,
             "solidity": 0.2
            },
            "type": "scatter"
           }
          ],
          "scatter3d": [
           {
            "line": {
             "colorbar": {
              "outlinewidth": 0,
              "ticks": ""
             }
            },
            "marker": {
             "colorbar": {
              "outlinewidth": 0,
              "ticks": ""
             }
            },
            "type": "scatter3d"
           }
          ],
          "scattercarpet": [
           {
            "marker": {
             "colorbar": {
              "outlinewidth": 0,
              "ticks": ""
             }
            },
            "type": "scattercarpet"
           }
          ],
          "scattergeo": [
           {
            "marker": {
             "colorbar": {
              "outlinewidth": 0,
              "ticks": ""
             }
            },
            "type": "scattergeo"
           }
          ],
          "scattergl": [
           {
            "marker": {
             "colorbar": {
              "outlinewidth": 0,
              "ticks": ""
             }
            },
            "type": "scattergl"
           }
          ],
          "scattermapbox": [
           {
            "marker": {
             "colorbar": {
              "outlinewidth": 0,
              "ticks": ""
             }
            },
            "type": "scattermapbox"
           }
          ],
          "scatterpolar": [
           {
            "marker": {
             "colorbar": {
              "outlinewidth": 0,
              "ticks": ""
             }
            },
            "type": "scatterpolar"
           }
          ],
          "scatterpolargl": [
           {
            "marker": {
             "colorbar": {
              "outlinewidth": 0,
              "ticks": ""
             }
            },
            "type": "scatterpolargl"
           }
          ],
          "scatterternary": [
           {
            "marker": {
             "colorbar": {
              "outlinewidth": 0,
              "ticks": ""
             }
            },
            "type": "scatterternary"
           }
          ],
          "surface": [
           {
            "colorbar": {
             "outlinewidth": 0,
             "ticks": ""
            },
            "colorscale": [
             [
              0,
              "#0d0887"
             ],
             [
              0.1111111111111111,
              "#46039f"
             ],
             [
              0.2222222222222222,
              "#7201a8"
             ],
             [
              0.3333333333333333,
              "#9c179e"
             ],
             [
              0.4444444444444444,
              "#bd3786"
             ],
             [
              0.5555555555555556,
              "#d8576b"
             ],
             [
              0.6666666666666666,
              "#ed7953"
             ],
             [
              0.7777777777777778,
              "#fb9f3a"
             ],
             [
              0.8888888888888888,
              "#fdca26"
             ],
             [
              1,
              "#f0f921"
             ]
            ],
            "type": "surface"
           }
          ],
          "table": [
           {
            "cells": {
             "fill": {
              "color": "#EBF0F8"
             },
             "line": {
              "color": "white"
             }
            },
            "header": {
             "fill": {
              "color": "#C8D4E3"
             },
             "line": {
              "color": "white"
             }
            },
            "type": "table"
           }
          ]
         },
         "layout": {
          "annotationdefaults": {
           "arrowcolor": "#2a3f5f",
           "arrowhead": 0,
           "arrowwidth": 1
          },
          "autotypenumbers": "strict",
          "coloraxis": {
           "colorbar": {
            "outlinewidth": 0,
            "ticks": ""
           }
          },
          "colorscale": {
           "diverging": [
            [
             0,
             "#8e0152"
            ],
            [
             0.1,
             "#c51b7d"
            ],
            [
             0.2,
             "#de77ae"
            ],
            [
             0.3,
             "#f1b6da"
            ],
            [
             0.4,
             "#fde0ef"
            ],
            [
             0.5,
             "#f7f7f7"
            ],
            [
             0.6,
             "#e6f5d0"
            ],
            [
             0.7,
             "#b8e186"
            ],
            [
             0.8,
             "#7fbc41"
            ],
            [
             0.9,
             "#4d9221"
            ],
            [
             1,
             "#276419"
            ]
           ],
           "sequential": [
            [
             0,
             "#0d0887"
            ],
            [
             0.1111111111111111,
             "#46039f"
            ],
            [
             0.2222222222222222,
             "#7201a8"
            ],
            [
             0.3333333333333333,
             "#9c179e"
            ],
            [
             0.4444444444444444,
             "#bd3786"
            ],
            [
             0.5555555555555556,
             "#d8576b"
            ],
            [
             0.6666666666666666,
             "#ed7953"
            ],
            [
             0.7777777777777778,
             "#fb9f3a"
            ],
            [
             0.8888888888888888,
             "#fdca26"
            ],
            [
             1,
             "#f0f921"
            ]
           ],
           "sequentialminus": [
            [
             0,
             "#0d0887"
            ],
            [
             0.1111111111111111,
             "#46039f"
            ],
            [
             0.2222222222222222,
             "#7201a8"
            ],
            [
             0.3333333333333333,
             "#9c179e"
            ],
            [
             0.4444444444444444,
             "#bd3786"
            ],
            [
             0.5555555555555556,
             "#d8576b"
            ],
            [
             0.6666666666666666,
             "#ed7953"
            ],
            [
             0.7777777777777778,
             "#fb9f3a"
            ],
            [
             0.8888888888888888,
             "#fdca26"
            ],
            [
             1,
             "#f0f921"
            ]
           ]
          },
          "colorway": [
           "#636efa",
           "#EF553B",
           "#00cc96",
           "#ab63fa",
           "#FFA15A",
           "#19d3f3",
           "#FF6692",
           "#B6E880",
           "#FF97FF",
           "#FECB52"
          ],
          "font": {
           "color": "#2a3f5f"
          },
          "geo": {
           "bgcolor": "white",
           "lakecolor": "white",
           "landcolor": "#E5ECF6",
           "showlakes": true,
           "showland": true,
           "subunitcolor": "white"
          },
          "hoverlabel": {
           "align": "left"
          },
          "hovermode": "closest",
          "mapbox": {
           "style": "light"
          },
          "paper_bgcolor": "white",
          "plot_bgcolor": "#E5ECF6",
          "polar": {
           "angularaxis": {
            "gridcolor": "white",
            "linecolor": "white",
            "ticks": ""
           },
           "bgcolor": "#E5ECF6",
           "radialaxis": {
            "gridcolor": "white",
            "linecolor": "white",
            "ticks": ""
           }
          },
          "scene": {
           "xaxis": {
            "backgroundcolor": "#E5ECF6",
            "gridcolor": "white",
            "gridwidth": 2,
            "linecolor": "white",
            "showbackground": true,
            "ticks": "",
            "zerolinecolor": "white"
           },
           "yaxis": {
            "backgroundcolor": "#E5ECF6",
            "gridcolor": "white",
            "gridwidth": 2,
            "linecolor": "white",
            "showbackground": true,
            "ticks": "",
            "zerolinecolor": "white"
           },
           "zaxis": {
            "backgroundcolor": "#E5ECF6",
            "gridcolor": "white",
            "gridwidth": 2,
            "linecolor": "white",
            "showbackground": true,
            "ticks": "",
            "zerolinecolor": "white"
           }
          },
          "shapedefaults": {
           "line": {
            "color": "#2a3f5f"
           }
          },
          "ternary": {
           "aaxis": {
            "gridcolor": "white",
            "linecolor": "white",
            "ticks": ""
           },
           "baxis": {
            "gridcolor": "white",
            "linecolor": "white",
            "ticks": ""
           },
           "bgcolor": "#E5ECF6",
           "caxis": {
            "gridcolor": "white",
            "linecolor": "white",
            "ticks": ""
           }
          },
          "title": {
           "x": 0.05
          },
          "xaxis": {
           "automargin": true,
           "gridcolor": "white",
           "linecolor": "white",
           "ticks": "",
           "title": {
            "standoff": 15
           },
           "zerolinecolor": "white",
           "zerolinewidth": 2
          },
          "yaxis": {
           "automargin": true,
           "gridcolor": "white",
           "linecolor": "white",
           "ticks": "",
           "title": {
            "standoff": 15
           },
           "zerolinecolor": "white",
           "zerolinewidth": 2
          }
         }
        },
        "title": {
         "text": "Base Model Performance for Drinking Status Prediction"
        },
        "xaxis": {
         "anchor": "y",
         "categoryarray": [
          "Logistic",
          "NB",
          "KNN",
          "Decision Tree",
          "Random Forest",
          "GB",
          "XGB",
          "Bagging",
          "SVM",
          "QDA",
          "AdaBoost",
          "MLP"
         ],
         "categoryorder": "array",
         "domain": [
          0,
          1
         ],
         "title": {
          "text": "Machine Learning Model"
         }
        },
        "yaxis": {
         "anchor": "x",
         "domain": [
          0,
          1
         ],
         "title": {
          "text": "Accuracy"
         }
        }
       }
      }
     },
     "metadata": {},
     "output_type": "display_data"
    }
   ],
   "source": [
    "dk_fig = px.box(dk_classmod, x=\"variable\", y=\"value\",color=\"variable\",points='all',\n",
    "labels={\"variable\": \"Machine Learning Model\",\n",
    "        \"value\": \"Accuracy\"\n",
    "        },title=\"Base Model Performance for Drinking Status Prediction\")\n",
    "dk_fig.show()"
   ]
  },
  {
   "cell_type": "markdown",
   "metadata": {},
   "source": [
    "### Smoking Status as the Target Variable"
   ]
  },
  {
   "cell_type": "code",
   "execution_count": 13,
   "metadata": {},
   "outputs": [
    {
     "name": "stdout",
     "output_type": "stream",
     "text": [
      ">Logistic 0.672 (0.016)\n",
      ">NB 0.575 (0.016)\n",
      ">KNN 0.633 (0.017)\n",
      ">Decision Tree 0.584 (0.020)\n",
      ">Random Forest 0.664 (0.017)\n",
      ">GB 0.672 (0.017)\n",
      ">XGB 0.655 (0.019)\n",
      ">Bagging 0.660 (0.019)\n",
      ">SVM 0.667 (0.014)\n",
      ">QDA 0.576 (0.022)\n",
      ">AdaBoost 0.664 (0.016)\n",
      ">MLP 0.650 (0.025)\n"
     ]
    }
   ],
   "source": [
    "# evaluate the models and store results\n",
    "smk_results, smk_names = list(), list()\n",
    "\n",
    "for name, model in models.items():\n",
    "  smk_scores = eval_models(model)\n",
    "  smk_results.append(smk_scores)\n",
    "  smk_names.append(name)\n",
    "  print('>%s %.3f (%.3f)' % (name, smk_scores.mean(), smk_scores.std()))\n",
    "\n",
    "\n",
    "smk_classmod = pd.DataFrame(np.transpose(smk_results), columns = [\"Logistic\",\"NB\",\"KNN\",\"Decision Tree\",\"Random Forest\",\"GB\",\"XGB\",\"Bagging\",\"SVM\",\"QDA\",\"AdaBoost\",\"MLP\"])\n",
    "smk_classmod = pd.melt(smk_classmod.reset_index(), id_vars='index', value_vars=[\"Logistic\",\"NB\",\"KNN\",\"Decision Tree\",\"Random Forest\",\"GB\",\"XGB\",\"Bagging\",\"SVM\",\"QDA\",\"AdaBoost\",\"MLP\"])\n"
   ]
  },
  {
   "cell_type": "code",
   "execution_count": 14,
   "metadata": {},
   "outputs": [
    {
     "data": {
      "application/vnd.plotly.v1+json": {
       "config": {
        "plotlyServerURL": "https://plotly.com"
       },
       "data": [
        {
         "alignmentgroup": "True",
         "boxpoints": "all",
         "hovertemplate": "Machine Learning Model=%{x}<br>Accuracy=%{y}<extra></extra>",
         "legendgroup": "Logistic",
         "marker": {
          "color": "#636efa"
         },
         "name": "Logistic",
         "notched": false,
         "offsetgroup": "Logistic",
         "orientation": "v",
         "showlegend": true,
         "type": "box",
         "x": [
          "Logistic",
          "Logistic",
          "Logistic",
          "Logistic",
          "Logistic",
          "Logistic",
          "Logistic",
          "Logistic",
          "Logistic",
          "Logistic",
          "Logistic",
          "Logistic",
          "Logistic",
          "Logistic",
          "Logistic",
          "Logistic",
          "Logistic",
          "Logistic",
          "Logistic",
          "Logistic",
          "Logistic",
          "Logistic",
          "Logistic",
          "Logistic",
          "Logistic",
          "Logistic",
          "Logistic",
          "Logistic",
          "Logistic",
          "Logistic",
          "Logistic",
          "Logistic",
          "Logistic",
          "Logistic",
          "Logistic",
          "Logistic",
          "Logistic",
          "Logistic",
          "Logistic",
          "Logistic",
          "Logistic",
          "Logistic",
          "Logistic",
          "Logistic",
          "Logistic",
          "Logistic",
          "Logistic",
          "Logistic",
          "Logistic",
          "Logistic"
         ],
         "x0": " ",
         "xaxis": "x",
         "y": [
          0.6944444444444444,
          0.6736111111111112,
          0.6777777777777778,
          0.6888888888888889,
          0.6541666666666667,
          0.6527777777777778,
          0.6694444444444444,
          0.6416666666666667,
          0.6736111111111112,
          0.6944444444444444,
          0.6444444444444445,
          0.6819444444444445,
          0.6847222222222222,
          0.6569444444444444,
          0.6583333333333333,
          0.6555555555555556,
          0.6458333333333334,
          0.7,
          0.7083333333333334,
          0.6708333333333333,
          0.6777777777777778,
          0.6541666666666667,
          0.7083333333333334,
          0.6513888888888889,
          0.6819444444444445,
          0.6958333333333333,
          0.6666666666666666,
          0.6666666666666666,
          0.6638888888888889,
          0.6527777777777778,
          0.6819444444444445,
          0.6819444444444445,
          0.6833333333333333,
          0.6722222222222223,
          0.6791666666666667,
          0.6722222222222223,
          0.6583333333333333,
          0.6527777777777778,
          0.6583333333333333,
          0.6888888888888889,
          0.6736111111111112,
          0.65,
          0.6694444444444444,
          0.6666666666666666,
          0.6652777777777777,
          0.6902777777777778,
          0.6736111111111112,
          0.6805555555555556,
          0.6819444444444445,
          0.6652777777777777
         ],
         "y0": " ",
         "yaxis": "y"
        },
        {
         "alignmentgroup": "True",
         "boxpoints": "all",
         "hovertemplate": "Machine Learning Model=%{x}<br>Accuracy=%{y}<extra></extra>",
         "legendgroup": "NB",
         "marker": {
          "color": "#EF553B"
         },
         "name": "NB",
         "notched": false,
         "offsetgroup": "NB",
         "orientation": "v",
         "showlegend": true,
         "type": "box",
         "x": [
          "NB",
          "NB",
          "NB",
          "NB",
          "NB",
          "NB",
          "NB",
          "NB",
          "NB",
          "NB",
          "NB",
          "NB",
          "NB",
          "NB",
          "NB",
          "NB",
          "NB",
          "NB",
          "NB",
          "NB",
          "NB",
          "NB",
          "NB",
          "NB",
          "NB",
          "NB",
          "NB",
          "NB",
          "NB",
          "NB",
          "NB",
          "NB",
          "NB",
          "NB",
          "NB",
          "NB",
          "NB",
          "NB",
          "NB",
          "NB",
          "NB",
          "NB",
          "NB",
          "NB",
          "NB",
          "NB",
          "NB",
          "NB",
          "NB",
          "NB"
         ],
         "x0": " ",
         "xaxis": "x",
         "y": [
          0.5638888888888889,
          0.5986111111111111,
          0.5833333333333334,
          0.625,
          0.5777777777777777,
          0.5680555555555555,
          0.5555555555555556,
          0.55,
          0.5652777777777778,
          0.5694444444444444,
          0.5805555555555556,
          0.5666666666666667,
          0.5736111111111111,
          0.5875,
          0.5652777777777778,
          0.5583333333333333,
          0.5736111111111111,
          0.5791666666666667,
          0.5555555555555556,
          0.575,
          0.5833333333333334,
          0.5861111111111111,
          0.6027777777777777,
          0.5541666666666667,
          0.5694444444444444,
          0.5875,
          0.5763888888888888,
          0.5680555555555555,
          0.5597222222222222,
          0.5847222222222223,
          0.55,
          0.5875,
          0.5819444444444445,
          0.5861111111111111,
          0.575,
          0.6013888888888889,
          0.5444444444444444,
          0.5763888888888888,
          0.5611111111111111,
          0.5861111111111111,
          0.5722222222222222,
          0.5805555555555556,
          0.5875,
          0.5805555555555556,
          0.55,
          0.5597222222222222,
          0.5861111111111111,
          0.5902777777777778,
          0.575,
          0.5513888888888889
         ],
         "y0": " ",
         "yaxis": "y"
        },
        {
         "alignmentgroup": "True",
         "boxpoints": "all",
         "hovertemplate": "Machine Learning Model=%{x}<br>Accuracy=%{y}<extra></extra>",
         "legendgroup": "KNN",
         "marker": {
          "color": "#00cc96"
         },
         "name": "KNN",
         "notched": false,
         "offsetgroup": "KNN",
         "orientation": "v",
         "showlegend": true,
         "type": "box",
         "x": [
          "KNN",
          "KNN",
          "KNN",
          "KNN",
          "KNN",
          "KNN",
          "KNN",
          "KNN",
          "KNN",
          "KNN",
          "KNN",
          "KNN",
          "KNN",
          "KNN",
          "KNN",
          "KNN",
          "KNN",
          "KNN",
          "KNN",
          "KNN",
          "KNN",
          "KNN",
          "KNN",
          "KNN",
          "KNN",
          "KNN",
          "KNN",
          "KNN",
          "KNN",
          "KNN",
          "KNN",
          "KNN",
          "KNN",
          "KNN",
          "KNN",
          "KNN",
          "KNN",
          "KNN",
          "KNN",
          "KNN",
          "KNN",
          "KNN",
          "KNN",
          "KNN",
          "KNN",
          "KNN",
          "KNN",
          "KNN",
          "KNN",
          "KNN"
         ],
         "x0": " ",
         "xaxis": "x",
         "y": [
          0.6375,
          0.6388888888888888,
          0.6347222222222222,
          0.6444444444444445,
          0.6291666666666667,
          0.6111111111111112,
          0.6208333333333333,
          0.6236111111111111,
          0.6597222222222222,
          0.6361111111111111,
          0.6222222222222222,
          0.625,
          0.6125,
          0.625,
          0.6236111111111111,
          0.6236111111111111,
          0.6263888888888889,
          0.6527777777777778,
          0.6680555555555555,
          0.6277777777777778,
          0.6458333333333334,
          0.6319444444444444,
          0.6513888888888889,
          0.6236111111111111,
          0.65,
          0.6388888888888888,
          0.6027777777777777,
          0.6680555555555555,
          0.6,
          0.6541666666666667,
          0.6208333333333333,
          0.6430555555555556,
          0.6194444444444445,
          0.6333333333333333,
          0.6652777777777777,
          0.6472222222222223,
          0.6180555555555556,
          0.6166666666666667,
          0.6041666666666666,
          0.6555555555555556,
          0.625,
          0.625,
          0.65,
          0.6291666666666667,
          0.6236111111111111,
          0.6138888888888889,
          0.6402777777777777,
          0.6222222222222222,
          0.6458333333333334,
          0.6611111111111111
         ],
         "y0": " ",
         "yaxis": "y"
        },
        {
         "alignmentgroup": "True",
         "boxpoints": "all",
         "hovertemplate": "Machine Learning Model=%{x}<br>Accuracy=%{y}<extra></extra>",
         "legendgroup": "Decision Tree",
         "marker": {
          "color": "#ab63fa"
         },
         "name": "Decision Tree",
         "notched": false,
         "offsetgroup": "Decision Tree",
         "orientation": "v",
         "showlegend": true,
         "type": "box",
         "x": [
          "Decision Tree",
          "Decision Tree",
          "Decision Tree",
          "Decision Tree",
          "Decision Tree",
          "Decision Tree",
          "Decision Tree",
          "Decision Tree",
          "Decision Tree",
          "Decision Tree",
          "Decision Tree",
          "Decision Tree",
          "Decision Tree",
          "Decision Tree",
          "Decision Tree",
          "Decision Tree",
          "Decision Tree",
          "Decision Tree",
          "Decision Tree",
          "Decision Tree",
          "Decision Tree",
          "Decision Tree",
          "Decision Tree",
          "Decision Tree",
          "Decision Tree",
          "Decision Tree",
          "Decision Tree",
          "Decision Tree",
          "Decision Tree",
          "Decision Tree",
          "Decision Tree",
          "Decision Tree",
          "Decision Tree",
          "Decision Tree",
          "Decision Tree",
          "Decision Tree",
          "Decision Tree",
          "Decision Tree",
          "Decision Tree",
          "Decision Tree",
          "Decision Tree",
          "Decision Tree",
          "Decision Tree",
          "Decision Tree",
          "Decision Tree",
          "Decision Tree",
          "Decision Tree",
          "Decision Tree",
          "Decision Tree",
          "Decision Tree"
         ],
         "x0": " ",
         "xaxis": "x",
         "y": [
          0.5694444444444444,
          0.5861111111111111,
          0.5958333333333333,
          0.6027777777777777,
          0.5916666666666667,
          0.5694444444444444,
          0.5472222222222223,
          0.5763888888888888,
          0.6069444444444444,
          0.5722222222222222,
          0.5319444444444444,
          0.5527777777777778,
          0.5722222222222222,
          0.5930555555555556,
          0.5944444444444444,
          0.5736111111111111,
          0.5763888888888888,
          0.6055555555555555,
          0.5736111111111111,
          0.5902777777777778,
          0.6333333333333333,
          0.5833333333333334,
          0.5805555555555556,
          0.5555555555555556,
          0.5944444444444444,
          0.5986111111111111,
          0.5763888888888888,
          0.5847222222222223,
          0.575,
          0.5888888888888889,
          0.5888888888888889,
          0.5916666666666667,
          0.6,
          0.5555555555555556,
          0.6083333333333333,
          0.5930555555555556,
          0.575,
          0.5527777777777778,
          0.5763888888888888,
          0.6166666666666667,
          0.5916666666666667,
          0.6208333333333333,
          0.6111111111111112,
          0.625,
          0.5805555555555556,
          0.5611111111111111,
          0.5888888888888889,
          0.5638888888888889,
          0.5861111111111111,
          0.5708333333333333
         ],
         "y0": " ",
         "yaxis": "y"
        },
        {
         "alignmentgroup": "True",
         "boxpoints": "all",
         "hovertemplate": "Machine Learning Model=%{x}<br>Accuracy=%{y}<extra></extra>",
         "legendgroup": "Random Forest",
         "marker": {
          "color": "#FFA15A"
         },
         "name": "Random Forest",
         "notched": false,
         "offsetgroup": "Random Forest",
         "orientation": "v",
         "showlegend": true,
         "type": "box",
         "x": [
          "Random Forest",
          "Random Forest",
          "Random Forest",
          "Random Forest",
          "Random Forest",
          "Random Forest",
          "Random Forest",
          "Random Forest",
          "Random Forest",
          "Random Forest",
          "Random Forest",
          "Random Forest",
          "Random Forest",
          "Random Forest",
          "Random Forest",
          "Random Forest",
          "Random Forest",
          "Random Forest",
          "Random Forest",
          "Random Forest",
          "Random Forest",
          "Random Forest",
          "Random Forest",
          "Random Forest",
          "Random Forest",
          "Random Forest",
          "Random Forest",
          "Random Forest",
          "Random Forest",
          "Random Forest",
          "Random Forest",
          "Random Forest",
          "Random Forest",
          "Random Forest",
          "Random Forest",
          "Random Forest",
          "Random Forest",
          "Random Forest",
          "Random Forest",
          "Random Forest",
          "Random Forest",
          "Random Forest",
          "Random Forest",
          "Random Forest",
          "Random Forest",
          "Random Forest",
          "Random Forest",
          "Random Forest",
          "Random Forest",
          "Random Forest"
         ],
         "x0": " ",
         "xaxis": "x",
         "y": [
          0.6763888888888889,
          0.6722222222222223,
          0.6708333333333333,
          0.6916666666666667,
          0.6569444444444444,
          0.6513888888888889,
          0.6736111111111112,
          0.6347222222222222,
          0.6847222222222222,
          0.6694444444444444,
          0.6347222222222222,
          0.6652777777777777,
          0.6583333333333333,
          0.6597222222222222,
          0.6388888888888888,
          0.6472222222222223,
          0.6569444444444444,
          0.675,
          0.6847222222222222,
          0.6736111111111112,
          0.6833333333333333,
          0.6638888888888889,
          0.6805555555555556,
          0.6111111111111112,
          0.6680555555555555,
          0.6930555555555555,
          0.6736111111111112,
          0.6791666666666667,
          0.6638888888888889,
          0.6708333333333333,
          0.6791666666666667,
          0.6583333333333333,
          0.6666666666666666,
          0.6513888888888889,
          0.6861111111111111,
          0.6875,
          0.6722222222222223,
          0.6180555555555556,
          0.6472222222222223,
          0.6611111111111111,
          0.6666666666666666,
          0.6625,
          0.6625,
          0.6513888888888889,
          0.6666666666666666,
          0.6763888888888889,
          0.6583333333333333,
          0.6555555555555556,
          0.6638888888888889,
          0.6513888888888889
         ],
         "y0": " ",
         "yaxis": "y"
        },
        {
         "alignmentgroup": "True",
         "boxpoints": "all",
         "hovertemplate": "Machine Learning Model=%{x}<br>Accuracy=%{y}<extra></extra>",
         "legendgroup": "GB",
         "marker": {
          "color": "#19d3f3"
         },
         "name": "GB",
         "notched": false,
         "offsetgroup": "GB",
         "orientation": "v",
         "showlegend": true,
         "type": "box",
         "x": [
          "GB",
          "GB",
          "GB",
          "GB",
          "GB",
          "GB",
          "GB",
          "GB",
          "GB",
          "GB",
          "GB",
          "GB",
          "GB",
          "GB",
          "GB",
          "GB",
          "GB",
          "GB",
          "GB",
          "GB",
          "GB",
          "GB",
          "GB",
          "GB",
          "GB",
          "GB",
          "GB",
          "GB",
          "GB",
          "GB",
          "GB",
          "GB",
          "GB",
          "GB",
          "GB",
          "GB",
          "GB",
          "GB",
          "GB",
          "GB",
          "GB",
          "GB",
          "GB",
          "GB",
          "GB",
          "GB",
          "GB",
          "GB",
          "GB",
          "GB"
         ],
         "x0": " ",
         "xaxis": "x",
         "y": [
          0.6916666666666667,
          0.6722222222222223,
          0.6861111111111111,
          0.7069444444444445,
          0.6513888888888889,
          0.6583333333333333,
          0.6625,
          0.6486111111111111,
          0.6638888888888889,
          0.6861111111111111,
          0.6625,
          0.675,
          0.6902777777777778,
          0.6763888888888889,
          0.6458333333333334,
          0.6402777777777777,
          0.6694444444444444,
          0.6902777777777778,
          0.7055555555555556,
          0.6638888888888889,
          0.6916666666666667,
          0.6680555555555555,
          0.6861111111111111,
          0.6291666666666667,
          0.6736111111111112,
          0.6763888888888889,
          0.6555555555555556,
          0.6652777777777777,
          0.6625,
          0.6847222222222222,
          0.675,
          0.6805555555555556,
          0.6763888888888889,
          0.6569444444444444,
          0.6916666666666667,
          0.6944444444444444,
          0.6638888888888889,
          0.6416666666666667,
          0.6513888888888889,
          0.7055555555555556,
          0.6569444444444444,
          0.6625,
          0.6763888888888889,
          0.6680555555555555,
          0.6583333333333333,
          0.6819444444444445,
          0.6722222222222223,
          0.6597222222222222,
          0.6861111111111111,
          0.6777777777777778
         ],
         "y0": " ",
         "yaxis": "y"
        },
        {
         "alignmentgroup": "True",
         "boxpoints": "all",
         "hovertemplate": "Machine Learning Model=%{x}<br>Accuracy=%{y}<extra></extra>",
         "legendgroup": "XGB",
         "marker": {
          "color": "#FF6692"
         },
         "name": "XGB",
         "notched": false,
         "offsetgroup": "XGB",
         "orientation": "v",
         "showlegend": true,
         "type": "box",
         "x": [
          "XGB",
          "XGB",
          "XGB",
          "XGB",
          "XGB",
          "XGB",
          "XGB",
          "XGB",
          "XGB",
          "XGB",
          "XGB",
          "XGB",
          "XGB",
          "XGB",
          "XGB",
          "XGB",
          "XGB",
          "XGB",
          "XGB",
          "XGB",
          "XGB",
          "XGB",
          "XGB",
          "XGB",
          "XGB",
          "XGB",
          "XGB",
          "XGB",
          "XGB",
          "XGB",
          "XGB",
          "XGB",
          "XGB",
          "XGB",
          "XGB",
          "XGB",
          "XGB",
          "XGB",
          "XGB",
          "XGB",
          "XGB",
          "XGB",
          "XGB",
          "XGB",
          "XGB",
          "XGB",
          "XGB",
          "XGB",
          "XGB",
          "XGB"
         ],
         "x0": " ",
         "xaxis": "x",
         "y": [
          0.6583333333333333,
          0.6416666666666667,
          0.6513888888888889,
          0.6625,
          0.6375,
          0.6347222222222222,
          0.6333333333333333,
          0.6027777777777777,
          0.6847222222222222,
          0.6708333333333333,
          0.6416666666666667,
          0.6583333333333333,
          0.6902777777777778,
          0.6666666666666666,
          0.6319444444444444,
          0.6527777777777778,
          0.6652777777777777,
          0.6694444444444444,
          0.6736111111111112,
          0.6694444444444444,
          0.6638888888888889,
          0.6638888888888889,
          0.675,
          0.6486111111111111,
          0.6680555555555555,
          0.6597222222222222,
          0.6486111111111111,
          0.6555555555555556,
          0.6333333333333333,
          0.6597222222222222,
          0.6263888888888889,
          0.6652777777777777,
          0.675,
          0.6361111111111111,
          0.6638888888888889,
          0.6805555555555556,
          0.6333333333333333,
          0.625,
          0.625,
          0.675,
          0.6347222222222222,
          0.6513888888888889,
          0.6791666666666667,
          0.6458333333333334,
          0.6458333333333334,
          0.6819444444444445,
          0.6777777777777778,
          0.6416666666666667,
          0.6541666666666667,
          0.65
         ],
         "y0": " ",
         "yaxis": "y"
        },
        {
         "alignmentgroup": "True",
         "boxpoints": "all",
         "hovertemplate": "Machine Learning Model=%{x}<br>Accuracy=%{y}<extra></extra>",
         "legendgroup": "Bagging",
         "marker": {
          "color": "#B6E880"
         },
         "name": "Bagging",
         "notched": false,
         "offsetgroup": "Bagging",
         "orientation": "v",
         "showlegend": true,
         "type": "box",
         "x": [
          "Bagging",
          "Bagging",
          "Bagging",
          "Bagging",
          "Bagging",
          "Bagging",
          "Bagging",
          "Bagging",
          "Bagging",
          "Bagging",
          "Bagging",
          "Bagging",
          "Bagging",
          "Bagging",
          "Bagging",
          "Bagging",
          "Bagging",
          "Bagging",
          "Bagging",
          "Bagging",
          "Bagging",
          "Bagging",
          "Bagging",
          "Bagging",
          "Bagging",
          "Bagging",
          "Bagging",
          "Bagging",
          "Bagging",
          "Bagging",
          "Bagging",
          "Bagging",
          "Bagging",
          "Bagging",
          "Bagging",
          "Bagging",
          "Bagging",
          "Bagging",
          "Bagging",
          "Bagging",
          "Bagging",
          "Bagging",
          "Bagging",
          "Bagging",
          "Bagging",
          "Bagging",
          "Bagging",
          "Bagging",
          "Bagging",
          "Bagging"
         ],
         "x0": " ",
         "xaxis": "x",
         "y": [
          0.6666666666666666,
          0.6472222222222223,
          0.6763888888888889,
          0.6972222222222222,
          0.6333333333333333,
          0.6388888888888888,
          0.6388888888888888,
          0.6166666666666667,
          0.6736111111111112,
          0.6694444444444444,
          0.6402777777777777,
          0.6736111111111112,
          0.6736111111111112,
          0.6611111111111111,
          0.6638888888888889,
          0.6375,
          0.6555555555555556,
          0.6916666666666667,
          0.6694444444444444,
          0.6597222222222222,
          0.6958333333333333,
          0.6263888888888889,
          0.6777777777777778,
          0.6361111111111111,
          0.6680555555555555,
          0.6736111111111112,
          0.6347222222222222,
          0.6694444444444444,
          0.6513888888888889,
          0.6680555555555555,
          0.675,
          0.6555555555555556,
          0.6638888888888889,
          0.6486111111111111,
          0.6777777777777778,
          0.6875,
          0.6472222222222223,
          0.6222222222222222,
          0.6333333333333333,
          0.675,
          0.6333333333333333,
          0.6555555555555556,
          0.6472222222222223,
          0.6680555555555555,
          0.675,
          0.6625,
          0.6708333333333333,
          0.6541666666666667,
          0.6875,
          0.6763888888888889
         ],
         "y0": " ",
         "yaxis": "y"
        },
        {
         "alignmentgroup": "True",
         "boxpoints": "all",
         "hovertemplate": "Machine Learning Model=%{x}<br>Accuracy=%{y}<extra></extra>",
         "legendgroup": "SVM",
         "marker": {
          "color": "#FF97FF"
         },
         "name": "SVM",
         "notched": false,
         "offsetgroup": "SVM",
         "orientation": "v",
         "showlegend": true,
         "type": "box",
         "x": [
          "SVM",
          "SVM",
          "SVM",
          "SVM",
          "SVM",
          "SVM",
          "SVM",
          "SVM",
          "SVM",
          "SVM",
          "SVM",
          "SVM",
          "SVM",
          "SVM",
          "SVM",
          "SVM",
          "SVM",
          "SVM",
          "SVM",
          "SVM",
          "SVM",
          "SVM",
          "SVM",
          "SVM",
          "SVM",
          "SVM",
          "SVM",
          "SVM",
          "SVM",
          "SVM",
          "SVM",
          "SVM",
          "SVM",
          "SVM",
          "SVM",
          "SVM",
          "SVM",
          "SVM",
          "SVM",
          "SVM",
          "SVM",
          "SVM",
          "SVM",
          "SVM",
          "SVM",
          "SVM",
          "SVM",
          "SVM",
          "SVM",
          "SVM"
         ],
         "x0": " ",
         "xaxis": "x",
         "y": [
          0.6763888888888889,
          0.6847222222222222,
          0.6805555555555556,
          0.6736111111111112,
          0.6513888888888889,
          0.6458333333333334,
          0.6777777777777778,
          0.65,
          0.6638888888888889,
          0.6861111111111111,
          0.6527777777777778,
          0.6652777777777777,
          0.6722222222222223,
          0.6694444444444444,
          0.6652777777777777,
          0.6597222222222222,
          0.6416666666666667,
          0.6847222222222222,
          0.6930555555555555,
          0.6555555555555556,
          0.6763888888888889,
          0.6708333333333333,
          0.6888888888888889,
          0.6291666666666667,
          0.6819444444444445,
          0.6916666666666667,
          0.6513888888888889,
          0.6638888888888889,
          0.6527777777777778,
          0.6708333333333333,
          0.6694444444444444,
          0.6819444444444445,
          0.6666666666666666,
          0.65,
          0.6763888888888889,
          0.6791666666666667,
          0.65,
          0.6402777777777777,
          0.6652777777777777,
          0.6819444444444445,
          0.6611111111111111,
          0.6611111111111111,
          0.6652777777777777,
          0.6555555555555556,
          0.6736111111111112,
          0.6805555555555556,
          0.6680555555555555,
          0.6472222222222223,
          0.6722222222222223,
          0.6777777777777778
         ],
         "y0": " ",
         "yaxis": "y"
        },
        {
         "alignmentgroup": "True",
         "boxpoints": "all",
         "hovertemplate": "Machine Learning Model=%{x}<br>Accuracy=%{y}<extra></extra>",
         "legendgroup": "QDA",
         "marker": {
          "color": "#FECB52"
         },
         "name": "QDA",
         "notched": false,
         "offsetgroup": "QDA",
         "orientation": "v",
         "showlegend": true,
         "type": "box",
         "x": [
          "QDA",
          "QDA",
          "QDA",
          "QDA",
          "QDA",
          "QDA",
          "QDA",
          "QDA",
          "QDA",
          "QDA",
          "QDA",
          "QDA",
          "QDA",
          "QDA",
          "QDA",
          "QDA",
          "QDA",
          "QDA",
          "QDA",
          "QDA",
          "QDA",
          "QDA",
          "QDA",
          "QDA",
          "QDA",
          "QDA",
          "QDA",
          "QDA",
          "QDA",
          "QDA",
          "QDA",
          "QDA",
          "QDA",
          "QDA",
          "QDA",
          "QDA",
          "QDA",
          "QDA",
          "QDA",
          "QDA",
          "QDA",
          "QDA",
          "QDA",
          "QDA",
          "QDA",
          "QDA",
          "QDA",
          "QDA",
          "QDA",
          "QDA"
         ],
         "x0": " ",
         "xaxis": "x",
         "y": [
          0.5597222222222222,
          0.6125,
          0.5597222222222222,
          0.6388888888888888,
          0.575,
          0.5944444444444444,
          0.5444444444444444,
          0.5486111111111112,
          0.5638888888888889,
          0.5791666666666667,
          0.5694444444444444,
          0.5513888888888889,
          0.5694444444444444,
          0.5972222222222222,
          0.5763888888888888,
          0.5805555555555556,
          0.5805555555555556,
          0.5805555555555556,
          0.5708333333333333,
          0.5902777777777778,
          0.6,
          0.5819444444444445,
          0.6,
          0.5541666666666667,
          0.5680555555555555,
          0.575,
          0.5708333333333333,
          0.5736111111111111,
          0.5708333333333333,
          0.5583333333333333,
          0.5319444444444444,
          0.5930555555555556,
          0.5875,
          0.5958333333333333,
          0.5777777777777777,
          0.6069444444444444,
          0.5527777777777778,
          0.5819444444444445,
          0.5402777777777777,
          0.5916666666666667,
          0.5875,
          0.5847222222222223,
          0.6111111111111112,
          0.5861111111111111,
          0.5486111111111112,
          0.5555555555555556,
          0.6208333333333333,
          0.5583333333333333,
          0.5569444444444445,
          0.5472222222222223
         ],
         "y0": " ",
         "yaxis": "y"
        },
        {
         "alignmentgroup": "True",
         "boxpoints": "all",
         "hovertemplate": "Machine Learning Model=%{x}<br>Accuracy=%{y}<extra></extra>",
         "legendgroup": "AdaBoost",
         "marker": {
          "color": "#636efa"
         },
         "name": "AdaBoost",
         "notched": false,
         "offsetgroup": "AdaBoost",
         "orientation": "v",
         "showlegend": true,
         "type": "box",
         "x": [
          "AdaBoost",
          "AdaBoost",
          "AdaBoost",
          "AdaBoost",
          "AdaBoost",
          "AdaBoost",
          "AdaBoost",
          "AdaBoost",
          "AdaBoost",
          "AdaBoost",
          "AdaBoost",
          "AdaBoost",
          "AdaBoost",
          "AdaBoost",
          "AdaBoost",
          "AdaBoost",
          "AdaBoost",
          "AdaBoost",
          "AdaBoost",
          "AdaBoost",
          "AdaBoost",
          "AdaBoost",
          "AdaBoost",
          "AdaBoost",
          "AdaBoost",
          "AdaBoost",
          "AdaBoost",
          "AdaBoost",
          "AdaBoost",
          "AdaBoost",
          "AdaBoost",
          "AdaBoost",
          "AdaBoost",
          "AdaBoost",
          "AdaBoost",
          "AdaBoost",
          "AdaBoost",
          "AdaBoost",
          "AdaBoost",
          "AdaBoost",
          "AdaBoost",
          "AdaBoost",
          "AdaBoost",
          "AdaBoost",
          "AdaBoost",
          "AdaBoost",
          "AdaBoost",
          "AdaBoost",
          "AdaBoost",
          "AdaBoost"
         ],
         "x0": " ",
         "xaxis": "x",
         "y": [
          0.6763888888888889,
          0.6708333333333333,
          0.6722222222222223,
          0.6805555555555556,
          0.6513888888888889,
          0.6541666666666667,
          0.6583333333333333,
          0.6277777777777778,
          0.6722222222222223,
          0.6875,
          0.6388888888888888,
          0.6652777777777777,
          0.6680555555555555,
          0.6555555555555556,
          0.6458333333333334,
          0.6402777777777777,
          0.6583333333333333,
          0.6694444444444444,
          0.6847222222222222,
          0.6638888888888889,
          0.6708333333333333,
          0.6583333333333333,
          0.6972222222222222,
          0.6361111111111111,
          0.6805555555555556,
          0.6819444444444445,
          0.6680555555555555,
          0.6638888888888889,
          0.6597222222222222,
          0.6625,
          0.6569444444444444,
          0.6763888888888889,
          0.6722222222222223,
          0.6527777777777778,
          0.675,
          0.6819444444444445,
          0.6402777777777777,
          0.6333333333333333,
          0.6555555555555556,
          0.6958333333333333,
          0.6527777777777778,
          0.6694444444444444,
          0.6652777777777777,
          0.6583333333333333,
          0.6416666666666667,
          0.6763888888888889,
          0.6569444444444444,
          0.6763888888888889,
          0.6847222222222222,
          0.6611111111111111
         ],
         "y0": " ",
         "yaxis": "y"
        },
        {
         "alignmentgroup": "True",
         "boxpoints": "all",
         "hovertemplate": "Machine Learning Model=%{x}<br>Accuracy=%{y}<extra></extra>",
         "legendgroup": "MLP",
         "marker": {
          "color": "#EF553B"
         },
         "name": "MLP",
         "notched": false,
         "offsetgroup": "MLP",
         "orientation": "v",
         "showlegend": true,
         "type": "box",
         "x": [
          "MLP",
          "MLP",
          "MLP",
          "MLP",
          "MLP",
          "MLP",
          "MLP",
          "MLP",
          "MLP",
          "MLP",
          "MLP",
          "MLP",
          "MLP",
          "MLP",
          "MLP",
          "MLP",
          "MLP",
          "MLP",
          "MLP",
          "MLP",
          "MLP",
          "MLP",
          "MLP",
          "MLP",
          "MLP",
          "MLP",
          "MLP",
          "MLP",
          "MLP",
          "MLP",
          "MLP",
          "MLP",
          "MLP",
          "MLP",
          "MLP",
          "MLP",
          "MLP",
          "MLP",
          "MLP",
          "MLP",
          "MLP",
          "MLP",
          "MLP",
          "MLP",
          "MLP",
          "MLP",
          "MLP",
          "MLP",
          "MLP",
          "MLP"
         ],
         "x0": " ",
         "xaxis": "x",
         "y": [
          0.6291666666666667,
          0.675,
          0.6541666666666667,
          0.6833333333333333,
          0.6486111111111111,
          0.6569444444444444,
          0.6555555555555556,
          0.6208333333333333,
          0.6430555555555556,
          0.6527777777777778,
          0.6513888888888889,
          0.6555555555555556,
          0.6638888888888889,
          0.6541666666666667,
          0.6263888888888889,
          0.6611111111111111,
          0.5986111111111111,
          0.6430555555555556,
          0.675,
          0.6291666666666667,
          0.6263888888888889,
          0.6458333333333334,
          0.6833333333333333,
          0.5805555555555556,
          0.6611111111111111,
          0.6944444444444444,
          0.6,
          0.6611111111111111,
          0.6472222222222223,
          0.6652777777777777,
          0.6111111111111112,
          0.6541666666666667,
          0.6680555555555555,
          0.6111111111111112,
          0.6708333333333333,
          0.6680555555555555,
          0.6458333333333334,
          0.5986111111111111,
          0.6138888888888889,
          0.6805555555555556,
          0.65,
          0.6583333333333333,
          0.6944444444444444,
          0.6541666666666667,
          0.6569444444444444,
          0.6486111111111111,
          0.6736111111111112,
          0.6694444444444444,
          0.6375,
          0.6763888888888889
         ],
         "y0": " ",
         "yaxis": "y"
        }
       ],
       "layout": {
        "boxmode": "overlay",
        "legend": {
         "title": {
          "text": "Machine Learning Model"
         },
         "tracegroupgap": 0
        },
        "template": {
         "data": {
          "bar": [
           {
            "error_x": {
             "color": "#2a3f5f"
            },
            "error_y": {
             "color": "#2a3f5f"
            },
            "marker": {
             "line": {
              "color": "#E5ECF6",
              "width": 0.5
             },
             "pattern": {
              "fillmode": "overlay",
              "size": 10,
              "solidity": 0.2
             }
            },
            "type": "bar"
           }
          ],
          "barpolar": [
           {
            "marker": {
             "line": {
              "color": "#E5ECF6",
              "width": 0.5
             },
             "pattern": {
              "fillmode": "overlay",
              "size": 10,
              "solidity": 0.2
             }
            },
            "type": "barpolar"
           }
          ],
          "carpet": [
           {
            "aaxis": {
             "endlinecolor": "#2a3f5f",
             "gridcolor": "white",
             "linecolor": "white",
             "minorgridcolor": "white",
             "startlinecolor": "#2a3f5f"
            },
            "baxis": {
             "endlinecolor": "#2a3f5f",
             "gridcolor": "white",
             "linecolor": "white",
             "minorgridcolor": "white",
             "startlinecolor": "#2a3f5f"
            },
            "type": "carpet"
           }
          ],
          "choropleth": [
           {
            "colorbar": {
             "outlinewidth": 0,
             "ticks": ""
            },
            "type": "choropleth"
           }
          ],
          "contour": [
           {
            "colorbar": {
             "outlinewidth": 0,
             "ticks": ""
            },
            "colorscale": [
             [
              0,
              "#0d0887"
             ],
             [
              0.1111111111111111,
              "#46039f"
             ],
             [
              0.2222222222222222,
              "#7201a8"
             ],
             [
              0.3333333333333333,
              "#9c179e"
             ],
             [
              0.4444444444444444,
              "#bd3786"
             ],
             [
              0.5555555555555556,
              "#d8576b"
             ],
             [
              0.6666666666666666,
              "#ed7953"
             ],
             [
              0.7777777777777778,
              "#fb9f3a"
             ],
             [
              0.8888888888888888,
              "#fdca26"
             ],
             [
              1,
              "#f0f921"
             ]
            ],
            "type": "contour"
           }
          ],
          "contourcarpet": [
           {
            "colorbar": {
             "outlinewidth": 0,
             "ticks": ""
            },
            "type": "contourcarpet"
           }
          ],
          "heatmap": [
           {
            "colorbar": {
             "outlinewidth": 0,
             "ticks": ""
            },
            "colorscale": [
             [
              0,
              "#0d0887"
             ],
             [
              0.1111111111111111,
              "#46039f"
             ],
             [
              0.2222222222222222,
              "#7201a8"
             ],
             [
              0.3333333333333333,
              "#9c179e"
             ],
             [
              0.4444444444444444,
              "#bd3786"
             ],
             [
              0.5555555555555556,
              "#d8576b"
             ],
             [
              0.6666666666666666,
              "#ed7953"
             ],
             [
              0.7777777777777778,
              "#fb9f3a"
             ],
             [
              0.8888888888888888,
              "#fdca26"
             ],
             [
              1,
              "#f0f921"
             ]
            ],
            "type": "heatmap"
           }
          ],
          "heatmapgl": [
           {
            "colorbar": {
             "outlinewidth": 0,
             "ticks": ""
            },
            "colorscale": [
             [
              0,
              "#0d0887"
             ],
             [
              0.1111111111111111,
              "#46039f"
             ],
             [
              0.2222222222222222,
              "#7201a8"
             ],
             [
              0.3333333333333333,
              "#9c179e"
             ],
             [
              0.4444444444444444,
              "#bd3786"
             ],
             [
              0.5555555555555556,
              "#d8576b"
             ],
             [
              0.6666666666666666,
              "#ed7953"
             ],
             [
              0.7777777777777778,
              "#fb9f3a"
             ],
             [
              0.8888888888888888,
              "#fdca26"
             ],
             [
              1,
              "#f0f921"
             ]
            ],
            "type": "heatmapgl"
           }
          ],
          "histogram": [
           {
            "marker": {
             "pattern": {
              "fillmode": "overlay",
              "size": 10,
              "solidity": 0.2
             }
            },
            "type": "histogram"
           }
          ],
          "histogram2d": [
           {
            "colorbar": {
             "outlinewidth": 0,
             "ticks": ""
            },
            "colorscale": [
             [
              0,
              "#0d0887"
             ],
             [
              0.1111111111111111,
              "#46039f"
             ],
             [
              0.2222222222222222,
              "#7201a8"
             ],
             [
              0.3333333333333333,
              "#9c179e"
             ],
             [
              0.4444444444444444,
              "#bd3786"
             ],
             [
              0.5555555555555556,
              "#d8576b"
             ],
             [
              0.6666666666666666,
              "#ed7953"
             ],
             [
              0.7777777777777778,
              "#fb9f3a"
             ],
             [
              0.8888888888888888,
              "#fdca26"
             ],
             [
              1,
              "#f0f921"
             ]
            ],
            "type": "histogram2d"
           }
          ],
          "histogram2dcontour": [
           {
            "colorbar": {
             "outlinewidth": 0,
             "ticks": ""
            },
            "colorscale": [
             [
              0,
              "#0d0887"
             ],
             [
              0.1111111111111111,
              "#46039f"
             ],
             [
              0.2222222222222222,
              "#7201a8"
             ],
             [
              0.3333333333333333,
              "#9c179e"
             ],
             [
              0.4444444444444444,
              "#bd3786"
             ],
             [
              0.5555555555555556,
              "#d8576b"
             ],
             [
              0.6666666666666666,
              "#ed7953"
             ],
             [
              0.7777777777777778,
              "#fb9f3a"
             ],
             [
              0.8888888888888888,
              "#fdca26"
             ],
             [
              1,
              "#f0f921"
             ]
            ],
            "type": "histogram2dcontour"
           }
          ],
          "mesh3d": [
           {
            "colorbar": {
             "outlinewidth": 0,
             "ticks": ""
            },
            "type": "mesh3d"
           }
          ],
          "parcoords": [
           {
            "line": {
             "colorbar": {
              "outlinewidth": 0,
              "ticks": ""
             }
            },
            "type": "parcoords"
           }
          ],
          "pie": [
           {
            "automargin": true,
            "type": "pie"
           }
          ],
          "scatter": [
           {
            "fillpattern": {
             "fillmode": "overlay",
             "size": 10,
             "solidity": 0.2
            },
            "type": "scatter"
           }
          ],
          "scatter3d": [
           {
            "line": {
             "colorbar": {
              "outlinewidth": 0,
              "ticks": ""
             }
            },
            "marker": {
             "colorbar": {
              "outlinewidth": 0,
              "ticks": ""
             }
            },
            "type": "scatter3d"
           }
          ],
          "scattercarpet": [
           {
            "marker": {
             "colorbar": {
              "outlinewidth": 0,
              "ticks": ""
             }
            },
            "type": "scattercarpet"
           }
          ],
          "scattergeo": [
           {
            "marker": {
             "colorbar": {
              "outlinewidth": 0,
              "ticks": ""
             }
            },
            "type": "scattergeo"
           }
          ],
          "scattergl": [
           {
            "marker": {
             "colorbar": {
              "outlinewidth": 0,
              "ticks": ""
             }
            },
            "type": "scattergl"
           }
          ],
          "scattermapbox": [
           {
            "marker": {
             "colorbar": {
              "outlinewidth": 0,
              "ticks": ""
             }
            },
            "type": "scattermapbox"
           }
          ],
          "scatterpolar": [
           {
            "marker": {
             "colorbar": {
              "outlinewidth": 0,
              "ticks": ""
             }
            },
            "type": "scatterpolar"
           }
          ],
          "scatterpolargl": [
           {
            "marker": {
             "colorbar": {
              "outlinewidth": 0,
              "ticks": ""
             }
            },
            "type": "scatterpolargl"
           }
          ],
          "scatterternary": [
           {
            "marker": {
             "colorbar": {
              "outlinewidth": 0,
              "ticks": ""
             }
            },
            "type": "scatterternary"
           }
          ],
          "surface": [
           {
            "colorbar": {
             "outlinewidth": 0,
             "ticks": ""
            },
            "colorscale": [
             [
              0,
              "#0d0887"
             ],
             [
              0.1111111111111111,
              "#46039f"
             ],
             [
              0.2222222222222222,
              "#7201a8"
             ],
             [
              0.3333333333333333,
              "#9c179e"
             ],
             [
              0.4444444444444444,
              "#bd3786"
             ],
             [
              0.5555555555555556,
              "#d8576b"
             ],
             [
              0.6666666666666666,
              "#ed7953"
             ],
             [
              0.7777777777777778,
              "#fb9f3a"
             ],
             [
              0.8888888888888888,
              "#fdca26"
             ],
             [
              1,
              "#f0f921"
             ]
            ],
            "type": "surface"
           }
          ],
          "table": [
           {
            "cells": {
             "fill": {
              "color": "#EBF0F8"
             },
             "line": {
              "color": "white"
             }
            },
            "header": {
             "fill": {
              "color": "#C8D4E3"
             },
             "line": {
              "color": "white"
             }
            },
            "type": "table"
           }
          ]
         },
         "layout": {
          "annotationdefaults": {
           "arrowcolor": "#2a3f5f",
           "arrowhead": 0,
           "arrowwidth": 1
          },
          "autotypenumbers": "strict",
          "coloraxis": {
           "colorbar": {
            "outlinewidth": 0,
            "ticks": ""
           }
          },
          "colorscale": {
           "diverging": [
            [
             0,
             "#8e0152"
            ],
            [
             0.1,
             "#c51b7d"
            ],
            [
             0.2,
             "#de77ae"
            ],
            [
             0.3,
             "#f1b6da"
            ],
            [
             0.4,
             "#fde0ef"
            ],
            [
             0.5,
             "#f7f7f7"
            ],
            [
             0.6,
             "#e6f5d0"
            ],
            [
             0.7,
             "#b8e186"
            ],
            [
             0.8,
             "#7fbc41"
            ],
            [
             0.9,
             "#4d9221"
            ],
            [
             1,
             "#276419"
            ]
           ],
           "sequential": [
            [
             0,
             "#0d0887"
            ],
            [
             0.1111111111111111,
             "#46039f"
            ],
            [
             0.2222222222222222,
             "#7201a8"
            ],
            [
             0.3333333333333333,
             "#9c179e"
            ],
            [
             0.4444444444444444,
             "#bd3786"
            ],
            [
             0.5555555555555556,
             "#d8576b"
            ],
            [
             0.6666666666666666,
             "#ed7953"
            ],
            [
             0.7777777777777778,
             "#fb9f3a"
            ],
            [
             0.8888888888888888,
             "#fdca26"
            ],
            [
             1,
             "#f0f921"
            ]
           ],
           "sequentialminus": [
            [
             0,
             "#0d0887"
            ],
            [
             0.1111111111111111,
             "#46039f"
            ],
            [
             0.2222222222222222,
             "#7201a8"
            ],
            [
             0.3333333333333333,
             "#9c179e"
            ],
            [
             0.4444444444444444,
             "#bd3786"
            ],
            [
             0.5555555555555556,
             "#d8576b"
            ],
            [
             0.6666666666666666,
             "#ed7953"
            ],
            [
             0.7777777777777778,
             "#fb9f3a"
            ],
            [
             0.8888888888888888,
             "#fdca26"
            ],
            [
             1,
             "#f0f921"
            ]
           ]
          },
          "colorway": [
           "#636efa",
           "#EF553B",
           "#00cc96",
           "#ab63fa",
           "#FFA15A",
           "#19d3f3",
           "#FF6692",
           "#B6E880",
           "#FF97FF",
           "#FECB52"
          ],
          "font": {
           "color": "#2a3f5f"
          },
          "geo": {
           "bgcolor": "white",
           "lakecolor": "white",
           "landcolor": "#E5ECF6",
           "showlakes": true,
           "showland": true,
           "subunitcolor": "white"
          },
          "hoverlabel": {
           "align": "left"
          },
          "hovermode": "closest",
          "mapbox": {
           "style": "light"
          },
          "paper_bgcolor": "white",
          "plot_bgcolor": "#E5ECF6",
          "polar": {
           "angularaxis": {
            "gridcolor": "white",
            "linecolor": "white",
            "ticks": ""
           },
           "bgcolor": "#E5ECF6",
           "radialaxis": {
            "gridcolor": "white",
            "linecolor": "white",
            "ticks": ""
           }
          },
          "scene": {
           "xaxis": {
            "backgroundcolor": "#E5ECF6",
            "gridcolor": "white",
            "gridwidth": 2,
            "linecolor": "white",
            "showbackground": true,
            "ticks": "",
            "zerolinecolor": "white"
           },
           "yaxis": {
            "backgroundcolor": "#E5ECF6",
            "gridcolor": "white",
            "gridwidth": 2,
            "linecolor": "white",
            "showbackground": true,
            "ticks": "",
            "zerolinecolor": "white"
           },
           "zaxis": {
            "backgroundcolor": "#E5ECF6",
            "gridcolor": "white",
            "gridwidth": 2,
            "linecolor": "white",
            "showbackground": true,
            "ticks": "",
            "zerolinecolor": "white"
           }
          },
          "shapedefaults": {
           "line": {
            "color": "#2a3f5f"
           }
          },
          "ternary": {
           "aaxis": {
            "gridcolor": "white",
            "linecolor": "white",
            "ticks": ""
           },
           "baxis": {
            "gridcolor": "white",
            "linecolor": "white",
            "ticks": ""
           },
           "bgcolor": "#E5ECF6",
           "caxis": {
            "gridcolor": "white",
            "linecolor": "white",
            "ticks": ""
           }
          },
          "title": {
           "x": 0.05
          },
          "xaxis": {
           "automargin": true,
           "gridcolor": "white",
           "linecolor": "white",
           "ticks": "",
           "title": {
            "standoff": 15
           },
           "zerolinecolor": "white",
           "zerolinewidth": 2
          },
          "yaxis": {
           "automargin": true,
           "gridcolor": "white",
           "linecolor": "white",
           "ticks": "",
           "title": {
            "standoff": 15
           },
           "zerolinecolor": "white",
           "zerolinewidth": 2
          }
         }
        },
        "title": {
         "text": "Base Model Performance for Smoking Status Prediction"
        },
        "xaxis": {
         "anchor": "y",
         "categoryarray": [
          "Logistic",
          "NB",
          "KNN",
          "Decision Tree",
          "Random Forest",
          "GB",
          "XGB",
          "Bagging",
          "SVM",
          "QDA",
          "AdaBoost",
          "MLP"
         ],
         "categoryorder": "array",
         "domain": [
          0,
          1
         ],
         "title": {
          "text": "Machine Learning Model"
         }
        },
        "yaxis": {
         "anchor": "x",
         "domain": [
          0,
          1
         ],
         "title": {
          "text": "Accuracy"
         }
        }
       }
      }
     },
     "metadata": {},
     "output_type": "display_data"
    }
   ],
   "source": [
    "smk_fig = px.box(smk_classmod, x=\"variable\", y=\"value\",color=\"variable\",points='all',\n",
    "                 labels={\"variable\": \"Machine Learning Model\",\n",
    "                         \"value\": \"Accuracy\"},\n",
    "                 title=\"Base Model Performance for Smoking Status Prediction\")\n",
    "smk_fig.show()"
   ]
  },
  {
   "cell_type": "markdown",
   "metadata": {},
   "source": [
    "## Stacking models"
   ]
  },
  {
   "cell_type": "code",
   "execution_count": 15,
   "metadata": {},
   "outputs": [],
   "source": [
    "# get a stacking ensemble of models\n",
    "def get_stacking(level0_models):\n",
    "  level0_candidates = {\"Logistic\": ('Logistic', LogisticRegression(max_iter=10000)),\n",
    "                       \"NB\": ('NB', GaussianNB()),\n",
    "                       \"KNN\": ('KNN', KNeighborsClassifier(n_neighbors=20)),\n",
    "                       \"Decision Tree\": ('Decision Tree', DecisionTreeClassifier()),\n",
    "                       \"Random Forest\": ('Random Forest', RandomForestClassifier()),\n",
    "                       \"GB\": ('GB', GradientBoostingClassifier()),\n",
    "                       \"XGB\": ('XGB', XGBClassifier()),\n",
    "                       \"Bagging\": ('Bagging', BaggingClassifier(n_estimators=100)),\n",
    "                       \"SVM\": ('SVM', SVC()),\n",
    "                       \"QDA\": ('QDA', QuadraticDiscriminantAnalysis()),\n",
    "                       \"AdaBoost\": ('AdaBoost', AdaBoostClassifier()),\n",
    "                       \"MLP\": ('MLP', MLPClassifier())}\n",
    "  level0 = [level0_candidates[m] for m in level0_models]\n",
    "\n",
    "\t# define meta learner model\n",
    "  level1 = LogisticRegression()\n",
    "\t# define the stacking ensemble\n",
    "  model = StackingClassifier(estimators=level0, final_estimator=level1, cv=5)\n",
    "  return model\n",
    "\n",
    "\n",
    "def base_and_stacked_models(best_base_models):\n",
    "  best_models_candidates = {\"Logistic\": LogisticRegression(max_iter=10000),\n",
    "                       \"NB\": GaussianNB(),\n",
    "                       \"KNN\": KNeighborsClassifier(n_neighbors=20),\n",
    "                       \"Decision Tree\": DecisionTreeClassifier(),\n",
    "                       \"Random Forest\": RandomForestClassifier(),\n",
    "                       \"GB\": GradientBoostingClassifier(),\n",
    "                       \"XGB\": XGBClassifier(),\n",
    "                       \"Bagging\": BaggingClassifier(n_estimators=100),\n",
    "                       \"SVM\": SVC(),\n",
    "                       \"QDA\": QuadraticDiscriminantAnalysis(),\n",
    "                       \"AdaBoost\": AdaBoostClassifier(),\n",
    "                       \"MLP\": MLPClassifier()}\n",
    "  models = dict()\n",
    "  for bm in best_base_models:\n",
    "    models[bm] = best_models_candidates[bm]\n",
    "  models[\"Stacked Model\"] = get_stacking(best_base_models)\n",
    "  return models"
   ]
  },
  {
   "cell_type": "markdown",
   "metadata": {},
   "source": [
    "### Drinking Status as the Target Variable"
   ]
  },
  {
   "cell_type": "code",
   "execution_count": 16,
   "metadata": {},
   "outputs": [
    {
     "name": "stdout",
     "output_type": "stream",
     "text": [
      "The best base models for drinking status prediction are:\n",
      "Logistic\n",
      "GB\n",
      "SVM\n",
      "Random Forest\n",
      "AdaBoost\n"
     ]
    }
   ],
   "source": [
    "# Calculate the mean accuracy scores for all models\n",
    "mean_scores = [np.mean(scores) for scores in dk_results]\n",
    "\n",
    "# Sort the model names by mean accuracy scores in descending order\n",
    "sorted_model_names = [name for _, name in sorted(zip(mean_scores, dk_names), reverse=True)]\n",
    "\n",
    "# Select the top 5 models\n",
    "dk_best_models = sorted_model_names[:5]\n",
    "\n",
    "print(\"The best base models for drinking status prediction are:\")\n",
    "for model_name in dk_best_models:\n",
    "    print(model_name)"
   ]
  },
  {
   "cell_type": "code",
   "execution_count": 17,
   "metadata": {},
   "outputs": [
    {
     "name": "stdout",
     "output_type": "stream",
     "text": [
      ">Logistic 0.672 (0.016)\n",
      ">GB 0.671 (0.017)\n",
      ">SVM 0.667 (0.014)\n",
      ">Random Forest 0.665 (0.020)\n",
      ">AdaBoost 0.664 (0.016)\n",
      ">Stacked Model 0.677 (0.017)\n"
     ]
    }
   ],
   "source": [
    "# get the models to evaluate\n",
    "dk_models_with_stacking = base_and_stacked_models(dk_best_models)\n",
    "# evaluate the models and store results\n",
    "dk_results_with_stacking, dk_names = list(), list() \n",
    "\n",
    "for name, model in dk_models_with_stacking.items():\n",
    "  dk_scores_with_stacking = eval_models(model)\n",
    "  dk_results_with_stacking.append(dk_scores_with_stacking)\n",
    "  dk_names.append(name)\n",
    "  print('>%s %.3f (%.3f)' % (name, dk_scores_with_stacking.mean(), dk_scores_with_stacking.std()))"
   ]
  },
  {
   "cell_type": "code",
   "execution_count": 18,
   "metadata": {},
   "outputs": [
    {
     "data": {
      "application/vnd.plotly.v1+json": {
       "config": {
        "plotlyServerURL": "https://plotly.com"
       },
       "data": [
        {
         "alignmentgroup": "True",
         "boxpoints": "all",
         "hovertemplate": "Machine Learning Model=%{x}<br>Accuracy=%{y}<extra></extra>",
         "legendgroup": "Logistic",
         "marker": {
          "color": "#636efa"
         },
         "name": "Logistic",
         "notched": false,
         "offsetgroup": "Logistic",
         "orientation": "v",
         "showlegend": true,
         "type": "box",
         "x": [
          "Logistic",
          "Logistic",
          "Logistic",
          "Logistic",
          "Logistic",
          "Logistic",
          "Logistic",
          "Logistic",
          "Logistic",
          "Logistic",
          "Logistic",
          "Logistic",
          "Logistic",
          "Logistic",
          "Logistic",
          "Logistic",
          "Logistic",
          "Logistic",
          "Logistic",
          "Logistic",
          "Logistic",
          "Logistic",
          "Logistic",
          "Logistic",
          "Logistic",
          "Logistic",
          "Logistic",
          "Logistic",
          "Logistic",
          "Logistic",
          "Logistic",
          "Logistic",
          "Logistic",
          "Logistic",
          "Logistic",
          "Logistic",
          "Logistic",
          "Logistic",
          "Logistic",
          "Logistic",
          "Logistic",
          "Logistic",
          "Logistic",
          "Logistic",
          "Logistic",
          "Logistic",
          "Logistic",
          "Logistic",
          "Logistic",
          "Logistic"
         ],
         "x0": " ",
         "xaxis": "x",
         "y": [
          0.6944444444444444,
          0.6736111111111112,
          0.6777777777777778,
          0.6888888888888889,
          0.6541666666666667,
          0.6527777777777778,
          0.6694444444444444,
          0.6416666666666667,
          0.6736111111111112,
          0.6944444444444444,
          0.6444444444444445,
          0.6819444444444445,
          0.6847222222222222,
          0.6569444444444444,
          0.6583333333333333,
          0.6555555555555556,
          0.6458333333333334,
          0.7,
          0.7083333333333334,
          0.6708333333333333,
          0.6777777777777778,
          0.6541666666666667,
          0.7083333333333334,
          0.6513888888888889,
          0.6819444444444445,
          0.6958333333333333,
          0.6666666666666666,
          0.6666666666666666,
          0.6638888888888889,
          0.6527777777777778,
          0.6819444444444445,
          0.6819444444444445,
          0.6833333333333333,
          0.6722222222222223,
          0.6791666666666667,
          0.6722222222222223,
          0.6583333333333333,
          0.6527777777777778,
          0.6583333333333333,
          0.6888888888888889,
          0.6736111111111112,
          0.65,
          0.6694444444444444,
          0.6666666666666666,
          0.6652777777777777,
          0.6902777777777778,
          0.6736111111111112,
          0.6805555555555556,
          0.6819444444444445,
          0.6652777777777777
         ],
         "y0": " ",
         "yaxis": "y"
        },
        {
         "alignmentgroup": "True",
         "boxpoints": "all",
         "hovertemplate": "Machine Learning Model=%{x}<br>Accuracy=%{y}<extra></extra>",
         "legendgroup": "GB",
         "marker": {
          "color": "#EF553B"
         },
         "name": "GB",
         "notched": false,
         "offsetgroup": "GB",
         "orientation": "v",
         "showlegend": true,
         "type": "box",
         "x": [
          "GB",
          "GB",
          "GB",
          "GB",
          "GB",
          "GB",
          "GB",
          "GB",
          "GB",
          "GB",
          "GB",
          "GB",
          "GB",
          "GB",
          "GB",
          "GB",
          "GB",
          "GB",
          "GB",
          "GB",
          "GB",
          "GB",
          "GB",
          "GB",
          "GB",
          "GB",
          "GB",
          "GB",
          "GB",
          "GB",
          "GB",
          "GB",
          "GB",
          "GB",
          "GB",
          "GB",
          "GB",
          "GB",
          "GB",
          "GB",
          "GB",
          "GB",
          "GB",
          "GB",
          "GB",
          "GB",
          "GB",
          "GB",
          "GB",
          "GB"
         ],
         "x0": " ",
         "xaxis": "x",
         "y": [
          0.6930555555555555,
          0.6722222222222223,
          0.6861111111111111,
          0.7069444444444445,
          0.6527777777777778,
          0.6583333333333333,
          0.6625,
          0.6486111111111111,
          0.6638888888888889,
          0.6861111111111111,
          0.6583333333333333,
          0.675,
          0.6902777777777778,
          0.6763888888888889,
          0.6458333333333334,
          0.6402777777777777,
          0.6694444444444444,
          0.6902777777777778,
          0.7055555555555556,
          0.6625,
          0.6916666666666667,
          0.6680555555555555,
          0.6861111111111111,
          0.6291666666666667,
          0.6736111111111112,
          0.6763888888888889,
          0.6569444444444444,
          0.6652777777777777,
          0.6625,
          0.6847222222222222,
          0.675,
          0.6805555555555556,
          0.6763888888888889,
          0.6569444444444444,
          0.6916666666666667,
          0.6944444444444444,
          0.6638888888888889,
          0.6430555555555556,
          0.65,
          0.7055555555555556,
          0.6569444444444444,
          0.6625,
          0.6763888888888889,
          0.6680555555555555,
          0.6583333333333333,
          0.6805555555555556,
          0.6708333333333333,
          0.6583333333333333,
          0.6847222222222222,
          0.6777777777777778
         ],
         "y0": " ",
         "yaxis": "y"
        },
        {
         "alignmentgroup": "True",
         "boxpoints": "all",
         "hovertemplate": "Machine Learning Model=%{x}<br>Accuracy=%{y}<extra></extra>",
         "legendgroup": "SVM",
         "marker": {
          "color": "#00cc96"
         },
         "name": "SVM",
         "notched": false,
         "offsetgroup": "SVM",
         "orientation": "v",
         "showlegend": true,
         "type": "box",
         "x": [
          "SVM",
          "SVM",
          "SVM",
          "SVM",
          "SVM",
          "SVM",
          "SVM",
          "SVM",
          "SVM",
          "SVM",
          "SVM",
          "SVM",
          "SVM",
          "SVM",
          "SVM",
          "SVM",
          "SVM",
          "SVM",
          "SVM",
          "SVM",
          "SVM",
          "SVM",
          "SVM",
          "SVM",
          "SVM",
          "SVM",
          "SVM",
          "SVM",
          "SVM",
          "SVM",
          "SVM",
          "SVM",
          "SVM",
          "SVM",
          "SVM",
          "SVM",
          "SVM",
          "SVM",
          "SVM",
          "SVM",
          "SVM",
          "SVM",
          "SVM",
          "SVM",
          "SVM",
          "SVM",
          "SVM",
          "SVM",
          "SVM",
          "SVM"
         ],
         "x0": " ",
         "xaxis": "x",
         "y": [
          0.6763888888888889,
          0.6847222222222222,
          0.6805555555555556,
          0.6736111111111112,
          0.6513888888888889,
          0.6458333333333334,
          0.6777777777777778,
          0.65,
          0.6638888888888889,
          0.6861111111111111,
          0.6527777777777778,
          0.6652777777777777,
          0.6722222222222223,
          0.6694444444444444,
          0.6652777777777777,
          0.6597222222222222,
          0.6416666666666667,
          0.6847222222222222,
          0.6930555555555555,
          0.6555555555555556,
          0.6763888888888889,
          0.6708333333333333,
          0.6888888888888889,
          0.6291666666666667,
          0.6819444444444445,
          0.6916666666666667,
          0.6513888888888889,
          0.6638888888888889,
          0.6527777777777778,
          0.6708333333333333,
          0.6694444444444444,
          0.6819444444444445,
          0.6666666666666666,
          0.65,
          0.6763888888888889,
          0.6791666666666667,
          0.65,
          0.6402777777777777,
          0.6652777777777777,
          0.6819444444444445,
          0.6611111111111111,
          0.6611111111111111,
          0.6652777777777777,
          0.6555555555555556,
          0.6736111111111112,
          0.6805555555555556,
          0.6680555555555555,
          0.6472222222222223,
          0.6722222222222223,
          0.6777777777777778
         ],
         "y0": " ",
         "yaxis": "y"
        },
        {
         "alignmentgroup": "True",
         "boxpoints": "all",
         "hovertemplate": "Machine Learning Model=%{x}<br>Accuracy=%{y}<extra></extra>",
         "legendgroup": "Random Forest",
         "marker": {
          "color": "#ab63fa"
         },
         "name": "Random Forest",
         "notched": false,
         "offsetgroup": "Random Forest",
         "orientation": "v",
         "showlegend": true,
         "type": "box",
         "x": [
          "Random Forest",
          "Random Forest",
          "Random Forest",
          "Random Forest",
          "Random Forest",
          "Random Forest",
          "Random Forest",
          "Random Forest",
          "Random Forest",
          "Random Forest",
          "Random Forest",
          "Random Forest",
          "Random Forest",
          "Random Forest",
          "Random Forest",
          "Random Forest",
          "Random Forest",
          "Random Forest",
          "Random Forest",
          "Random Forest",
          "Random Forest",
          "Random Forest",
          "Random Forest",
          "Random Forest",
          "Random Forest",
          "Random Forest",
          "Random Forest",
          "Random Forest",
          "Random Forest",
          "Random Forest",
          "Random Forest",
          "Random Forest",
          "Random Forest",
          "Random Forest",
          "Random Forest",
          "Random Forest",
          "Random Forest",
          "Random Forest",
          "Random Forest",
          "Random Forest",
          "Random Forest",
          "Random Forest",
          "Random Forest",
          "Random Forest",
          "Random Forest",
          "Random Forest",
          "Random Forest",
          "Random Forest",
          "Random Forest",
          "Random Forest"
         ],
         "x0": " ",
         "xaxis": "x",
         "y": [
          0.6888888888888889,
          0.6583333333333333,
          0.6944444444444444,
          0.6680555555555555,
          0.6402777777777777,
          0.65,
          0.6416666666666667,
          0.625,
          0.6666666666666666,
          0.6763888888888889,
          0.6263888888888889,
          0.6708333333333333,
          0.6805555555555556,
          0.6708333333333333,
          0.6652777777777777,
          0.6388888888888888,
          0.6527777777777778,
          0.7,
          0.6916666666666667,
          0.6583333333333333,
          0.7,
          0.6555555555555556,
          0.7,
          0.6402777777777777,
          0.6555555555555556,
          0.7013888888888888,
          0.6625,
          0.65,
          0.6569444444444444,
          0.6652777777777777,
          0.6680555555555555,
          0.6722222222222223,
          0.6805555555555556,
          0.6569444444444444,
          0.6680555555555555,
          0.6972222222222222,
          0.6597222222222222,
          0.6305555555555555,
          0.6416666666666667,
          0.6916666666666667,
          0.6625,
          0.6777777777777778,
          0.6597222222222222,
          0.6527777777777778,
          0.6555555555555556,
          0.6861111111111111,
          0.6666666666666666,
          0.6527777777777778,
          0.675,
          0.6597222222222222
         ],
         "y0": " ",
         "yaxis": "y"
        },
        {
         "alignmentgroup": "True",
         "boxpoints": "all",
         "hovertemplate": "Machine Learning Model=%{x}<br>Accuracy=%{y}<extra></extra>",
         "legendgroup": "AdaBoost",
         "marker": {
          "color": "#FFA15A"
         },
         "name": "AdaBoost",
         "notched": false,
         "offsetgroup": "AdaBoost",
         "orientation": "v",
         "showlegend": true,
         "type": "box",
         "x": [
          "AdaBoost",
          "AdaBoost",
          "AdaBoost",
          "AdaBoost",
          "AdaBoost",
          "AdaBoost",
          "AdaBoost",
          "AdaBoost",
          "AdaBoost",
          "AdaBoost",
          "AdaBoost",
          "AdaBoost",
          "AdaBoost",
          "AdaBoost",
          "AdaBoost",
          "AdaBoost",
          "AdaBoost",
          "AdaBoost",
          "AdaBoost",
          "AdaBoost",
          "AdaBoost",
          "AdaBoost",
          "AdaBoost",
          "AdaBoost",
          "AdaBoost",
          "AdaBoost",
          "AdaBoost",
          "AdaBoost",
          "AdaBoost",
          "AdaBoost",
          "AdaBoost",
          "AdaBoost",
          "AdaBoost",
          "AdaBoost",
          "AdaBoost",
          "AdaBoost",
          "AdaBoost",
          "AdaBoost",
          "AdaBoost",
          "AdaBoost",
          "AdaBoost",
          "AdaBoost",
          "AdaBoost",
          "AdaBoost",
          "AdaBoost",
          "AdaBoost",
          "AdaBoost",
          "AdaBoost",
          "AdaBoost",
          "AdaBoost"
         ],
         "x0": " ",
         "xaxis": "x",
         "y": [
          0.6763888888888889,
          0.6708333333333333,
          0.6722222222222223,
          0.6805555555555556,
          0.6513888888888889,
          0.6541666666666667,
          0.6583333333333333,
          0.6277777777777778,
          0.6722222222222223,
          0.6875,
          0.6388888888888888,
          0.6652777777777777,
          0.6680555555555555,
          0.6555555555555556,
          0.6458333333333334,
          0.6402777777777777,
          0.6583333333333333,
          0.6694444444444444,
          0.6847222222222222,
          0.6638888888888889,
          0.6708333333333333,
          0.6583333333333333,
          0.6972222222222222,
          0.6361111111111111,
          0.6805555555555556,
          0.6819444444444445,
          0.6680555555555555,
          0.6638888888888889,
          0.6597222222222222,
          0.6625,
          0.6569444444444444,
          0.6763888888888889,
          0.6722222222222223,
          0.6527777777777778,
          0.675,
          0.6819444444444445,
          0.6402777777777777,
          0.6333333333333333,
          0.6555555555555556,
          0.6958333333333333,
          0.6527777777777778,
          0.6694444444444444,
          0.6652777777777777,
          0.6583333333333333,
          0.6416666666666667,
          0.6763888888888889,
          0.6569444444444444,
          0.6763888888888889,
          0.6847222222222222,
          0.6611111111111111
         ],
         "y0": " ",
         "yaxis": "y"
        },
        {
         "alignmentgroup": "True",
         "boxpoints": "all",
         "hovertemplate": "Machine Learning Model=%{x}<br>Accuracy=%{y}<extra></extra>",
         "legendgroup": "Stacked Model",
         "marker": {
          "color": "#19d3f3"
         },
         "name": "Stacked Model",
         "notched": false,
         "offsetgroup": "Stacked Model",
         "orientation": "v",
         "showlegend": true,
         "type": "box",
         "x": [
          "Stacked Model",
          "Stacked Model",
          "Stacked Model",
          "Stacked Model",
          "Stacked Model",
          "Stacked Model",
          "Stacked Model",
          "Stacked Model",
          "Stacked Model",
          "Stacked Model",
          "Stacked Model",
          "Stacked Model",
          "Stacked Model",
          "Stacked Model",
          "Stacked Model",
          "Stacked Model",
          "Stacked Model",
          "Stacked Model",
          "Stacked Model",
          "Stacked Model",
          "Stacked Model",
          "Stacked Model",
          "Stacked Model",
          "Stacked Model",
          "Stacked Model",
          "Stacked Model",
          "Stacked Model",
          "Stacked Model",
          "Stacked Model",
          "Stacked Model",
          "Stacked Model",
          "Stacked Model",
          "Stacked Model",
          "Stacked Model",
          "Stacked Model",
          "Stacked Model",
          "Stacked Model",
          "Stacked Model",
          "Stacked Model",
          "Stacked Model",
          "Stacked Model",
          "Stacked Model",
          "Stacked Model",
          "Stacked Model",
          "Stacked Model",
          "Stacked Model",
          "Stacked Model",
          "Stacked Model",
          "Stacked Model",
          "Stacked Model"
         ],
         "x0": " ",
         "xaxis": "x",
         "y": [
          0.7027777777777777,
          0.6777777777777778,
          0.6944444444444444,
          0.7069444444444445,
          0.6444444444444445,
          0.6513888888888889,
          0.6708333333333333,
          0.6486111111111111,
          0.6722222222222223,
          0.6958333333333333,
          0.6541666666666667,
          0.675,
          0.6972222222222222,
          0.6805555555555556,
          0.6638888888888889,
          0.6569444444444444,
          0.6708333333333333,
          0.6902777777777778,
          0.7013888888888888,
          0.6791666666666667,
          0.7041666666666667,
          0.675,
          0.6944444444444444,
          0.6486111111111111,
          0.6777777777777778,
          0.6805555555555556,
          0.6694444444444444,
          0.6875,
          0.6638888888888889,
          0.6805555555555556,
          0.6902777777777778,
          0.6930555555555555,
          0.6736111111111112,
          0.6819444444444445,
          0.6777777777777778,
          0.7055555555555556,
          0.6527777777777778,
          0.6458333333333334,
          0.6625,
          0.7013888888888888,
          0.6833333333333333,
          0.6611111111111111,
          0.6861111111111111,
          0.6722222222222223,
          0.6638888888888889,
          0.6958333333333333,
          0.6763888888888889,
          0.6694444444444444,
          0.6875,
          0.675
         ],
         "y0": " ",
         "yaxis": "y"
        }
       ],
       "layout": {
        "boxmode": "overlay",
        "legend": {
         "title": {
          "text": "Machine Learning Model"
         },
         "tracegroupgap": 0
        },
        "template": {
         "data": {
          "bar": [
           {
            "error_x": {
             "color": "#2a3f5f"
            },
            "error_y": {
             "color": "#2a3f5f"
            },
            "marker": {
             "line": {
              "color": "#E5ECF6",
              "width": 0.5
             },
             "pattern": {
              "fillmode": "overlay",
              "size": 10,
              "solidity": 0.2
             }
            },
            "type": "bar"
           }
          ],
          "barpolar": [
           {
            "marker": {
             "line": {
              "color": "#E5ECF6",
              "width": 0.5
             },
             "pattern": {
              "fillmode": "overlay",
              "size": 10,
              "solidity": 0.2
             }
            },
            "type": "barpolar"
           }
          ],
          "carpet": [
           {
            "aaxis": {
             "endlinecolor": "#2a3f5f",
             "gridcolor": "white",
             "linecolor": "white",
             "minorgridcolor": "white",
             "startlinecolor": "#2a3f5f"
            },
            "baxis": {
             "endlinecolor": "#2a3f5f",
             "gridcolor": "white",
             "linecolor": "white",
             "minorgridcolor": "white",
             "startlinecolor": "#2a3f5f"
            },
            "type": "carpet"
           }
          ],
          "choropleth": [
           {
            "colorbar": {
             "outlinewidth": 0,
             "ticks": ""
            },
            "type": "choropleth"
           }
          ],
          "contour": [
           {
            "colorbar": {
             "outlinewidth": 0,
             "ticks": ""
            },
            "colorscale": [
             [
              0,
              "#0d0887"
             ],
             [
              0.1111111111111111,
              "#46039f"
             ],
             [
              0.2222222222222222,
              "#7201a8"
             ],
             [
              0.3333333333333333,
              "#9c179e"
             ],
             [
              0.4444444444444444,
              "#bd3786"
             ],
             [
              0.5555555555555556,
              "#d8576b"
             ],
             [
              0.6666666666666666,
              "#ed7953"
             ],
             [
              0.7777777777777778,
              "#fb9f3a"
             ],
             [
              0.8888888888888888,
              "#fdca26"
             ],
             [
              1,
              "#f0f921"
             ]
            ],
            "type": "contour"
           }
          ],
          "contourcarpet": [
           {
            "colorbar": {
             "outlinewidth": 0,
             "ticks": ""
            },
            "type": "contourcarpet"
           }
          ],
          "heatmap": [
           {
            "colorbar": {
             "outlinewidth": 0,
             "ticks": ""
            },
            "colorscale": [
             [
              0,
              "#0d0887"
             ],
             [
              0.1111111111111111,
              "#46039f"
             ],
             [
              0.2222222222222222,
              "#7201a8"
             ],
             [
              0.3333333333333333,
              "#9c179e"
             ],
             [
              0.4444444444444444,
              "#bd3786"
             ],
             [
              0.5555555555555556,
              "#d8576b"
             ],
             [
              0.6666666666666666,
              "#ed7953"
             ],
             [
              0.7777777777777778,
              "#fb9f3a"
             ],
             [
              0.8888888888888888,
              "#fdca26"
             ],
             [
              1,
              "#f0f921"
             ]
            ],
            "type": "heatmap"
           }
          ],
          "heatmapgl": [
           {
            "colorbar": {
             "outlinewidth": 0,
             "ticks": ""
            },
            "colorscale": [
             [
              0,
              "#0d0887"
             ],
             [
              0.1111111111111111,
              "#46039f"
             ],
             [
              0.2222222222222222,
              "#7201a8"
             ],
             [
              0.3333333333333333,
              "#9c179e"
             ],
             [
              0.4444444444444444,
              "#bd3786"
             ],
             [
              0.5555555555555556,
              "#d8576b"
             ],
             [
              0.6666666666666666,
              "#ed7953"
             ],
             [
              0.7777777777777778,
              "#fb9f3a"
             ],
             [
              0.8888888888888888,
              "#fdca26"
             ],
             [
              1,
              "#f0f921"
             ]
            ],
            "type": "heatmapgl"
           }
          ],
          "histogram": [
           {
            "marker": {
             "pattern": {
              "fillmode": "overlay",
              "size": 10,
              "solidity": 0.2
             }
            },
            "type": "histogram"
           }
          ],
          "histogram2d": [
           {
            "colorbar": {
             "outlinewidth": 0,
             "ticks": ""
            },
            "colorscale": [
             [
              0,
              "#0d0887"
             ],
             [
              0.1111111111111111,
              "#46039f"
             ],
             [
              0.2222222222222222,
              "#7201a8"
             ],
             [
              0.3333333333333333,
              "#9c179e"
             ],
             [
              0.4444444444444444,
              "#bd3786"
             ],
             [
              0.5555555555555556,
              "#d8576b"
             ],
             [
              0.6666666666666666,
              "#ed7953"
             ],
             [
              0.7777777777777778,
              "#fb9f3a"
             ],
             [
              0.8888888888888888,
              "#fdca26"
             ],
             [
              1,
              "#f0f921"
             ]
            ],
            "type": "histogram2d"
           }
          ],
          "histogram2dcontour": [
           {
            "colorbar": {
             "outlinewidth": 0,
             "ticks": ""
            },
            "colorscale": [
             [
              0,
              "#0d0887"
             ],
             [
              0.1111111111111111,
              "#46039f"
             ],
             [
              0.2222222222222222,
              "#7201a8"
             ],
             [
              0.3333333333333333,
              "#9c179e"
             ],
             [
              0.4444444444444444,
              "#bd3786"
             ],
             [
              0.5555555555555556,
              "#d8576b"
             ],
             [
              0.6666666666666666,
              "#ed7953"
             ],
             [
              0.7777777777777778,
              "#fb9f3a"
             ],
             [
              0.8888888888888888,
              "#fdca26"
             ],
             [
              1,
              "#f0f921"
             ]
            ],
            "type": "histogram2dcontour"
           }
          ],
          "mesh3d": [
           {
            "colorbar": {
             "outlinewidth": 0,
             "ticks": ""
            },
            "type": "mesh3d"
           }
          ],
          "parcoords": [
           {
            "line": {
             "colorbar": {
              "outlinewidth": 0,
              "ticks": ""
             }
            },
            "type": "parcoords"
           }
          ],
          "pie": [
           {
            "automargin": true,
            "type": "pie"
           }
          ],
          "scatter": [
           {
            "fillpattern": {
             "fillmode": "overlay",
             "size": 10,
             "solidity": 0.2
            },
            "type": "scatter"
           }
          ],
          "scatter3d": [
           {
            "line": {
             "colorbar": {
              "outlinewidth": 0,
              "ticks": ""
             }
            },
            "marker": {
             "colorbar": {
              "outlinewidth": 0,
              "ticks": ""
             }
            },
            "type": "scatter3d"
           }
          ],
          "scattercarpet": [
           {
            "marker": {
             "colorbar": {
              "outlinewidth": 0,
              "ticks": ""
             }
            },
            "type": "scattercarpet"
           }
          ],
          "scattergeo": [
           {
            "marker": {
             "colorbar": {
              "outlinewidth": 0,
              "ticks": ""
             }
            },
            "type": "scattergeo"
           }
          ],
          "scattergl": [
           {
            "marker": {
             "colorbar": {
              "outlinewidth": 0,
              "ticks": ""
             }
            },
            "type": "scattergl"
           }
          ],
          "scattermapbox": [
           {
            "marker": {
             "colorbar": {
              "outlinewidth": 0,
              "ticks": ""
             }
            },
            "type": "scattermapbox"
           }
          ],
          "scatterpolar": [
           {
            "marker": {
             "colorbar": {
              "outlinewidth": 0,
              "ticks": ""
             }
            },
            "type": "scatterpolar"
           }
          ],
          "scatterpolargl": [
           {
            "marker": {
             "colorbar": {
              "outlinewidth": 0,
              "ticks": ""
             }
            },
            "type": "scatterpolargl"
           }
          ],
          "scatterternary": [
           {
            "marker": {
             "colorbar": {
              "outlinewidth": 0,
              "ticks": ""
             }
            },
            "type": "scatterternary"
           }
          ],
          "surface": [
           {
            "colorbar": {
             "outlinewidth": 0,
             "ticks": ""
            },
            "colorscale": [
             [
              0,
              "#0d0887"
             ],
             [
              0.1111111111111111,
              "#46039f"
             ],
             [
              0.2222222222222222,
              "#7201a8"
             ],
             [
              0.3333333333333333,
              "#9c179e"
             ],
             [
              0.4444444444444444,
              "#bd3786"
             ],
             [
              0.5555555555555556,
              "#d8576b"
             ],
             [
              0.6666666666666666,
              "#ed7953"
             ],
             [
              0.7777777777777778,
              "#fb9f3a"
             ],
             [
              0.8888888888888888,
              "#fdca26"
             ],
             [
              1,
              "#f0f921"
             ]
            ],
            "type": "surface"
           }
          ],
          "table": [
           {
            "cells": {
             "fill": {
              "color": "#EBF0F8"
             },
             "line": {
              "color": "white"
             }
            },
            "header": {
             "fill": {
              "color": "#C8D4E3"
             },
             "line": {
              "color": "white"
             }
            },
            "type": "table"
           }
          ]
         },
         "layout": {
          "annotationdefaults": {
           "arrowcolor": "#2a3f5f",
           "arrowhead": 0,
           "arrowwidth": 1
          },
          "autotypenumbers": "strict",
          "coloraxis": {
           "colorbar": {
            "outlinewidth": 0,
            "ticks": ""
           }
          },
          "colorscale": {
           "diverging": [
            [
             0,
             "#8e0152"
            ],
            [
             0.1,
             "#c51b7d"
            ],
            [
             0.2,
             "#de77ae"
            ],
            [
             0.3,
             "#f1b6da"
            ],
            [
             0.4,
             "#fde0ef"
            ],
            [
             0.5,
             "#f7f7f7"
            ],
            [
             0.6,
             "#e6f5d0"
            ],
            [
             0.7,
             "#b8e186"
            ],
            [
             0.8,
             "#7fbc41"
            ],
            [
             0.9,
             "#4d9221"
            ],
            [
             1,
             "#276419"
            ]
           ],
           "sequential": [
            [
             0,
             "#0d0887"
            ],
            [
             0.1111111111111111,
             "#46039f"
            ],
            [
             0.2222222222222222,
             "#7201a8"
            ],
            [
             0.3333333333333333,
             "#9c179e"
            ],
            [
             0.4444444444444444,
             "#bd3786"
            ],
            [
             0.5555555555555556,
             "#d8576b"
            ],
            [
             0.6666666666666666,
             "#ed7953"
            ],
            [
             0.7777777777777778,
             "#fb9f3a"
            ],
            [
             0.8888888888888888,
             "#fdca26"
            ],
            [
             1,
             "#f0f921"
            ]
           ],
           "sequentialminus": [
            [
             0,
             "#0d0887"
            ],
            [
             0.1111111111111111,
             "#46039f"
            ],
            [
             0.2222222222222222,
             "#7201a8"
            ],
            [
             0.3333333333333333,
             "#9c179e"
            ],
            [
             0.4444444444444444,
             "#bd3786"
            ],
            [
             0.5555555555555556,
             "#d8576b"
            ],
            [
             0.6666666666666666,
             "#ed7953"
            ],
            [
             0.7777777777777778,
             "#fb9f3a"
            ],
            [
             0.8888888888888888,
             "#fdca26"
            ],
            [
             1,
             "#f0f921"
            ]
           ]
          },
          "colorway": [
           "#636efa",
           "#EF553B",
           "#00cc96",
           "#ab63fa",
           "#FFA15A",
           "#19d3f3",
           "#FF6692",
           "#B6E880",
           "#FF97FF",
           "#FECB52"
          ],
          "font": {
           "color": "#2a3f5f"
          },
          "geo": {
           "bgcolor": "white",
           "lakecolor": "white",
           "landcolor": "#E5ECF6",
           "showlakes": true,
           "showland": true,
           "subunitcolor": "white"
          },
          "hoverlabel": {
           "align": "left"
          },
          "hovermode": "closest",
          "mapbox": {
           "style": "light"
          },
          "paper_bgcolor": "white",
          "plot_bgcolor": "#E5ECF6",
          "polar": {
           "angularaxis": {
            "gridcolor": "white",
            "linecolor": "white",
            "ticks": ""
           },
           "bgcolor": "#E5ECF6",
           "radialaxis": {
            "gridcolor": "white",
            "linecolor": "white",
            "ticks": ""
           }
          },
          "scene": {
           "xaxis": {
            "backgroundcolor": "#E5ECF6",
            "gridcolor": "white",
            "gridwidth": 2,
            "linecolor": "white",
            "showbackground": true,
            "ticks": "",
            "zerolinecolor": "white"
           },
           "yaxis": {
            "backgroundcolor": "#E5ECF6",
            "gridcolor": "white",
            "gridwidth": 2,
            "linecolor": "white",
            "showbackground": true,
            "ticks": "",
            "zerolinecolor": "white"
           },
           "zaxis": {
            "backgroundcolor": "#E5ECF6",
            "gridcolor": "white",
            "gridwidth": 2,
            "linecolor": "white",
            "showbackground": true,
            "ticks": "",
            "zerolinecolor": "white"
           }
          },
          "shapedefaults": {
           "line": {
            "color": "#2a3f5f"
           }
          },
          "ternary": {
           "aaxis": {
            "gridcolor": "white",
            "linecolor": "white",
            "ticks": ""
           },
           "baxis": {
            "gridcolor": "white",
            "linecolor": "white",
            "ticks": ""
           },
           "bgcolor": "#E5ECF6",
           "caxis": {
            "gridcolor": "white",
            "linecolor": "white",
            "ticks": ""
           }
          },
          "title": {
           "x": 0.05
          },
          "xaxis": {
           "automargin": true,
           "gridcolor": "white",
           "linecolor": "white",
           "ticks": "",
           "title": {
            "standoff": 15
           },
           "zerolinecolor": "white",
           "zerolinewidth": 2
          },
          "yaxis": {
           "automargin": true,
           "gridcolor": "white",
           "linecolor": "white",
           "ticks": "",
           "title": {
            "standoff": 15
           },
           "zerolinecolor": "white",
           "zerolinewidth": 2
          }
         }
        },
        "title": {
         "text": "Model Performance for Drinking Status Prediction"
        },
        "xaxis": {
         "anchor": "y",
         "categoryarray": [
          "Logistic",
          "GB",
          "SVM",
          "Random Forest",
          "AdaBoost",
          "Stacked Model"
         ],
         "categoryorder": "array",
         "domain": [
          0,
          1
         ],
         "title": {
          "text": "Machine Learning Model"
         }
        },
        "yaxis": {
         "anchor": "x",
         "domain": [
          0,
          1
         ],
         "title": {
          "text": "Accuracy"
         }
        }
       }
      }
     },
     "metadata": {},
     "output_type": "display_data"
    }
   ],
   "source": [
    "dk_classmod_with_stacking = pd.DataFrame(np.transpose(dk_results_with_stacking), columns = dk_best_models+[\"Stacked Model\"])\n",
    "dk_classmod_with_stacking = pd.melt(dk_classmod_with_stacking.reset_index(), id_vars='index', value_vars=dk_best_models+[\"Stacked Model\"])\n",
    "\n",
    "dk_with_stacking_fig = px.box(dk_classmod_with_stacking, x=\"variable\", y=\"value\", color=\"variable\", points='all',\n",
    "                              labels={\"variable\": \"Machine Learning Model\",\n",
    "                                      \"value\": \"Accuracy\"},\n",
    "                                title=\"Model Performance for Drinking Status Prediction\")\n",
    "dk_with_stacking_fig.show()"
   ]
  },
  {
   "cell_type": "markdown",
   "metadata": {},
   "source": [
    "### Smoking Status as the Target Variable"
   ]
  },
  {
   "cell_type": "code",
   "execution_count": 19,
   "metadata": {},
   "outputs": [
    {
     "name": "stdout",
     "output_type": "stream",
     "text": [
      "The best base models for smoking status prediction are:\n",
      "Logistic\n",
      "GB\n",
      "SVM\n",
      "Random Forest\n",
      "AdaBoost\n"
     ]
    }
   ],
   "source": [
    "# Calculate the mean accuracy scores for all models\n",
    "mean_scores = [np.mean(scores) for scores in smk_results]\n",
    "\n",
    "# Sort the model names by mean accuracy scores in descending order\n",
    "sorted_model_names = [name for _, name in sorted(zip(mean_scores, smk_names), reverse=True)]\n",
    "\n",
    "# Select the top 4 models\n",
    "smk_best_models = sorted_model_names[:5]\n",
    "\n",
    "print(\"The best base models for smoking status prediction are:\")\n",
    "for model_name in smk_best_models:\n",
    "    print(model_name)"
   ]
  },
  {
   "cell_type": "code",
   "execution_count": 20,
   "metadata": {},
   "outputs": [
    {
     "name": "stdout",
     "output_type": "stream",
     "text": [
      ">Logistic 0.672 (0.016)\n",
      ">GB 0.671 (0.017)\n",
      ">SVM 0.667 (0.014)\n",
      ">Random Forest 0.666 (0.019)\n",
      ">AdaBoost 0.664 (0.016)\n",
      ">Stacked Model 0.677 (0.017)\n"
     ]
    }
   ],
   "source": [
    "# get the models to evaluate\n",
    "smk_models_with_stacking = base_and_stacked_models(smk_best_models)\n",
    "# evaluate the models and store results\n",
    "smk_results_with_stacking, smk_names = list(), list() \n",
    "\n",
    "for name, model in smk_models_with_stacking.items():\n",
    "  smk_scores_with_stacking = eval_models(model)\n",
    "  smk_results_with_stacking.append(smk_scores_with_stacking)\n",
    "  smk_names.append(name)\n",
    "  print('>%s %.3f (%.3f)' % (name, smk_scores_with_stacking.mean(), smk_scores_with_stacking.std()))"
   ]
  },
  {
   "cell_type": "code",
   "execution_count": 21,
   "metadata": {},
   "outputs": [
    {
     "data": {
      "application/vnd.plotly.v1+json": {
       "config": {
        "plotlyServerURL": "https://plotly.com"
       },
       "data": [
        {
         "alignmentgroup": "True",
         "boxpoints": "all",
         "hovertemplate": "Machine Learning Model=%{x}<br>Accuracy=%{y}<extra></extra>",
         "legendgroup": "Logistic",
         "marker": {
          "color": "#636efa"
         },
         "name": "Logistic",
         "notched": false,
         "offsetgroup": "Logistic",
         "orientation": "v",
         "showlegend": true,
         "type": "box",
         "x": [
          "Logistic",
          "Logistic",
          "Logistic",
          "Logistic",
          "Logistic",
          "Logistic",
          "Logistic",
          "Logistic",
          "Logistic",
          "Logistic",
          "Logistic",
          "Logistic",
          "Logistic",
          "Logistic",
          "Logistic",
          "Logistic",
          "Logistic",
          "Logistic",
          "Logistic",
          "Logistic",
          "Logistic",
          "Logistic",
          "Logistic",
          "Logistic",
          "Logistic",
          "Logistic",
          "Logistic",
          "Logistic",
          "Logistic",
          "Logistic",
          "Logistic",
          "Logistic",
          "Logistic",
          "Logistic",
          "Logistic",
          "Logistic",
          "Logistic",
          "Logistic",
          "Logistic",
          "Logistic",
          "Logistic",
          "Logistic",
          "Logistic",
          "Logistic",
          "Logistic",
          "Logistic",
          "Logistic",
          "Logistic",
          "Logistic",
          "Logistic"
         ],
         "x0": " ",
         "xaxis": "x",
         "y": [
          0.6944444444444444,
          0.6736111111111112,
          0.6777777777777778,
          0.6888888888888889,
          0.6541666666666667,
          0.6527777777777778,
          0.6694444444444444,
          0.6416666666666667,
          0.6736111111111112,
          0.6944444444444444,
          0.6444444444444445,
          0.6819444444444445,
          0.6847222222222222,
          0.6569444444444444,
          0.6583333333333333,
          0.6555555555555556,
          0.6458333333333334,
          0.7,
          0.7083333333333334,
          0.6708333333333333,
          0.6777777777777778,
          0.6541666666666667,
          0.7083333333333334,
          0.6513888888888889,
          0.6819444444444445,
          0.6958333333333333,
          0.6666666666666666,
          0.6666666666666666,
          0.6638888888888889,
          0.6527777777777778,
          0.6819444444444445,
          0.6819444444444445,
          0.6833333333333333,
          0.6722222222222223,
          0.6791666666666667,
          0.6722222222222223,
          0.6583333333333333,
          0.6527777777777778,
          0.6583333333333333,
          0.6888888888888889,
          0.6736111111111112,
          0.65,
          0.6694444444444444,
          0.6666666666666666,
          0.6652777777777777,
          0.6902777777777778,
          0.6736111111111112,
          0.6805555555555556,
          0.6819444444444445,
          0.6652777777777777
         ],
         "y0": " ",
         "yaxis": "y"
        },
        {
         "alignmentgroup": "True",
         "boxpoints": "all",
         "hovertemplate": "Machine Learning Model=%{x}<br>Accuracy=%{y}<extra></extra>",
         "legendgroup": "GB",
         "marker": {
          "color": "#EF553B"
         },
         "name": "GB",
         "notched": false,
         "offsetgroup": "GB",
         "orientation": "v",
         "showlegend": true,
         "type": "box",
         "x": [
          "GB",
          "GB",
          "GB",
          "GB",
          "GB",
          "GB",
          "GB",
          "GB",
          "GB",
          "GB",
          "GB",
          "GB",
          "GB",
          "GB",
          "GB",
          "GB",
          "GB",
          "GB",
          "GB",
          "GB",
          "GB",
          "GB",
          "GB",
          "GB",
          "GB",
          "GB",
          "GB",
          "GB",
          "GB",
          "GB",
          "GB",
          "GB",
          "GB",
          "GB",
          "GB",
          "GB",
          "GB",
          "GB",
          "GB",
          "GB",
          "GB",
          "GB",
          "GB",
          "GB",
          "GB",
          "GB",
          "GB",
          "GB",
          "GB",
          "GB"
         ],
         "x0": " ",
         "xaxis": "x",
         "y": [
          0.6916666666666667,
          0.6722222222222223,
          0.6861111111111111,
          0.7069444444444445,
          0.6527777777777778,
          0.6583333333333333,
          0.6625,
          0.6472222222222223,
          0.6638888888888889,
          0.6861111111111111,
          0.6583333333333333,
          0.675,
          0.6888888888888889,
          0.6763888888888889,
          0.6458333333333334,
          0.6402777777777777,
          0.6694444444444444,
          0.6902777777777778,
          0.7055555555555556,
          0.6625,
          0.6916666666666667,
          0.6680555555555555,
          0.6861111111111111,
          0.6291666666666667,
          0.6736111111111112,
          0.6763888888888889,
          0.6555555555555556,
          0.6652777777777777,
          0.6625,
          0.6847222222222222,
          0.675,
          0.6805555555555556,
          0.6763888888888889,
          0.6569444444444444,
          0.6916666666666667,
          0.6944444444444444,
          0.6638888888888889,
          0.6430555555555556,
          0.6513888888888889,
          0.7055555555555556,
          0.6569444444444444,
          0.6625,
          0.6791666666666667,
          0.6680555555555555,
          0.6583333333333333,
          0.6833333333333333,
          0.6708333333333333,
          0.6597222222222222,
          0.6847222222222222,
          0.6763888888888889
         ],
         "y0": " ",
         "yaxis": "y"
        },
        {
         "alignmentgroup": "True",
         "boxpoints": "all",
         "hovertemplate": "Machine Learning Model=%{x}<br>Accuracy=%{y}<extra></extra>",
         "legendgroup": "SVM",
         "marker": {
          "color": "#00cc96"
         },
         "name": "SVM",
         "notched": false,
         "offsetgroup": "SVM",
         "orientation": "v",
         "showlegend": true,
         "type": "box",
         "x": [
          "SVM",
          "SVM",
          "SVM",
          "SVM",
          "SVM",
          "SVM",
          "SVM",
          "SVM",
          "SVM",
          "SVM",
          "SVM",
          "SVM",
          "SVM",
          "SVM",
          "SVM",
          "SVM",
          "SVM",
          "SVM",
          "SVM",
          "SVM",
          "SVM",
          "SVM",
          "SVM",
          "SVM",
          "SVM",
          "SVM",
          "SVM",
          "SVM",
          "SVM",
          "SVM",
          "SVM",
          "SVM",
          "SVM",
          "SVM",
          "SVM",
          "SVM",
          "SVM",
          "SVM",
          "SVM",
          "SVM",
          "SVM",
          "SVM",
          "SVM",
          "SVM",
          "SVM",
          "SVM",
          "SVM",
          "SVM",
          "SVM",
          "SVM"
         ],
         "x0": " ",
         "xaxis": "x",
         "y": [
          0.6763888888888889,
          0.6847222222222222,
          0.6805555555555556,
          0.6736111111111112,
          0.6513888888888889,
          0.6458333333333334,
          0.6777777777777778,
          0.65,
          0.6638888888888889,
          0.6861111111111111,
          0.6527777777777778,
          0.6652777777777777,
          0.6722222222222223,
          0.6694444444444444,
          0.6652777777777777,
          0.6597222222222222,
          0.6416666666666667,
          0.6847222222222222,
          0.6930555555555555,
          0.6555555555555556,
          0.6763888888888889,
          0.6708333333333333,
          0.6888888888888889,
          0.6291666666666667,
          0.6819444444444445,
          0.6916666666666667,
          0.6513888888888889,
          0.6638888888888889,
          0.6527777777777778,
          0.6708333333333333,
          0.6694444444444444,
          0.6819444444444445,
          0.6666666666666666,
          0.65,
          0.6763888888888889,
          0.6791666666666667,
          0.65,
          0.6402777777777777,
          0.6652777777777777,
          0.6819444444444445,
          0.6611111111111111,
          0.6611111111111111,
          0.6652777777777777,
          0.6555555555555556,
          0.6736111111111112,
          0.6805555555555556,
          0.6680555555555555,
          0.6472222222222223,
          0.6722222222222223,
          0.6777777777777778
         ],
         "y0": " ",
         "yaxis": "y"
        },
        {
         "alignmentgroup": "True",
         "boxpoints": "all",
         "hovertemplate": "Machine Learning Model=%{x}<br>Accuracy=%{y}<extra></extra>",
         "legendgroup": "Random Forest",
         "marker": {
          "color": "#ab63fa"
         },
         "name": "Random Forest",
         "notched": false,
         "offsetgroup": "Random Forest",
         "orientation": "v",
         "showlegend": true,
         "type": "box",
         "x": [
          "Random Forest",
          "Random Forest",
          "Random Forest",
          "Random Forest",
          "Random Forest",
          "Random Forest",
          "Random Forest",
          "Random Forest",
          "Random Forest",
          "Random Forest",
          "Random Forest",
          "Random Forest",
          "Random Forest",
          "Random Forest",
          "Random Forest",
          "Random Forest",
          "Random Forest",
          "Random Forest",
          "Random Forest",
          "Random Forest",
          "Random Forest",
          "Random Forest",
          "Random Forest",
          "Random Forest",
          "Random Forest",
          "Random Forest",
          "Random Forest",
          "Random Forest",
          "Random Forest",
          "Random Forest",
          "Random Forest",
          "Random Forest",
          "Random Forest",
          "Random Forest",
          "Random Forest",
          "Random Forest",
          "Random Forest",
          "Random Forest",
          "Random Forest",
          "Random Forest",
          "Random Forest",
          "Random Forest",
          "Random Forest",
          "Random Forest",
          "Random Forest",
          "Random Forest",
          "Random Forest",
          "Random Forest",
          "Random Forest",
          "Random Forest"
         ],
         "x0": " ",
         "xaxis": "x",
         "y": [
          0.6888888888888889,
          0.6555555555555556,
          0.6638888888888889,
          0.6916666666666667,
          0.6611111111111111,
          0.6736111111111112,
          0.6527777777777778,
          0.6222222222222222,
          0.6791666666666667,
          0.6833333333333333,
          0.6402777777777777,
          0.6666666666666666,
          0.6777777777777778,
          0.6402777777777777,
          0.6361111111111111,
          0.6305555555555555,
          0.6625,
          0.6861111111111111,
          0.6847222222222222,
          0.6736111111111112,
          0.6958333333333333,
          0.6597222222222222,
          0.6736111111111112,
          0.6347222222222222,
          0.6569444444444444,
          0.6875,
          0.6625,
          0.6861111111111111,
          0.6305555555555555,
          0.6708333333333333,
          0.6736111111111112,
          0.675,
          0.6888888888888889,
          0.6555555555555556,
          0.6875,
          0.6805555555555556,
          0.6666666666666666,
          0.6347222222222222,
          0.6291666666666667,
          0.6847222222222222,
          0.6666666666666666,
          0.6541666666666667,
          0.6708333333333333,
          0.6541666666666667,
          0.6805555555555556,
          0.6736111111111112,
          0.6694444444444444,
          0.6680555555555555,
          0.6958333333333333,
          0.6736111111111112
         ],
         "y0": " ",
         "yaxis": "y"
        },
        {
         "alignmentgroup": "True",
         "boxpoints": "all",
         "hovertemplate": "Machine Learning Model=%{x}<br>Accuracy=%{y}<extra></extra>",
         "legendgroup": "AdaBoost",
         "marker": {
          "color": "#FFA15A"
         },
         "name": "AdaBoost",
         "notched": false,
         "offsetgroup": "AdaBoost",
         "orientation": "v",
         "showlegend": true,
         "type": "box",
         "x": [
          "AdaBoost",
          "AdaBoost",
          "AdaBoost",
          "AdaBoost",
          "AdaBoost",
          "AdaBoost",
          "AdaBoost",
          "AdaBoost",
          "AdaBoost",
          "AdaBoost",
          "AdaBoost",
          "AdaBoost",
          "AdaBoost",
          "AdaBoost",
          "AdaBoost",
          "AdaBoost",
          "AdaBoost",
          "AdaBoost",
          "AdaBoost",
          "AdaBoost",
          "AdaBoost",
          "AdaBoost",
          "AdaBoost",
          "AdaBoost",
          "AdaBoost",
          "AdaBoost",
          "AdaBoost",
          "AdaBoost",
          "AdaBoost",
          "AdaBoost",
          "AdaBoost",
          "AdaBoost",
          "AdaBoost",
          "AdaBoost",
          "AdaBoost",
          "AdaBoost",
          "AdaBoost",
          "AdaBoost",
          "AdaBoost",
          "AdaBoost",
          "AdaBoost",
          "AdaBoost",
          "AdaBoost",
          "AdaBoost",
          "AdaBoost",
          "AdaBoost",
          "AdaBoost",
          "AdaBoost",
          "AdaBoost",
          "AdaBoost"
         ],
         "x0": " ",
         "xaxis": "x",
         "y": [
          0.6763888888888889,
          0.6708333333333333,
          0.6722222222222223,
          0.6805555555555556,
          0.6513888888888889,
          0.6541666666666667,
          0.6583333333333333,
          0.6277777777777778,
          0.6722222222222223,
          0.6875,
          0.6388888888888888,
          0.6652777777777777,
          0.6680555555555555,
          0.6555555555555556,
          0.6458333333333334,
          0.6402777777777777,
          0.6583333333333333,
          0.6694444444444444,
          0.6847222222222222,
          0.6638888888888889,
          0.6708333333333333,
          0.6583333333333333,
          0.6972222222222222,
          0.6361111111111111,
          0.6805555555555556,
          0.6819444444444445,
          0.6680555555555555,
          0.6638888888888889,
          0.6597222222222222,
          0.6625,
          0.6569444444444444,
          0.6763888888888889,
          0.6722222222222223,
          0.6527777777777778,
          0.675,
          0.6819444444444445,
          0.6402777777777777,
          0.6333333333333333,
          0.6555555555555556,
          0.6958333333333333,
          0.6527777777777778,
          0.6694444444444444,
          0.6652777777777777,
          0.6583333333333333,
          0.6416666666666667,
          0.6763888888888889,
          0.6569444444444444,
          0.6763888888888889,
          0.6847222222222222,
          0.6611111111111111
         ],
         "y0": " ",
         "yaxis": "y"
        },
        {
         "alignmentgroup": "True",
         "boxpoints": "all",
         "hovertemplate": "Machine Learning Model=%{x}<br>Accuracy=%{y}<extra></extra>",
         "legendgroup": "Stacked Model",
         "marker": {
          "color": "#19d3f3"
         },
         "name": "Stacked Model",
         "notched": false,
         "offsetgroup": "Stacked Model",
         "orientation": "v",
         "showlegend": true,
         "type": "box",
         "x": [
          "Stacked Model",
          "Stacked Model",
          "Stacked Model",
          "Stacked Model",
          "Stacked Model",
          "Stacked Model",
          "Stacked Model",
          "Stacked Model",
          "Stacked Model",
          "Stacked Model",
          "Stacked Model",
          "Stacked Model",
          "Stacked Model",
          "Stacked Model",
          "Stacked Model",
          "Stacked Model",
          "Stacked Model",
          "Stacked Model",
          "Stacked Model",
          "Stacked Model",
          "Stacked Model",
          "Stacked Model",
          "Stacked Model",
          "Stacked Model",
          "Stacked Model",
          "Stacked Model",
          "Stacked Model",
          "Stacked Model",
          "Stacked Model",
          "Stacked Model",
          "Stacked Model",
          "Stacked Model",
          "Stacked Model",
          "Stacked Model",
          "Stacked Model",
          "Stacked Model",
          "Stacked Model",
          "Stacked Model",
          "Stacked Model",
          "Stacked Model",
          "Stacked Model",
          "Stacked Model",
          "Stacked Model",
          "Stacked Model",
          "Stacked Model",
          "Stacked Model",
          "Stacked Model",
          "Stacked Model",
          "Stacked Model",
          "Stacked Model"
         ],
         "x0": " ",
         "xaxis": "x",
         "y": [
          0.7013888888888888,
          0.6722222222222223,
          0.6944444444444444,
          0.7125,
          0.6472222222222223,
          0.6555555555555556,
          0.6666666666666666,
          0.6430555555555556,
          0.6722222222222223,
          0.6930555555555555,
          0.6555555555555556,
          0.6680555555555555,
          0.6986111111111111,
          0.6819444444444445,
          0.6611111111111111,
          0.6652777777777777,
          0.6666666666666666,
          0.6944444444444444,
          0.7041666666666667,
          0.6819444444444445,
          0.6986111111111111,
          0.6708333333333333,
          0.6972222222222222,
          0.6430555555555556,
          0.6763888888888889,
          0.6777777777777778,
          0.6736111111111112,
          0.6819444444444445,
          0.6694444444444444,
          0.6819444444444445,
          0.6888888888888889,
          0.6902777777777778,
          0.6736111111111112,
          0.6722222222222223,
          0.6736111111111112,
          0.7055555555555556,
          0.6555555555555556,
          0.6444444444444445,
          0.6555555555555556,
          0.7069444444444445,
          0.6777777777777778,
          0.6625,
          0.6777777777777778,
          0.6763888888888889,
          0.6611111111111111,
          0.6916666666666667,
          0.6736111111111112,
          0.675,
          0.6847222222222222,
          0.6791666666666667
         ],
         "y0": " ",
         "yaxis": "y"
        }
       ],
       "layout": {
        "boxmode": "overlay",
        "legend": {
         "title": {
          "text": "Machine Learning Model"
         },
         "tracegroupgap": 0
        },
        "template": {
         "data": {
          "bar": [
           {
            "error_x": {
             "color": "#2a3f5f"
            },
            "error_y": {
             "color": "#2a3f5f"
            },
            "marker": {
             "line": {
              "color": "#E5ECF6",
              "width": 0.5
             },
             "pattern": {
              "fillmode": "overlay",
              "size": 10,
              "solidity": 0.2
             }
            },
            "type": "bar"
           }
          ],
          "barpolar": [
           {
            "marker": {
             "line": {
              "color": "#E5ECF6",
              "width": 0.5
             },
             "pattern": {
              "fillmode": "overlay",
              "size": 10,
              "solidity": 0.2
             }
            },
            "type": "barpolar"
           }
          ],
          "carpet": [
           {
            "aaxis": {
             "endlinecolor": "#2a3f5f",
             "gridcolor": "white",
             "linecolor": "white",
             "minorgridcolor": "white",
             "startlinecolor": "#2a3f5f"
            },
            "baxis": {
             "endlinecolor": "#2a3f5f",
             "gridcolor": "white",
             "linecolor": "white",
             "minorgridcolor": "white",
             "startlinecolor": "#2a3f5f"
            },
            "type": "carpet"
           }
          ],
          "choropleth": [
           {
            "colorbar": {
             "outlinewidth": 0,
             "ticks": ""
            },
            "type": "choropleth"
           }
          ],
          "contour": [
           {
            "colorbar": {
             "outlinewidth": 0,
             "ticks": ""
            },
            "colorscale": [
             [
              0,
              "#0d0887"
             ],
             [
              0.1111111111111111,
              "#46039f"
             ],
             [
              0.2222222222222222,
              "#7201a8"
             ],
             [
              0.3333333333333333,
              "#9c179e"
             ],
             [
              0.4444444444444444,
              "#bd3786"
             ],
             [
              0.5555555555555556,
              "#d8576b"
             ],
             [
              0.6666666666666666,
              "#ed7953"
             ],
             [
              0.7777777777777778,
              "#fb9f3a"
             ],
             [
              0.8888888888888888,
              "#fdca26"
             ],
             [
              1,
              "#f0f921"
             ]
            ],
            "type": "contour"
           }
          ],
          "contourcarpet": [
           {
            "colorbar": {
             "outlinewidth": 0,
             "ticks": ""
            },
            "type": "contourcarpet"
           }
          ],
          "heatmap": [
           {
            "colorbar": {
             "outlinewidth": 0,
             "ticks": ""
            },
            "colorscale": [
             [
              0,
              "#0d0887"
             ],
             [
              0.1111111111111111,
              "#46039f"
             ],
             [
              0.2222222222222222,
              "#7201a8"
             ],
             [
              0.3333333333333333,
              "#9c179e"
             ],
             [
              0.4444444444444444,
              "#bd3786"
             ],
             [
              0.5555555555555556,
              "#d8576b"
             ],
             [
              0.6666666666666666,
              "#ed7953"
             ],
             [
              0.7777777777777778,
              "#fb9f3a"
             ],
             [
              0.8888888888888888,
              "#fdca26"
             ],
             [
              1,
              "#f0f921"
             ]
            ],
            "type": "heatmap"
           }
          ],
          "heatmapgl": [
           {
            "colorbar": {
             "outlinewidth": 0,
             "ticks": ""
            },
            "colorscale": [
             [
              0,
              "#0d0887"
             ],
             [
              0.1111111111111111,
              "#46039f"
             ],
             [
              0.2222222222222222,
              "#7201a8"
             ],
             [
              0.3333333333333333,
              "#9c179e"
             ],
             [
              0.4444444444444444,
              "#bd3786"
             ],
             [
              0.5555555555555556,
              "#d8576b"
             ],
             [
              0.6666666666666666,
              "#ed7953"
             ],
             [
              0.7777777777777778,
              "#fb9f3a"
             ],
             [
              0.8888888888888888,
              "#fdca26"
             ],
             [
              1,
              "#f0f921"
             ]
            ],
            "type": "heatmapgl"
           }
          ],
          "histogram": [
           {
            "marker": {
             "pattern": {
              "fillmode": "overlay",
              "size": 10,
              "solidity": 0.2
             }
            },
            "type": "histogram"
           }
          ],
          "histogram2d": [
           {
            "colorbar": {
             "outlinewidth": 0,
             "ticks": ""
            },
            "colorscale": [
             [
              0,
              "#0d0887"
             ],
             [
              0.1111111111111111,
              "#46039f"
             ],
             [
              0.2222222222222222,
              "#7201a8"
             ],
             [
              0.3333333333333333,
              "#9c179e"
             ],
             [
              0.4444444444444444,
              "#bd3786"
             ],
             [
              0.5555555555555556,
              "#d8576b"
             ],
             [
              0.6666666666666666,
              "#ed7953"
             ],
             [
              0.7777777777777778,
              "#fb9f3a"
             ],
             [
              0.8888888888888888,
              "#fdca26"
             ],
             [
              1,
              "#f0f921"
             ]
            ],
            "type": "histogram2d"
           }
          ],
          "histogram2dcontour": [
           {
            "colorbar": {
             "outlinewidth": 0,
             "ticks": ""
            },
            "colorscale": [
             [
              0,
              "#0d0887"
             ],
             [
              0.1111111111111111,
              "#46039f"
             ],
             [
              0.2222222222222222,
              "#7201a8"
             ],
             [
              0.3333333333333333,
              "#9c179e"
             ],
             [
              0.4444444444444444,
              "#bd3786"
             ],
             [
              0.5555555555555556,
              "#d8576b"
             ],
             [
              0.6666666666666666,
              "#ed7953"
             ],
             [
              0.7777777777777778,
              "#fb9f3a"
             ],
             [
              0.8888888888888888,
              "#fdca26"
             ],
             [
              1,
              "#f0f921"
             ]
            ],
            "type": "histogram2dcontour"
           }
          ],
          "mesh3d": [
           {
            "colorbar": {
             "outlinewidth": 0,
             "ticks": ""
            },
            "type": "mesh3d"
           }
          ],
          "parcoords": [
           {
            "line": {
             "colorbar": {
              "outlinewidth": 0,
              "ticks": ""
             }
            },
            "type": "parcoords"
           }
          ],
          "pie": [
           {
            "automargin": true,
            "type": "pie"
           }
          ],
          "scatter": [
           {
            "fillpattern": {
             "fillmode": "overlay",
             "size": 10,
             "solidity": 0.2
            },
            "type": "scatter"
           }
          ],
          "scatter3d": [
           {
            "line": {
             "colorbar": {
              "outlinewidth": 0,
              "ticks": ""
             }
            },
            "marker": {
             "colorbar": {
              "outlinewidth": 0,
              "ticks": ""
             }
            },
            "type": "scatter3d"
           }
          ],
          "scattercarpet": [
           {
            "marker": {
             "colorbar": {
              "outlinewidth": 0,
              "ticks": ""
             }
            },
            "type": "scattercarpet"
           }
          ],
          "scattergeo": [
           {
            "marker": {
             "colorbar": {
              "outlinewidth": 0,
              "ticks": ""
             }
            },
            "type": "scattergeo"
           }
          ],
          "scattergl": [
           {
            "marker": {
             "colorbar": {
              "outlinewidth": 0,
              "ticks": ""
             }
            },
            "type": "scattergl"
           }
          ],
          "scattermapbox": [
           {
            "marker": {
             "colorbar": {
              "outlinewidth": 0,
              "ticks": ""
             }
            },
            "type": "scattermapbox"
           }
          ],
          "scatterpolar": [
           {
            "marker": {
             "colorbar": {
              "outlinewidth": 0,
              "ticks": ""
             }
            },
            "type": "scatterpolar"
           }
          ],
          "scatterpolargl": [
           {
            "marker": {
             "colorbar": {
              "outlinewidth": 0,
              "ticks": ""
             }
            },
            "type": "scatterpolargl"
           }
          ],
          "scatterternary": [
           {
            "marker": {
             "colorbar": {
              "outlinewidth": 0,
              "ticks": ""
             }
            },
            "type": "scatterternary"
           }
          ],
          "surface": [
           {
            "colorbar": {
             "outlinewidth": 0,
             "ticks": ""
            },
            "colorscale": [
             [
              0,
              "#0d0887"
             ],
             [
              0.1111111111111111,
              "#46039f"
             ],
             [
              0.2222222222222222,
              "#7201a8"
             ],
             [
              0.3333333333333333,
              "#9c179e"
             ],
             [
              0.4444444444444444,
              "#bd3786"
             ],
             [
              0.5555555555555556,
              "#d8576b"
             ],
             [
              0.6666666666666666,
              "#ed7953"
             ],
             [
              0.7777777777777778,
              "#fb9f3a"
             ],
             [
              0.8888888888888888,
              "#fdca26"
             ],
             [
              1,
              "#f0f921"
             ]
            ],
            "type": "surface"
           }
          ],
          "table": [
           {
            "cells": {
             "fill": {
              "color": "#EBF0F8"
             },
             "line": {
              "color": "white"
             }
            },
            "header": {
             "fill": {
              "color": "#C8D4E3"
             },
             "line": {
              "color": "white"
             }
            },
            "type": "table"
           }
          ]
         },
         "layout": {
          "annotationdefaults": {
           "arrowcolor": "#2a3f5f",
           "arrowhead": 0,
           "arrowwidth": 1
          },
          "autotypenumbers": "strict",
          "coloraxis": {
           "colorbar": {
            "outlinewidth": 0,
            "ticks": ""
           }
          },
          "colorscale": {
           "diverging": [
            [
             0,
             "#8e0152"
            ],
            [
             0.1,
             "#c51b7d"
            ],
            [
             0.2,
             "#de77ae"
            ],
            [
             0.3,
             "#f1b6da"
            ],
            [
             0.4,
             "#fde0ef"
            ],
            [
             0.5,
             "#f7f7f7"
            ],
            [
             0.6,
             "#e6f5d0"
            ],
            [
             0.7,
             "#b8e186"
            ],
            [
             0.8,
             "#7fbc41"
            ],
            [
             0.9,
             "#4d9221"
            ],
            [
             1,
             "#276419"
            ]
           ],
           "sequential": [
            [
             0,
             "#0d0887"
            ],
            [
             0.1111111111111111,
             "#46039f"
            ],
            [
             0.2222222222222222,
             "#7201a8"
            ],
            [
             0.3333333333333333,
             "#9c179e"
            ],
            [
             0.4444444444444444,
             "#bd3786"
            ],
            [
             0.5555555555555556,
             "#d8576b"
            ],
            [
             0.6666666666666666,
             "#ed7953"
            ],
            [
             0.7777777777777778,
             "#fb9f3a"
            ],
            [
             0.8888888888888888,
             "#fdca26"
            ],
            [
             1,
             "#f0f921"
            ]
           ],
           "sequentialminus": [
            [
             0,
             "#0d0887"
            ],
            [
             0.1111111111111111,
             "#46039f"
            ],
            [
             0.2222222222222222,
             "#7201a8"
            ],
            [
             0.3333333333333333,
             "#9c179e"
            ],
            [
             0.4444444444444444,
             "#bd3786"
            ],
            [
             0.5555555555555556,
             "#d8576b"
            ],
            [
             0.6666666666666666,
             "#ed7953"
            ],
            [
             0.7777777777777778,
             "#fb9f3a"
            ],
            [
             0.8888888888888888,
             "#fdca26"
            ],
            [
             1,
             "#f0f921"
            ]
           ]
          },
          "colorway": [
           "#636efa",
           "#EF553B",
           "#00cc96",
           "#ab63fa",
           "#FFA15A",
           "#19d3f3",
           "#FF6692",
           "#B6E880",
           "#FF97FF",
           "#FECB52"
          ],
          "font": {
           "color": "#2a3f5f"
          },
          "geo": {
           "bgcolor": "white",
           "lakecolor": "white",
           "landcolor": "#E5ECF6",
           "showlakes": true,
           "showland": true,
           "subunitcolor": "white"
          },
          "hoverlabel": {
           "align": "left"
          },
          "hovermode": "closest",
          "mapbox": {
           "style": "light"
          },
          "paper_bgcolor": "white",
          "plot_bgcolor": "#E5ECF6",
          "polar": {
           "angularaxis": {
            "gridcolor": "white",
            "linecolor": "white",
            "ticks": ""
           },
           "bgcolor": "#E5ECF6",
           "radialaxis": {
            "gridcolor": "white",
            "linecolor": "white",
            "ticks": ""
           }
          },
          "scene": {
           "xaxis": {
            "backgroundcolor": "#E5ECF6",
            "gridcolor": "white",
            "gridwidth": 2,
            "linecolor": "white",
            "showbackground": true,
            "ticks": "",
            "zerolinecolor": "white"
           },
           "yaxis": {
            "backgroundcolor": "#E5ECF6",
            "gridcolor": "white",
            "gridwidth": 2,
            "linecolor": "white",
            "showbackground": true,
            "ticks": "",
            "zerolinecolor": "white"
           },
           "zaxis": {
            "backgroundcolor": "#E5ECF6",
            "gridcolor": "white",
            "gridwidth": 2,
            "linecolor": "white",
            "showbackground": true,
            "ticks": "",
            "zerolinecolor": "white"
           }
          },
          "shapedefaults": {
           "line": {
            "color": "#2a3f5f"
           }
          },
          "ternary": {
           "aaxis": {
            "gridcolor": "white",
            "linecolor": "white",
            "ticks": ""
           },
           "baxis": {
            "gridcolor": "white",
            "linecolor": "white",
            "ticks": ""
           },
           "bgcolor": "#E5ECF6",
           "caxis": {
            "gridcolor": "white",
            "linecolor": "white",
            "ticks": ""
           }
          },
          "title": {
           "x": 0.05
          },
          "xaxis": {
           "automargin": true,
           "gridcolor": "white",
           "linecolor": "white",
           "ticks": "",
           "title": {
            "standoff": 15
           },
           "zerolinecolor": "white",
           "zerolinewidth": 2
          },
          "yaxis": {
           "automargin": true,
           "gridcolor": "white",
           "linecolor": "white",
           "ticks": "",
           "title": {
            "standoff": 15
           },
           "zerolinecolor": "white",
           "zerolinewidth": 2
          }
         }
        },
        "title": {
         "text": "Model Performance for Smoking Status Prediction"
        },
        "xaxis": {
         "anchor": "y",
         "categoryarray": [
          "Logistic",
          "GB",
          "SVM",
          "Random Forest",
          "AdaBoost",
          "Stacked Model"
         ],
         "categoryorder": "array",
         "domain": [
          0,
          1
         ],
         "title": {
          "text": "Machine Learning Model"
         }
        },
        "yaxis": {
         "anchor": "x",
         "domain": [
          0,
          1
         ],
         "title": {
          "text": "Accuracy"
         }
        }
       }
      }
     },
     "metadata": {},
     "output_type": "display_data"
    }
   ],
   "source": [
    "smk_classmod_with_stacking = pd.DataFrame(np.transpose(smk_results_with_stacking), columns = smk_best_models+[\"Stacked Model\"])\n",
    "smk_classmod_with_stacking = pd.melt(smk_classmod_with_stacking.reset_index(), id_vars='index', value_vars=smk_best_models+[\"Stacked Model\"])\n",
    "\n",
    "smk_with_stacking_fig = px.box(smk_classmod_with_stacking, x=\"variable\", y=\"value\",color=\"variable\",points='all',\n",
    "labels={\"variable\": \"Machine Learning Model\",\n",
    "        \"value\": \"Accuracy\"\n",
    "        },title=\"Model Performance for Smoking Status Prediction\")\n",
    "smk_with_stacking_fig.show()"
   ]
  },
  {
   "cell_type": "markdown",
   "metadata": {},
   "source": [
    "## Save the Single Stacked model"
   ]
  },
  {
   "cell_type": "code",
   "execution_count": 22,
   "metadata": {},
   "outputs": [],
   "source": [
    "dk_stacked_model = get_stacking(dk_best_models)\n",
    "dk_stacked_model.fit(x_dk_train, y_dk_train)\n",
    "\n",
    "smk_stacked_model = get_stacking(smk_best_models)\n",
    "smk_stacked_model.fit(x_smk_train, y_smk_train)\n",
    "\n",
    "import pickle\n",
    "\n",
    "# Save to file in the current working directory\n",
    "pkl_filename = [(\"StackedPickleDrinking.pkl\", dk_stacked_model), (\"StackedPickleSmoking.pkl\", smk_stacked_model)]\n",
    "for i in range(2):\n",
    "    with open(pkl_filename[i][0], 'wb') as file:\n",
    "        pickle.dump(pkl_filename[i][1], file)"
   ]
  },
  {
   "cell_type": "markdown",
   "metadata": {},
   "source": [
    "## Making Prediction using Stacked models"
   ]
  },
  {
   "cell_type": "markdown",
   "metadata": {},
   "source": [
    "### Drinking"
   ]
  },
  {
   "cell_type": "code",
   "execution_count": 23,
   "metadata": {},
   "outputs": [
    {
     "name": "stdout",
     "output_type": "stream",
     "text": [
      "Test score: 67.28 %\n"
     ]
    }
   ],
   "source": [
    "# Load from file\n",
    "with open(pkl_filename[0][0], 'rb') as file:\n",
    "    pickle_model = pickle.load(file)\n",
    "\n",
    "dk_score = pickle_model.score(x_dk_test, y_dk_test)\n",
    "print(\"Test score: {0:.2f} %\".format(100 * dk_score))\n",
    "dk_y_predict = pickle_model.predict(x_dk_test)"
   ]
  },
  {
   "cell_type": "code",
   "execution_count": 24,
   "metadata": {},
   "outputs": [
    {
     "name": "stdout",
     "output_type": "stream",
     "text": [
      "Confusion Matrix:\n",
      "[[589 302]\n",
      " [287 622]]\n",
      "\n"
     ]
    },
    {
     "data": {
      "image/png": "[encoded data removed]",
      "text/plain": [
       "<Figure size 800x600 with 1 Axes>"
      ]
     },
     "metadata": {},
     "output_type": "display_data"
    }
   ],
   "source": [
    "# Calculate the confusion matrix\n",
    "dk_conf_matrix = confusion_matrix(y_dk_test, dk_y_predict)\n",
    "\n",
    "# Display the confusion matrix as text\n",
    "print(f\"Confusion Matrix:\\n{dk_conf_matrix}\\n\")\n",
    "\n",
    "# Display the confusion matrix as a visual plot\n",
    "plt.figure(figsize=(8, 6))\n",
    "sns.heatmap(dk_conf_matrix, annot=True, fmt='d', cmap='GnBu',cbar=False)\n",
    "plt.xlabel('Predicted')\n",
    "plt.ylabel('True')\n",
    "plt.title('Confusion Matrix')\n",
    "plt.show()"
   ]
  },
  {
   "cell_type": "markdown",
   "metadata": {},
   "source": [
    "### Smoking"
   ]
  },
  {
   "cell_type": "code",
   "execution_count": 25,
   "metadata": {},
   "outputs": [
    {
     "name": "stdout",
     "output_type": "stream",
     "text": [
      "Test score: 62.33 %\n"
     ]
    }
   ],
   "source": [
    "# Load from file\n",
    "with open(pkl_filename[1][0], 'rb') as file:\n",
    "    pickle_model = pickle.load(file)\n",
    "\n",
    "smk_score = pickle_model.score(x_smk_test, y_smk_test)\n",
    "print(\"Test score: {0:.2f} %\".format(100 * smk_score))\n",
    "smk_y_predict = pickle_model.predict(x_smk_test)"
   ]
  },
  {
   "cell_type": "code",
   "execution_count": 26,
   "metadata": {},
   "outputs": [
    {
     "name": "stdout",
     "output_type": "stream",
     "text": [
      "Confusion Matrix:\n",
      "[[393  85 107]\n",
      " [ 38 359 204]\n",
      " [ 56 188 370]]\n",
      "\n"
     ]
    },
    {
     "data": {
      "image/png": "[encoded data removed]",
      "text/plain": [
       "<Figure size 800x600 with 1 Axes>"
      ]
     },
     "metadata": {},
     "output_type": "display_data"
    }
   ],
   "source": [
    "# Calculate the confusion matrix\n",
    "smk_conf_matrix = confusion_matrix(y_smk_test, smk_y_predict)\n",
    "\n",
    "# Display the confusion matrix as text\n",
    "print(f\"Confusion Matrix:\\n{smk_conf_matrix}\\n\")\n",
    "\n",
    "# Display the confusion matrix as a visual plot\n",
    "plt.figure(figsize=(8, 6))\n",
    "sns.heatmap(smk_conf_matrix, annot=True, fmt='d', cmap='GnBu',cbar=False)\n",
    "plt.xlabel('Predicted')\n",
    "plt.ylabel('True')\n",
    "plt.title('Confusion Matrix')\n",
    "plt.show()"
   ]
  },
  {
   "cell_type": "markdown",
   "metadata": {},
   "source": [
    "## Checking Feature Importance"
   ]
  },
  {
   "cell_type": "code",
   "execution_count": 27,
   "metadata": {},
   "outputs": [],
   "source": [
    "def feature_importances(base_models, x_train, y_train):\n",
    "    best_models_candidates = {\"Logistic\": LogisticRegression(max_iter=10000),\n",
    "                    \"NB\": GaussianNB(),\n",
    "                    \"KNN\": KNeighborsClassifier(n_neighbors=20),\n",
    "                    \"Decision Tree\": DecisionTreeClassifier(),\n",
    "                    \"Random Forest\": RandomForestClassifier(),\n",
    "                    \"GB\": GradientBoostingClassifier(),\n",
    "                    \"XGB\": XGBClassifier(),\n",
    "                    \"Bagging\": BaggingClassifier(n_estimators=100),\n",
    "                    \"SVM\": SVC(),\n",
    "                    \"QDA\": QuadraticDiscriminantAnalysis(),\n",
    "                    \"AdaBoost\": AdaBoostClassifier(),\n",
    "                    \"MLP\": MLPClassifier()}\n",
    "    \n",
    "    importance = []\n",
    "    for bm in base_models:\n",
    "        tmp_model = best_models_candidates[bm]\n",
    "        tmp_model.fit(x_train, y_train)\n",
    "\n",
    "        if bm == 'Logistic':\n",
    "            tmp_importance = list(tmp_model.coef_[0])\n",
    "        elif bm == 'SVM':\n",
    "            tmp_importance = list(permutation_importance(tmp_model, x_train, y_train).importances_mean)\n",
    "        elif bm == 'NB':\n",
    "            tmp_importance = list(permutation_importance(tmp_model, x_train, y_train).importances_mean)\n",
    "        elif bm == 'KNN':\n",
    "            continue\n",
    "        else:\n",
    "            tmp_importance = list(tmp_model.feature_importances_)\n",
    "        importance.append(tmp_importance)\n",
    "    \n",
    "    return importance\n",
    "    \n",
    "\n",
    "target_names = ['SMK_stat_type_cd','DRK_YN']\n",
    "feature_names = [i for i in df.columns if i not in target_names]"
   ]
  },
  {
   "cell_type": "markdown",
   "metadata": {},
   "source": [
    "### Features Importance for Best Base Models -- Drinking"
   ]
  },
  {
   "cell_type": "code",
   "execution_count": 28,
   "metadata": {},
   "outputs": [
    {
     "data": {
      "text/html": [
       "<div>\n",
       "<style scoped>\n",
       "    .dataframe tbody tr th:only-of-type {\n",
       "        vertical-align: middle;\n",
       "    }\n",
       "\n",
       "    .dataframe tbody tr th {\n",
       "        vertical-align: top;\n",
       "    }\n",
       "\n",
       "    .dataframe thead th {\n",
       "        text-align: right;\n",
       "    }\n",
       "</style>\n",
       "<table border=\"1\" class=\"dataframe\">\n",
       "  <thead>\n",
       "    <tr style=\"text-align: right;\">\n",
       "      <th></th>\n",
       "      <th>sex</th>\n",
       "      <th>age</th>\n",
       "      <th>waistline</th>\n",
       "      <th>sight_left</th>\n",
       "      <th>sight_right</th>\n",
       "      <th>hear_left</th>\n",
       "      <th>hear_right</th>\n",
       "      <th>SBP</th>\n",
       "      <th>DBP</th>\n",
       "      <th>BLDS</th>\n",
       "      <th>HDL_chole</th>\n",
       "      <th>LDL_chole</th>\n",
       "      <th>triglyceride</th>\n",
       "      <th>hemoglobin</th>\n",
       "      <th>urine_protein</th>\n",
       "      <th>serum_creatinine</th>\n",
       "      <th>SGOT_AST</th>\n",
       "      <th>SGOT_ALT</th>\n",
       "      <th>gamma_GTP</th>\n",
       "      <th>bmi</th>\n",
       "    </tr>\n",
       "  </thead>\n",
       "  <tbody>\n",
       "    <tr>\n",
       "      <th>Logistic</th>\n",
       "      <td>0.689305</td>\n",
       "      <td>-0.040983</td>\n",
       "      <td>-0.001393</td>\n",
       "      <td>0.019156</td>\n",
       "      <td>-0.001989</td>\n",
       "      <td>-0.005340</td>\n",
       "      <td>-0.292072</td>\n",
       "      <td>0.000599</td>\n",
       "      <td>0.018274</td>\n",
       "      <td>0.001921</td>\n",
       "      <td>0.028214</td>\n",
       "      <td>-0.002451</td>\n",
       "      <td>0.001079</td>\n",
       "      <td>0.047657</td>\n",
       "      <td>-0.092780</td>\n",
       "      <td>-0.427194</td>\n",
       "      <td>0.026341</td>\n",
       "      <td>-0.029092</td>\n",
       "      <td>0.014508</td>\n",
       "      <td>0.012522</td>\n",
       "    </tr>\n",
       "    <tr>\n",
       "      <th>GB</th>\n",
       "      <td>0.038213</td>\n",
       "      <td>0.238734</td>\n",
       "      <td>0.021779</td>\n",
       "      <td>0.002102</td>\n",
       "      <td>0.001817</td>\n",
       "      <td>0.000000</td>\n",
       "      <td>0.000339</td>\n",
       "      <td>0.016649</td>\n",
       "      <td>0.030782</td>\n",
       "      <td>0.019511</td>\n",
       "      <td>0.136343</td>\n",
       "      <td>0.028553</td>\n",
       "      <td>0.021019</td>\n",
       "      <td>0.043123</td>\n",
       "      <td>0.000740</td>\n",
       "      <td>0.017816</td>\n",
       "      <td>0.026307</td>\n",
       "      <td>0.076146</td>\n",
       "      <td>0.260254</td>\n",
       "      <td>0.019773</td>\n",
       "    </tr>\n",
       "    <tr>\n",
       "      <th>SVM</th>\n",
       "      <td>-0.000389</td>\n",
       "      <td>0.068778</td>\n",
       "      <td>-0.000444</td>\n",
       "      <td>0.000083</td>\n",
       "      <td>0.000056</td>\n",
       "      <td>0.000000</td>\n",
       "      <td>0.000000</td>\n",
       "      <td>-0.000750</td>\n",
       "      <td>0.001222</td>\n",
       "      <td>-0.000889</td>\n",
       "      <td>0.021528</td>\n",
       "      <td>-0.000139</td>\n",
       "      <td>0.003278</td>\n",
       "      <td>-0.001417</td>\n",
       "      <td>0.000056</td>\n",
       "      <td>0.000083</td>\n",
       "      <td>0.000750</td>\n",
       "      <td>0.026917</td>\n",
       "      <td>0.080056</td>\n",
       "      <td>-0.002722</td>\n",
       "    </tr>\n",
       "    <tr>\n",
       "      <th>Random Forest</th>\n",
       "      <td>0.010912</td>\n",
       "      <td>0.075824</td>\n",
       "      <td>0.059620</td>\n",
       "      <td>0.034789</td>\n",
       "      <td>0.035356</td>\n",
       "      <td>0.002418</td>\n",
       "      <td>0.002113</td>\n",
       "      <td>0.058359</td>\n",
       "      <td>0.053601</td>\n",
       "      <td>0.061869</td>\n",
       "      <td>0.083349</td>\n",
       "      <td>0.065718</td>\n",
       "      <td>0.069700</td>\n",
       "      <td>0.069342</td>\n",
       "      <td>0.005864</td>\n",
       "      <td>0.036866</td>\n",
       "      <td>0.053113</td>\n",
       "      <td>0.064546</td>\n",
       "      <td>0.102044</td>\n",
       "      <td>0.054597</td>\n",
       "    </tr>\n",
       "    <tr>\n",
       "      <th>AdaBoost</th>\n",
       "      <td>0.020000</td>\n",
       "      <td>0.120000</td>\n",
       "      <td>0.020000</td>\n",
       "      <td>0.000000</td>\n",
       "      <td>0.000000</td>\n",
       "      <td>0.000000</td>\n",
       "      <td>0.000000</td>\n",
       "      <td>0.000000</td>\n",
       "      <td>0.040000</td>\n",
       "      <td>0.020000</td>\n",
       "      <td>0.140000</td>\n",
       "      <td>0.080000</td>\n",
       "      <td>0.020000</td>\n",
       "      <td>0.020000</td>\n",
       "      <td>0.000000</td>\n",
       "      <td>0.080000</td>\n",
       "      <td>0.120000</td>\n",
       "      <td>0.180000</td>\n",
       "      <td>0.080000</td>\n",
       "      <td>0.060000</td>\n",
       "    </tr>\n",
       "  </tbody>\n",
       "</table>\n",
       "</div>"
      ],
      "text/plain": [
       "                    sex       age  waistline  sight_left  sight_right  \\\n",
       "Logistic       0.689305 -0.040983  -0.001393    0.019156    -0.001989   \n",
       "GB             0.038213  0.238734   0.021779    0.002102     0.001817   \n",
       "SVM           -0.000389  0.068778  -0.000444    0.000083     0.000056   \n",
       "Random Forest  0.010912  0.075824   0.059620    0.034789     0.035356   \n",
       "AdaBoost       0.020000  0.120000   0.020000    0.000000     0.000000   \n",
       "\n",
       "               hear_left  hear_right       SBP       DBP      BLDS  HDL_chole  \\\n",
       "Logistic       -0.005340   -0.292072  0.000599  0.018274  0.001921   0.028214   \n",
       "GB              0.000000    0.000339  0.016649  0.030782  0.019511   0.136343   \n",
       "SVM             0.000000    0.000000 -0.000750  0.001222 -0.000889   0.021528   \n",
       "Random Forest   0.002418    0.002113  0.058359  0.053601  0.061869   0.083349   \n",
       "AdaBoost        0.000000    0.000000  0.000000  0.040000  0.020000   0.140000   \n",
       "\n",
       "               LDL_chole  triglyceride  hemoglobin  urine_protein  \\\n",
       "Logistic       -0.002451      0.001079    0.047657      -0.092780   \n",
       "GB              0.028553      0.021019    0.043123       0.000740   \n",
       "SVM            -0.000139      0.003278   -0.001417       0.000056   \n",
       "Random Forest   0.065718      0.069700    0.069342       0.005864   \n",
       "AdaBoost        0.080000      0.020000    0.020000       0.000000   \n",
       "\n",
       "               serum_creatinine  SGOT_AST  SGOT_ALT  gamma_GTP       bmi  \n",
       "Logistic              -0.427194  0.026341 -0.029092   0.014508  0.012522  \n",
       "GB                     0.017816  0.026307  0.076146   0.260254  0.019773  \n",
       "SVM                    0.000083  0.000750  0.026917   0.080056 -0.002722  \n",
       "Random Forest          0.036866  0.053113  0.064546   0.102044  0.054597  \n",
       "AdaBoost               0.080000  0.120000  0.180000   0.080000  0.060000  "
      ]
     },
     "execution_count": 28,
     "metadata": {},
     "output_type": "execute_result"
    }
   ],
   "source": [
    "dk_best_models_name = [i for i in dk_best_models if i!='KNN']\n",
    "dk_feature_importance = feature_importances(dk_best_models, x_dk_train, y_dk_train)\n",
    "dk_feature_importance = pd.DataFrame(dk_feature_importance, columns = feature_names, index=dk_best_models_name)\n",
    "dk_feature_importance"
   ]
  },
  {
   "cell_type": "markdown",
   "metadata": {},
   "source": [
    "__Top 5 Importance Features__"
   ]
  },
  {
   "cell_type": "code",
   "execution_count": 29,
   "metadata": {},
   "outputs": [
    {
     "data": {
      "text/html": [
       "<div>\n",
       "<style scoped>\n",
       "    .dataframe tbody tr th:only-of-type {\n",
       "        vertical-align: middle;\n",
       "    }\n",
       "\n",
       "    .dataframe tbody tr th {\n",
       "        vertical-align: top;\n",
       "    }\n",
       "\n",
       "    .dataframe thead th {\n",
       "        text-align: right;\n",
       "    }\n",
       "</style>\n",
       "<table border=\"1\" class=\"dataframe\">\n",
       "  <thead>\n",
       "    <tr style=\"text-align: right;\">\n",
       "      <th></th>\n",
       "      <th>top1</th>\n",
       "      <th>top2</th>\n",
       "      <th>top3</th>\n",
       "      <th>top4</th>\n",
       "      <th>top5</th>\n",
       "    </tr>\n",
       "  </thead>\n",
       "  <tbody>\n",
       "    <tr>\n",
       "      <th>Logistic</th>\n",
       "      <td>sex</td>\n",
       "      <td>hemoglobin</td>\n",
       "      <td>HDL_chole</td>\n",
       "      <td>SGOT_AST</td>\n",
       "      <td>sight_left</td>\n",
       "    </tr>\n",
       "    <tr>\n",
       "      <th>GB</th>\n",
       "      <td>gamma_GTP</td>\n",
       "      <td>age</td>\n",
       "      <td>HDL_chole</td>\n",
       "      <td>SGOT_ALT</td>\n",
       "      <td>hemoglobin</td>\n",
       "    </tr>\n",
       "    <tr>\n",
       "      <th>SVM</th>\n",
       "      <td>gamma_GTP</td>\n",
       "      <td>age</td>\n",
       "      <td>SGOT_ALT</td>\n",
       "      <td>HDL_chole</td>\n",
       "      <td>triglyceride</td>\n",
       "    </tr>\n",
       "    <tr>\n",
       "      <th>Random Forest</th>\n",
       "      <td>gamma_GTP</td>\n",
       "      <td>HDL_chole</td>\n",
       "      <td>age</td>\n",
       "      <td>triglyceride</td>\n",
       "      <td>hemoglobin</td>\n",
       "    </tr>\n",
       "    <tr>\n",
       "      <th>AdaBoost</th>\n",
       "      <td>SGOT_ALT</td>\n",
       "      <td>HDL_chole</td>\n",
       "      <td>age</td>\n",
       "      <td>SGOT_AST</td>\n",
       "      <td>serum_creatinine</td>\n",
       "    </tr>\n",
       "  </tbody>\n",
       "</table>\n",
       "</div>"
      ],
      "text/plain": [
       "                    top1        top2       top3          top4  \\\n",
       "Logistic             sex  hemoglobin  HDL_chole      SGOT_AST   \n",
       "GB             gamma_GTP         age  HDL_chole      SGOT_ALT   \n",
       "SVM            gamma_GTP         age   SGOT_ALT     HDL_chole   \n",
       "Random Forest  gamma_GTP   HDL_chole        age  triglyceride   \n",
       "AdaBoost        SGOT_ALT   HDL_chole        age      SGOT_AST   \n",
       "\n",
       "                           top5  \n",
       "Logistic             sight_left  \n",
       "GB                   hemoglobin  \n",
       "SVM                triglyceride  \n",
       "Random Forest        hemoglobin  \n",
       "AdaBoost       serum_creatinine  "
      ]
     },
     "execution_count": 29,
     "metadata": {},
     "output_type": "execute_result"
    }
   ],
   "source": [
    "order = np.argsort(-dk_feature_importance.values, axis=1)[:,:5]\n",
    "top5_important_features_dk = pd.DataFrame(df.columns[:-3].append(df.columns[-1:])[order], \n",
    "                                           columns=['top{}'.format(i) for i in range(1,5+1)],\n",
    "                                           index=dk_best_models_name)\n",
    "top5_important_features_dk"
   ]
  },
  {
   "cell_type": "markdown",
   "metadata": {},
   "source": [
    "### Features Importance for Best Base Models -- Smoking"
   ]
  },
  {
   "cell_type": "code",
   "execution_count": 30,
   "metadata": {},
   "outputs": [
    {
     "data": {
      "text/html": [
       "<div>\n",
       "<style scoped>\n",
       "    .dataframe tbody tr th:only-of-type {\n",
       "        vertical-align: middle;\n",
       "    }\n",
       "\n",
       "    .dataframe tbody tr th {\n",
       "        vertical-align: top;\n",
       "    }\n",
       "\n",
       "    .dataframe thead th {\n",
       "        text-align: right;\n",
       "    }\n",
       "</style>\n",
       "<table border=\"1\" class=\"dataframe\">\n",
       "  <thead>\n",
       "    <tr style=\"text-align: right;\">\n",
       "      <th></th>\n",
       "      <th>sex</th>\n",
       "      <th>age</th>\n",
       "      <th>waistline</th>\n",
       "      <th>sight_left</th>\n",
       "      <th>sight_right</th>\n",
       "      <th>hear_left</th>\n",
       "      <th>hear_right</th>\n",
       "      <th>SBP</th>\n",
       "      <th>DBP</th>\n",
       "      <th>BLDS</th>\n",
       "      <th>HDL_chole</th>\n",
       "      <th>LDL_chole</th>\n",
       "      <th>triglyceride</th>\n",
       "      <th>hemoglobin</th>\n",
       "      <th>urine_protein</th>\n",
       "      <th>serum_creatinine</th>\n",
       "      <th>SGOT_AST</th>\n",
       "      <th>SGOT_ALT</th>\n",
       "      <th>gamma_GTP</th>\n",
       "      <th>bmi</th>\n",
       "    </tr>\n",
       "  </thead>\n",
       "  <tbody>\n",
       "    <tr>\n",
       "      <th>Logistic</th>\n",
       "      <td>-2.040007</td>\n",
       "      <td>-0.007554</td>\n",
       "      <td>0.001449</td>\n",
       "      <td>0.052689</td>\n",
       "      <td>-0.007033</td>\n",
       "      <td>-0.012471</td>\n",
       "      <td>0.055012</td>\n",
       "      <td>0.008464</td>\n",
       "      <td>-0.004022</td>\n",
       "      <td>-0.001596</td>\n",
       "      <td>0.004122</td>\n",
       "      <td>0.000529</td>\n",
       "      <td>-0.001199</td>\n",
       "      <td>-0.036709</td>\n",
       "      <td>-0.083812</td>\n",
       "      <td>-0.036835</td>\n",
       "      <td>0.001968</td>\n",
       "      <td>-0.000947</td>\n",
       "      <td>-0.002489</td>\n",
       "      <td>0.007216</td>\n",
       "    </tr>\n",
       "    <tr>\n",
       "      <th>GB</th>\n",
       "      <td>0.597464</td>\n",
       "      <td>0.111289</td>\n",
       "      <td>0.013135</td>\n",
       "      <td>0.003950</td>\n",
       "      <td>0.007934</td>\n",
       "      <td>0.000596</td>\n",
       "      <td>0.000302</td>\n",
       "      <td>0.016478</td>\n",
       "      <td>0.010457</td>\n",
       "      <td>0.013546</td>\n",
       "      <td>0.022929</td>\n",
       "      <td>0.016446</td>\n",
       "      <td>0.025813</td>\n",
       "      <td>0.048350</td>\n",
       "      <td>0.000571</td>\n",
       "      <td>0.013189</td>\n",
       "      <td>0.018464</td>\n",
       "      <td>0.018420</td>\n",
       "      <td>0.031065</td>\n",
       "      <td>0.029604</td>\n",
       "    </tr>\n",
       "    <tr>\n",
       "      <th>SVM</th>\n",
       "      <td>0.002639</td>\n",
       "      <td>0.063500</td>\n",
       "      <td>0.027194</td>\n",
       "      <td>0.000056</td>\n",
       "      <td>-0.000028</td>\n",
       "      <td>0.000000</td>\n",
       "      <td>0.000000</td>\n",
       "      <td>0.004472</td>\n",
       "      <td>0.002000</td>\n",
       "      <td>0.004167</td>\n",
       "      <td>0.026278</td>\n",
       "      <td>0.004056</td>\n",
       "      <td>0.019694</td>\n",
       "      <td>0.008083</td>\n",
       "      <td>-0.000139</td>\n",
       "      <td>-0.000028</td>\n",
       "      <td>0.004583</td>\n",
       "      <td>0.004917</td>\n",
       "      <td>0.042250</td>\n",
       "      <td>0.005556</td>\n",
       "    </tr>\n",
       "    <tr>\n",
       "      <th>Random Forest</th>\n",
       "      <td>0.129999</td>\n",
       "      <td>0.056996</td>\n",
       "      <td>0.059298</td>\n",
       "      <td>0.032634</td>\n",
       "      <td>0.032375</td>\n",
       "      <td>0.002557</td>\n",
       "      <td>0.002176</td>\n",
       "      <td>0.051222</td>\n",
       "      <td>0.046810</td>\n",
       "      <td>0.055465</td>\n",
       "      <td>0.057220</td>\n",
       "      <td>0.058876</td>\n",
       "      <td>0.060324</td>\n",
       "      <td>0.088390</td>\n",
       "      <td>0.005174</td>\n",
       "      <td>0.048300</td>\n",
       "      <td>0.048052</td>\n",
       "      <td>0.051724</td>\n",
       "      <td>0.061578</td>\n",
       "      <td>0.050828</td>\n",
       "    </tr>\n",
       "    <tr>\n",
       "      <th>AdaBoost</th>\n",
       "      <td>0.020000</td>\n",
       "      <td>0.100000</td>\n",
       "      <td>0.040000</td>\n",
       "      <td>0.020000</td>\n",
       "      <td>0.060000</td>\n",
       "      <td>0.000000</td>\n",
       "      <td>0.000000</td>\n",
       "      <td>0.100000</td>\n",
       "      <td>0.060000</td>\n",
       "      <td>0.080000</td>\n",
       "      <td>0.040000</td>\n",
       "      <td>0.040000</td>\n",
       "      <td>0.060000</td>\n",
       "      <td>0.060000</td>\n",
       "      <td>0.000000</td>\n",
       "      <td>0.040000</td>\n",
       "      <td>0.040000</td>\n",
       "      <td>0.080000</td>\n",
       "      <td>0.080000</td>\n",
       "      <td>0.080000</td>\n",
       "    </tr>\n",
       "  </tbody>\n",
       "</table>\n",
       "</div>"
      ],
      "text/plain": [
       "                    sex       age  waistline  sight_left  sight_right  \\\n",
       "Logistic      -2.040007 -0.007554   0.001449    0.052689    -0.007033   \n",
       "GB             0.597464  0.111289   0.013135    0.003950     0.007934   \n",
       "SVM            0.002639  0.063500   0.027194    0.000056    -0.000028   \n",
       "Random Forest  0.129999  0.056996   0.059298    0.032634     0.032375   \n",
       "AdaBoost       0.020000  0.100000   0.040000    0.020000     0.060000   \n",
       "\n",
       "               hear_left  hear_right       SBP       DBP      BLDS  HDL_chole  \\\n",
       "Logistic       -0.012471    0.055012  0.008464 -0.004022 -0.001596   0.004122   \n",
       "GB              0.000596    0.000302  0.016478  0.010457  0.013546   0.022929   \n",
       "SVM             0.000000    0.000000  0.004472  0.002000  0.004167   0.026278   \n",
       "Random Forest   0.002557    0.002176  0.051222  0.046810  0.055465   0.057220   \n",
       "AdaBoost        0.000000    0.000000  0.100000  0.060000  0.080000   0.040000   \n",
       "\n",
       "               LDL_chole  triglyceride  hemoglobin  urine_protein  \\\n",
       "Logistic        0.000529     -0.001199   -0.036709      -0.083812   \n",
       "GB              0.016446      0.025813    0.048350       0.000571   \n",
       "SVM             0.004056      0.019694    0.008083      -0.000139   \n",
       "Random Forest   0.058876      0.060324    0.088390       0.005174   \n",
       "AdaBoost        0.040000      0.060000    0.060000       0.000000   \n",
       "\n",
       "               serum_creatinine  SGOT_AST  SGOT_ALT  gamma_GTP       bmi  \n",
       "Logistic              -0.036835  0.001968 -0.000947  -0.002489  0.007216  \n",
       "GB                     0.013189  0.018464  0.018420   0.031065  0.029604  \n",
       "SVM                   -0.000028  0.004583  0.004917   0.042250  0.005556  \n",
       "Random Forest          0.048300  0.048052  0.051724   0.061578  0.050828  \n",
       "AdaBoost               0.040000  0.040000  0.080000   0.080000  0.080000  "
      ]
     },
     "execution_count": 30,
     "metadata": {},
     "output_type": "execute_result"
    }
   ],
   "source": [
    "smk_best_models_name = [i for i in smk_best_models if i!='KNN']\n",
    "smk_feature_importance = feature_importances(smk_best_models, x_smk_train, y_smk_train)\n",
    "smk_feature_importance = pd.DataFrame(smk_feature_importance, columns = feature_names, index=smk_best_models_name)\n",
    "smk_feature_importance"
   ]
  },
  {
   "cell_type": "markdown",
   "metadata": {},
   "source": [
    "__Top 5 Importance Features__"
   ]
  },
  {
   "cell_type": "code",
   "execution_count": 31,
   "metadata": {},
   "outputs": [
    {
     "data": {
      "text/html": [
       "<div>\n",
       "<style scoped>\n",
       "    .dataframe tbody tr th:only-of-type {\n",
       "        vertical-align: middle;\n",
       "    }\n",
       "\n",
       "    .dataframe tbody tr th {\n",
       "        vertical-align: top;\n",
       "    }\n",
       "\n",
       "    .dataframe thead th {\n",
       "        text-align: right;\n",
       "    }\n",
       "</style>\n",
       "<table border=\"1\" class=\"dataframe\">\n",
       "  <thead>\n",
       "    <tr style=\"text-align: right;\">\n",
       "      <th></th>\n",
       "      <th>top1</th>\n",
       "      <th>top2</th>\n",
       "      <th>top3</th>\n",
       "      <th>top4</th>\n",
       "      <th>top5</th>\n",
       "    </tr>\n",
       "  </thead>\n",
       "  <tbody>\n",
       "    <tr>\n",
       "      <th>Logistic</th>\n",
       "      <td>hear_right</td>\n",
       "      <td>sight_left</td>\n",
       "      <td>SBP</td>\n",
       "      <td>bmi</td>\n",
       "      <td>HDL_chole</td>\n",
       "    </tr>\n",
       "    <tr>\n",
       "      <th>GB</th>\n",
       "      <td>sex</td>\n",
       "      <td>age</td>\n",
       "      <td>hemoglobin</td>\n",
       "      <td>gamma_GTP</td>\n",
       "      <td>bmi</td>\n",
       "    </tr>\n",
       "    <tr>\n",
       "      <th>SVM</th>\n",
       "      <td>age</td>\n",
       "      <td>gamma_GTP</td>\n",
       "      <td>waistline</td>\n",
       "      <td>HDL_chole</td>\n",
       "      <td>triglyceride</td>\n",
       "    </tr>\n",
       "    <tr>\n",
       "      <th>Random Forest</th>\n",
       "      <td>sex</td>\n",
       "      <td>hemoglobin</td>\n",
       "      <td>gamma_GTP</td>\n",
       "      <td>triglyceride</td>\n",
       "      <td>waistline</td>\n",
       "    </tr>\n",
       "    <tr>\n",
       "      <th>AdaBoost</th>\n",
       "      <td>age</td>\n",
       "      <td>SBP</td>\n",
       "      <td>BLDS</td>\n",
       "      <td>SGOT_ALT</td>\n",
       "      <td>gamma_GTP</td>\n",
       "    </tr>\n",
       "  </tbody>\n",
       "</table>\n",
       "</div>"
      ],
      "text/plain": [
       "                     top1        top2        top3          top4          top5\n",
       "Logistic       hear_right  sight_left         SBP           bmi     HDL_chole\n",
       "GB                    sex         age  hemoglobin     gamma_GTP           bmi\n",
       "SVM                   age   gamma_GTP   waistline     HDL_chole  triglyceride\n",
       "Random Forest         sex  hemoglobin   gamma_GTP  triglyceride     waistline\n",
       "AdaBoost              age         SBP        BLDS      SGOT_ALT     gamma_GTP"
      ]
     },
     "execution_count": 31,
     "metadata": {},
     "output_type": "execute_result"
    }
   ],
   "source": [
    "order = np.argsort(-smk_feature_importance.values, axis=1)[:,:5]\n",
    "top5_important_features_smk = pd.DataFrame(df.columns[:-3].append(df.columns[-1:])[order], \n",
    "                                           columns=['top{}'.format(i) for i in range(1,5+1)],\n",
    "                                           index=smk_best_models_name)\n",
    "top5_important_features_smk"
   ]
  },
  {
   "cell_type": "code",
   "execution_count": null,
   "metadata": {},
   "outputs": [],
   "source": []
  },
  {
   "cell_type": "code",
   "execution_count": null,
   "metadata": {},
   "outputs": [],
   "source": []
  }
 ],
 "metadata": {
  "kernelspec": {
   "display_name": "ANLY501",
   "language": "python",
   "name": "python3"
  },
  "language_info": {
   "codemirror_mode": {
    "name": "ipython",
    "version": 3
   },
   "file_extension": ".py",
   "mimetype": "text/x-python",
   "name": "python",
   "nbconvert_exporter": "python",
   "pygments_lexer": "ipython3",
   "version": "3.9.18"
  }
 },
 "nbformat": 4,
 "nbformat_minor": 2
}
