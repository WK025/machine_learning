{
 "cells": [
  {
   "cell_type": "code",
   "execution_count": 1,
   "metadata": {},
   "outputs": [],
   "source": [
    "import pandas as pd\n",
    "from sklearn.model_selection import train_test_split\n",
    "from sklearn.linear_model import LogisticRegression\n",
    "from sklearn.ensemble import RandomForestClassifier, GradientBoostingClassifier, BaggingClassifier, StackingClassifier, AdaBoostClassifier\n",
    "from sklearn.svm import SVC\n",
    "from sklearn.inspection import permutation_importance\n",
    "from sklearn.metrics import accuracy_score, classification_report\n",
    "from sklearn.exceptions import ConvergenceWarning\n",
    "import warnings\n",
    "warnings.filterwarnings(\"ignore\", category=ConvergenceWarning)\n",
    "warnings.filterwarnings(\"ignore\")\n",
    "import random\n",
    "import pickle\n",
    "random.seed(100)"
   ]
  },
  {
   "cell_type": "code",
   "execution_count": 2,
   "metadata": {},
   "outputs": [],
   "source": [
    "df = pd.read_csv(\"datasets/downsampled_dataset_after_feature_selection.csv\")\n",
    "X = df.drop(['SMK_stat_type_cd','DRK_YN'], axis=1)\n",
    "y_smoke = df['SMK_stat_type_cd']\n",
    "y_drink = df['DRK_YN']\n",
    "\n",
    "# Split the dataset into a training set (80%) and a test set (20%)\n",
    "x_smk_train, x_smk_test, y_smk_train, y_smk_test = train_test_split(X, y_smoke, test_size=0.2, random_state=42)\n",
    "x_dk_train, x_dk_test, y_dk_train, y_dk_test = train_test_split(X, y_drink, test_size=0.2, random_state=42)"
   ]
  },
  {
   "cell_type": "code",
   "execution_count": 9,
   "metadata": {},
   "outputs": [
    {
     "data": {
      "text/html": [
       "<style>#sk-container-id-2 {color: black;background-color: white;}#sk-container-id-2 pre{padding: 0;}#sk-container-id-2 div.sk-toggleable {background-color: white;}#sk-container-id-2 label.sk-toggleable__label {cursor: pointer;display: block;width: 100%;margin-bottom: 0;padding: 0.3em;box-sizing: border-box;text-align: center;}#sk-container-id-2 label.sk-toggleable__label-arrow:before {content: \"▸\";float: left;margin-right: 0.25em;color: #696969;}#sk-container-id-2 label.sk-toggleable__label-arrow:hover:before {color: black;}#sk-container-id-2 div.sk-estimator:hover label.sk-toggleable__label-arrow:before {color: black;}#sk-container-id-2 div.sk-toggleable__content {max-height: 0;max-width: 0;overflow: hidden;text-align: left;background-color: #f0f8ff;}#sk-container-id-2 div.sk-toggleable__content pre {margin: 0.2em;color: black;border-radius: 0.25em;background-color: #f0f8ff;}#sk-container-id-2 input.sk-toggleable__control:checked~div.sk-toggleable__content {max-height: 200px;max-width: 100%;overflow: auto;}#sk-container-id-2 input.sk-toggleable__control:checked~label.sk-toggleable__label-arrow:before {content: \"▾\";}#sk-container-id-2 div.sk-estimator input.sk-toggleable__control:checked~label.sk-toggleable__label {background-color: #d4ebff;}#sk-container-id-2 div.sk-label input.sk-toggleable__control:checked~label.sk-toggleable__label {background-color: #d4ebff;}#sk-container-id-2 input.sk-hidden--visually {border: 0;clip: rect(1px 1px 1px 1px);clip: rect(1px, 1px, 1px, 1px);height: 1px;margin: -1px;overflow: hidden;padding: 0;position: absolute;width: 1px;}#sk-container-id-2 div.sk-estimator {font-family: monospace;background-color: #f0f8ff;border: 1px dotted black;border-radius: 0.25em;box-sizing: border-box;margin-bottom: 0.5em;}#sk-container-id-2 div.sk-estimator:hover {background-color: #d4ebff;}#sk-container-id-2 div.sk-parallel-item::after {content: \"\";width: 100%;border-bottom: 1px solid gray;flex-grow: 1;}#sk-container-id-2 div.sk-label:hover label.sk-toggleable__label {background-color: #d4ebff;}#sk-container-id-2 div.sk-serial::before {content: \"\";position: absolute;border-left: 1px solid gray;box-sizing: border-box;top: 0;bottom: 0;left: 50%;z-index: 0;}#sk-container-id-2 div.sk-serial {display: flex;flex-direction: column;align-items: center;background-color: white;padding-right: 0.2em;padding-left: 0.2em;position: relative;}#sk-container-id-2 div.sk-item {position: relative;z-index: 1;}#sk-container-id-2 div.sk-parallel {display: flex;align-items: stretch;justify-content: center;background-color: white;position: relative;}#sk-container-id-2 div.sk-item::before, #sk-container-id-2 div.sk-parallel-item::before {content: \"\";position: absolute;border-left: 1px solid gray;box-sizing: border-box;top: 0;bottom: 0;left: 50%;z-index: -1;}#sk-container-id-2 div.sk-parallel-item {display: flex;flex-direction: column;z-index: 1;position: relative;background-color: white;}#sk-container-id-2 div.sk-parallel-item:first-child::after {align-self: flex-end;width: 50%;}#sk-container-id-2 div.sk-parallel-item:last-child::after {align-self: flex-start;width: 50%;}#sk-container-id-2 div.sk-parallel-item:only-child::after {width: 0;}#sk-container-id-2 div.sk-dashed-wrapped {border: 1px dashed gray;margin: 0 0.4em 0.5em 0.4em;box-sizing: border-box;padding-bottom: 0.4em;background-color: white;}#sk-container-id-2 div.sk-label label {font-family: monospace;font-weight: bold;display: inline-block;line-height: 1.2em;}#sk-container-id-2 div.sk-label-container {text-align: center;}#sk-container-id-2 div.sk-container {/* jupyter's `normalize.less` sets `[hidden] { display: none; }` but bootstrap.min.css set `[hidden] { display: none !important; }` so we also need the `!important` here to be able to override the default hidden behavior on the sphinx rendered scikit-learn.org. See: https://github.com/scikit-learn/scikit-learn/issues/21755 */display: inline-block !important;position: relative;}#sk-container-id-2 div.sk-text-repr-fallback {display: none;}</style><div id=\"sk-container-id-2\" class=\"sk-top-container\"><div class=\"sk-text-repr-fallback\"><pre>AdaBoostClassifier()</pre><b>In a Jupyter environment, please rerun this cell to show the HTML representation or trust the notebook. <br />On GitHub, the HTML representation is unable to render, please try loading this page with nbviewer.org.</b></div><div class=\"sk-container\" hidden><div class=\"sk-item\"><div class=\"sk-estimator sk-toggleable\"><input class=\"sk-toggleable__control sk-hidden--visually\" id=\"sk-estimator-id-2\" type=\"checkbox\" checked><label for=\"sk-estimator-id-2\" class=\"sk-toggleable__label sk-toggleable__label-arrow\">AdaBoostClassifier</label><div class=\"sk-toggleable__content\"><pre>AdaBoostClassifier()</pre></div></div></div></div></div>"
      ],
      "text/plain": [
       "AdaBoostClassifier()"
      ]
     },
     "execution_count": 9,
     "metadata": {},
     "output_type": "execute_result"
    }
   ],
   "source": [
    "# Logistic Regression\n",
    "logistic_dk_model = LogisticRegression(max_iter=10000)\n",
    "logistic_dk_model.fit(x_dk_train, y_dk_train)\n",
    "\n",
    "logistic_smk_model = LogisticRegression(max_iter=10000)\n",
    "logistic_smk_model.fit(x_smk_train, y_smk_train)\n",
    "\n",
    "# GradientBoosting\n",
    "gb_dk_model = GradientBoostingClassifier()\n",
    "gb_dk_model.fit(x_dk_train, y_dk_train)\n",
    "\n",
    "gb_smk_model = GradientBoostingClassifier()\n",
    "gb_smk_model.fit(x_smk_train, y_smk_train)\n",
    "\n",
    "# SVM\n",
    "svc_dk_model = SVC()\n",
    "svc_dk_model.fit(x_dk_train, y_dk_train)\n",
    "\n",
    "svc_smk_model = SVC()\n",
    "svc_smk_model.fit(x_smk_train, y_smk_train)\n",
    "\n",
    "# RandomForest\n",
    "rf_dk_model = RandomForestClassifier()\n",
    "rf_dk_model.fit(x_dk_train, y_dk_train)\n",
    "\n",
    "rf_smk_model = RandomForestClassifier()\n",
    "rf_smk_model.fit(x_smk_train, y_smk_train)\n",
    "\n",
    "# AdaBoost\n",
    "ada_dk_model = AdaBoostClassifier()\n",
    "ada_dk_model.fit(x_dk_train, y_dk_train)\n",
    "\n",
    "ada_smk_model = AdaBoostClassifier()\n",
    "ada_smk_model.fit(x_smk_train, y_smk_train)\n"
   ]
  },
  {
   "cell_type": "code",
   "execution_count": 13,
   "metadata": {},
   "outputs": [
    {
     "name": "stdout",
     "output_type": "stream",
     "text": [
      "LogisticPickleDrinking.pkl saved.\n",
      "LogisticPickleSmoking.pkl saved.\n",
      "GradientBoostPickleDrinking.pkl saved.\n",
      "GradientBoostPickleSmoking.pkl saved.\n",
      "SVMPickleDrinking.pkl saved.\n",
      "SVMPickleSmoking.pkl saved.\n",
      "RandomForestPickleDrinking.pkl saved.\n",
      "RandomForestPickleSmoking.pkl saved.\n",
      "AdaBoostPickleDrinking.pkl saved.\n",
      "AdaBoostPickleSmoking.pkl saved.\n"
     ]
    }
   ],
   "source": [
    "pkl_filename = [(\"LogisticPickleDrinking.pkl\",logistic_dk_model),(\"LogisticPickleSmoking.pkl\",logistic_smk_model),\n",
    "                (\"GradientBoostPickleDrinking.pkl\",gb_dk_model),(\"GradientBoostPickleSmoking.pkl\",gb_smk_model),\n",
    "                (\"SVMPickleDrinking.pkl\",svc_dk_model),(\"SVMPickleSmoking.pkl\",svc_smk_model),\n",
    "                (\"RandomForestPickleDrinking.pkl\", rf_dk_model), (\"RandomForestPickleSmoking.pkl\", rf_smk_model),\n",
    "                (\"AdaBoostPickleDrinking.pkl\",ada_dk_model),(\"AdaBoostPickleSmoking.pkl\",ada_smk_model)]\n",
    "for i in range(10):\n",
    "    print(f\"{pkl_filename[i][0]}\",\"saved.\")\n",
    "    with open('./saved_stacked_models/'+pkl_filename[i][0], 'wb') as file:\n",
    "        pickle.dump(pkl_filename[i][1], file)"
   ]
  },
  {
   "cell_type": "code",
   "execution_count": 3,
   "metadata": {},
   "outputs": [
    {
     "name": "stdout",
     "output_type": "stream",
     "text": [
      "Test score: 67.06 %\n"
     ]
    }
   ],
   "source": [
    "# Load from file\n",
    "with open('./saved_stacked_models/AdaBoostPickleDrinking.pkl', 'rb') as file:\n",
    "    pickle_model = pickle.load(file)\n",
    "\n",
    "dk_score = pickle_model.score(x_dk_test, y_dk_test)\n",
    "print(\"Test score: {0:.2f} %\".format(100 * dk_score))\n",
    "dk_y_predict = pickle_model.predict(x_dk_test)"
   ]
  },
  {
   "cell_type": "code",
   "execution_count": null,
   "metadata": {},
   "outputs": [],
   "source": []
  }
 ],
 "metadata": {
  "kernelspec": {
   "display_name": "ml",
   "language": "python",
   "name": "python3"
  },
  "language_info": {
   "codemirror_mode": {
    "name": "ipython",
    "version": 3
   },
   "file_extension": ".py",
   "mimetype": "text/x-python",
   "name": "python",
   "nbconvert_exporter": "python",
   "pygments_lexer": "ipython3",
   "version": "3.11.0"
  }
 },
 "nbformat": 4,
 "nbformat_minor": 2
}
